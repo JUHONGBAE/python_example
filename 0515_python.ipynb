{
  "nbformat": 4,
  "nbformat_minor": 0,
  "metadata": {
    "colab": {
      "provenance": [],
      "include_colab_link": true
    },
    "kernelspec": {
      "name": "python3",
      "display_name": "Python 3"
    },
    "language_info": {
      "name": "python"
    }
  },
  "cells": [
    {
      "cell_type": "markdown",
      "metadata": {
        "id": "view-in-github",
        "colab_type": "text"
      },
      "source": [
        "<a href=\"https://colab.research.google.com/github/JUHONGBAE/python_example/blob/master/0515_python.ipynb\" target=\"_parent\"><img src=\"https://colab.research.google.com/assets/colab-badge.svg\" alt=\"Open In Colab\"/></a>"
      ]
    },
    {
      "cell_type": "markdown",
      "source": [
        "* colab에 좋은 점: 시각화가 잘 되어 있고, 설치가 필요 없고, 학습을 빠르게 할 수 있다.\n",
        "* .py에 좋은 점: 실무에서는 colab으로 개발하는 것이 아닙니다! .py로 만들어서 개발해야 합니다."
      ],
      "metadata": {
        "id": "VAOo9cTmZPA4"
      }
    },
    {
      "cell_type": "markdown",
      "source": [
        "# colab\n",
        "\n",
        "- google id만 있으면 ram을 12G, disk를 100G나 되는 원격 컴퓨터를 무료로 준다!\n",
        "- 여기에는 Python 환경이 모두 설정이 되어 있어서 별도의 설정이 필요 없다!\n",
        "- google drive가 자동 연동되어서 별도로 다운로드 해서 저장할 필요가 없다!\n",
        "- Ctrl + Enter: 현재 셀 실행\n",
        "- Alt + Enter: 현재 셀 실행 + 아래 셀 하나 만들기"
      ],
      "metadata": {
        "id": "f53lgqqhIoK1"
      }
    },
    {
      "cell_type": "markdown",
      "source": [
        "## 마크업과 마크다운\n",
        "\n",
        "```\n",
        "- HTML은 웹 브라우저나 고급 문서를 표현\n",
        "<h1>hello world</h1>\n",
        "<h2>hello world</h2>\n",
        "<p>hello world</p>\n",
        "\n",
        "- Markdown은 서식이 필요치 않은 문서를 표현\n",
        "# hello world\n",
        "## hello world\n",
        "```\n",
        "\n",
        "## 마크 다운 문법(우리가 사용할 문법)\n",
        "\n",
        "```\n",
        "# hello world\n",
        "## hello world\n",
        "### hello world\n",
        "\n",
        "- hello world\n",
        "- hello world\n",
        "- hello world\n",
        "\n",
        "1. hello world\n",
        "2. hello world\n",
        "3. hello world\n",
        "```"
      ],
      "metadata": {
        "id": "NxQ1delAFROL"
      }
    },
    {
      "cell_type": "markdown",
      "source": [
        "# range"
      ],
      "metadata": {
        "id": "IeDLJCj3QY58"
      }
    },
    {
      "cell_type": "code",
      "source": [
        "range(1, 10, 2) # start, stop, step"
      ],
      "metadata": {
        "id": "j_LUTKCpZ6Fq"
      },
      "execution_count": null,
      "outputs": []
    },
    {
      "cell_type": "code",
      "execution_count": null,
      "metadata": {
        "colab": {
          "base_uri": "https://localhost:8080/"
        },
        "id": "2JE6SzafCBkD",
        "outputId": "16ff33a8-af98-414a-81e4-47298b516db7"
      },
      "outputs": [
        {
          "output_type": "execute_result",
          "data": {
            "text/plain": [
              "[10, 20, 30, 40]"
            ]
          },
          "metadata": {},
          "execution_count": 1
        }
      ],
      "source": [
        "l = [10, 20, 30, 40]\n",
        "l # 이렇게 마지막 라인에 한하여 print를 안해도 출력이 됩니다."
      ]
    },
    {
      "cell_type": "code",
      "source": [
        "range(0, 10)\n",
        "# [0, 1, 2, 3, 4, 5, 6, 7, 8, 9] # 아니? 이렇게 왜 안나오는거지?"
      ],
      "metadata": {
        "colab": {
          "base_uri": "https://localhost:8080/"
        },
        "id": "8v1f7fDmJw0x",
        "outputId": "c8eceee3-e386-4603-a888-76ce6231ded3"
      },
      "execution_count": null,
      "outputs": [
        {
          "output_type": "execute_result",
          "data": {
            "text/plain": [
              "range(0, 10)"
            ]
          },
          "metadata": {},
          "execution_count": 2
        }
      ]
    },
    {
      "cell_type": "code",
      "source": [
        "# range()는 python 2.x에서는 list였습니다!!!!?\n",
        "type(range(0, 10)) # 왜 range라는 타입일까요?"
      ],
      "metadata": {
        "colab": {
          "base_uri": "https://localhost:8080/"
        },
        "id": "jn8MOgFHKe5_",
        "outputId": "0dca8c06-2f70-4986-d74c-51f40bfa5e1d"
      },
      "execution_count": null,
      "outputs": [
        {
          "output_type": "execute_result",
          "data": {
            "text/plain": [
              "range"
            ]
          },
          "metadata": {},
          "execution_count": 4
        }
      ]
    },
    {
      "cell_type": "code",
      "source": [
        "# 파이썬은 속도를 올리기 위한 작업을 매 버전마다 해왔습니다.\n",
        "# 그래서 최종 목표는 C의 속도를 따라잡는 것입니다.\n",
        "# range(10000000000000000) 이렇게 데이터를 생성한다고 생각해보세요.\n",
        "# 0 ~ 10000000000000000에 숫자를 모두 메모리에 올려야 합니다.\n",
        "# xrange()라는 것을 만들어서 이를 해결했습니다.\n",
        "# xrange는 숫자를 생성하지 않고, start, stop, step 값으로 호출을 할 때 하나씩 생성을 하는 방식을 새롭게 도입했습니다.\n",
        "# xrange가 3.x로 오면서 range가 된 것입니다!"
      ],
      "metadata": {
        "id": "FjJ2iVzJLDBV"
      },
      "execution_count": null,
      "outputs": []
    },
    {
      "cell_type": "code",
      "source": [
        "# range()의 인덱싱\n",
        "range(100)[3]\n",
        "range(100, 1000, 100)[3]"
      ],
      "metadata": {
        "colab": {
          "base_uri": "https://localhost:8080/"
        },
        "id": "R3eC49kxPdvM",
        "outputId": "8faa93eb-fa13-4c6c-99c2-6f66061173d5"
      },
      "execution_count": null,
      "outputs": [
        {
          "output_type": "execute_result",
          "data": {
            "text/plain": [
              "400"
            ]
          },
          "metadata": {},
          "execution_count": 10
        }
      ]
    },
    {
      "cell_type": "code",
      "source": [
        "# range()의 슬라이싱\n",
        "range(100)[1:10]"
      ],
      "metadata": {
        "colab": {
          "base_uri": "https://localhost:8080/"
        },
        "id": "1xqs28WGPhYp",
        "outputId": "8c889a22-7ba2-496a-b9c9-98f12b8cec00"
      },
      "execution_count": null,
      "outputs": [
        {
          "output_type": "execute_result",
          "data": {
            "text/plain": [
              "range(1, 10)"
            ]
          },
          "metadata": {},
          "execution_count": 9
        }
      ]
    },
    {
      "cell_type": "code",
      "source": [
        "# range의 step 음수 값\n",
        "list(range(100, 9, -10))"
      ],
      "metadata": {
        "colab": {
          "base_uri": "https://localhost:8080/"
        },
        "id": "rWOT9629P6Od",
        "outputId": "02fac8cd-f33c-4f31-9cbf-40fe37fb30ac"
      },
      "execution_count": null,
      "outputs": [
        {
          "output_type": "execute_result",
          "data": {
            "text/plain": [
              "[100, 90, 80, 70, 60, 50, 40, 30, 20, 10]"
            ]
          },
          "metadata": {},
          "execution_count": 13
        }
      ]
    },
    {
      "cell_type": "markdown",
      "source": [
        "# function"
      ],
      "metadata": {
        "id": "xhjY56T9Qfzk"
      }
    },
    {
      "cell_type": "code",
      "source": [
        "# function이라는 것이 왜 필요했을까?\n",
        "# 첫번째 이유\n",
        "\n",
        "x = 10 # 이 코드가 반복되니 이 코드의 이름을 hello라고 하고, 이 코드 자리에 hello를 놓자!\n",
        "y = 20\n",
        "print(x + y)\n",
        "\n",
        "a = 10\n",
        "\n",
        "x = 10\n",
        "y = 20\n",
        "print(x + y)\n",
        "\n",
        "b = 20\n",
        "\n",
        "x = 10\n",
        "y = 20\n",
        "print(x + y)\n",
        "\n",
        "a + b\n",
        "\n",
        "x = 10\n",
        "y = 20\n",
        "print(x + y)\n",
        "\n",
        "a - b\n",
        "\n",
        "x = 10\n",
        "y = 20\n",
        "print(x + y)"
      ],
      "metadata": {
        "id": "h8TlKZa45HOE"
      },
      "execution_count": null,
      "outputs": []
    },
    {
      "cell_type": "code",
      "source": [
        "# function이라는 것이 왜 필요했을까?\n",
        "# 반복되는 코드가 줄어들었다!\n",
        "\n",
        "def hello():\n",
        "    x = 10\n",
        "    y = 20\n",
        "    print(x + y)\n",
        "\n",
        "hello()\n",
        "a = 10\n",
        "hello()\n",
        "b = 20\n",
        "hello()\n",
        "a + b\n",
        "hello()\n",
        "a - b\n",
        "hello()"
      ],
      "metadata": {
        "id": "JxFzZ4gk5uvg"
      },
      "execution_count": null,
      "outputs": []
    },
    {
      "cell_type": "code",
      "source": [
        "# 두 번째 이유\n",
        "# 수만줄의 코드도 아래와 같이 함수로 쌓여있으면 '구조를 파악'하기 쉽습니다.\n",
        "\n",
        "땅파기()\n",
        "땅다지기()\n",
        "상하수도설치()\n",
        "벽돌쌓기()\n",
        "지붕올리기()\n",
        "내부인테리어()"
      ],
      "metadata": {
        "id": "ST1fCcD85_h7"
      },
      "execution_count": null,
      "outputs": []
    },
    {
      "cell_type": "code",
      "source": [
        "# 세 번째 이유\n",
        "# 알지 않아도 되는 코드를 들여다보지 않을 수 있어요.\n",
        "# 추상화\n",
        "# 여러분이 자동차를 운전할 때 자동차 패달을 밟는다 해서\n",
        "# 엔진을 뜯어볼 필요가 있나요?\n",
        "# 파이썬에서 추상화란 복잡한 내부 구현을 숨기고\n",
        "# 필요한 기능만 외부에 노출시켜 코드를 더 이해하기 쉽고 사용하기 편리하게 만드는 개념입니다.\n",
        "\n",
        "땅파기()\n",
        "땅다지기()\n",
        "상하수도설치()\n",
        "벽돌쌓기() # 내 과업은 벽돌 쌓기를 수정하는 것입니다.\n",
        "지붕올리기()\n",
        "내부인테리어()"
      ],
      "metadata": {
        "id": "7z-hkWQt6XjZ"
      },
      "execution_count": null,
      "outputs": []
    },
    {
      "cell_type": "code",
      "source": [
        "def hello():\n",
        "    x = 10\n",
        "    y = 20\n",
        "    return x + y"
      ],
      "metadata": {
        "id": "2hiRaLqNQjSr"
      },
      "execution_count": null,
      "outputs": []
    },
    {
      "cell_type": "code",
      "source": [
        "# 파라미터와 아규먼트\n",
        "\n",
        "def xysum(x, y): # 함수를 정의하는 부분\n",
        "    return x + y\n",
        "\n",
        "xysum(10, 20) # 함수를 호출하는 부분"
      ],
      "metadata": {
        "id": "ND9mSmYU7joR"
      },
      "execution_count": null,
      "outputs": []
    },
    {
      "cell_type": "code",
      "source": [
        "# 파선아실(파라미터는 선언할 때, 아규먼트는 실행할 때)\n",
        "\n",
        "def xysum(x, y): # 함수를 정의하는 부분\n",
        "    return x + y\n",
        "\n",
        "xysum(10, 20) # 함수를 호출하는 부분"
      ],
      "metadata": {
        "id": "q7Wg9YFS8Uxm"
      },
      "execution_count": null,
      "outputs": []
    },
    {
      "cell_type": "code",
      "source": [
        "def xysum(x, y):\n",
        "    return x + y # 나를 호출한 곳에 그대로 이 값을 넣어주세요!\n",
        "\n",
        "result = xysum(10, 20) + xysum(30, 40) + xysum(50, 60)\n",
        "result"
      ],
      "metadata": {
        "colab": {
          "base_uri": "https://localhost:8080/"
        },
        "id": "fxkvVcaW89rl",
        "outputId": "19b97091-2014-4dcb-bd7c-eb352306fa3a"
      },
      "execution_count": null,
      "outputs": [
        {
          "output_type": "execute_result",
          "data": {
            "text/plain": [
              "210"
            ]
          },
          "metadata": {},
          "execution_count": 75
        }
      ]
    },
    {
      "cell_type": "code",
      "source": [
        "def xysum(x, y):\n",
        "    print(x + y)\n",
        "\n",
        "result = xysum(10, 20) + xysum(30, 40) + xysum(50, 60)\n",
        "result"
      ],
      "metadata": {
        "colab": {
          "base_uri": "https://localhost:8080/",
          "height": 240
        },
        "id": "M6nRulLX9QZm",
        "outputId": "722dbf8b-74c5-4a11-8747-f01572440695"
      },
      "execution_count": null,
      "outputs": [
        {
          "output_type": "stream",
          "name": "stdout",
          "text": [
            "30\n",
            "70\n"
          ]
        },
        {
          "output_type": "error",
          "ename": "TypeError",
          "evalue": "unsupported operand type(s) for +: 'NoneType' and 'NoneType'",
          "traceback": [
            "\u001b[0;31m---------------------------------------------------------------------------\u001b[0m",
            "\u001b[0;31mTypeError\u001b[0m                                 Traceback (most recent call last)",
            "\u001b[0;32m<ipython-input-76-b99c82da7dd0>\u001b[0m in \u001b[0;36m<cell line: 0>\u001b[0;34m()\u001b[0m\n\u001b[1;32m      2\u001b[0m     \u001b[0mprint\u001b[0m\u001b[0;34m(\u001b[0m\u001b[0mx\u001b[0m \u001b[0;34m+\u001b[0m \u001b[0my\u001b[0m\u001b[0;34m)\u001b[0m\u001b[0;34m\u001b[0m\u001b[0;34m\u001b[0m\u001b[0m\n\u001b[1;32m      3\u001b[0m \u001b[0;34m\u001b[0m\u001b[0m\n\u001b[0;32m----> 4\u001b[0;31m \u001b[0mresult\u001b[0m \u001b[0;34m=\u001b[0m \u001b[0mxysum\u001b[0m\u001b[0;34m(\u001b[0m\u001b[0;36m10\u001b[0m\u001b[0;34m,\u001b[0m \u001b[0;36m20\u001b[0m\u001b[0;34m)\u001b[0m \u001b[0;34m+\u001b[0m \u001b[0mxysum\u001b[0m\u001b[0;34m(\u001b[0m\u001b[0;36m30\u001b[0m\u001b[0;34m,\u001b[0m \u001b[0;36m40\u001b[0m\u001b[0;34m)\u001b[0m \u001b[0;34m+\u001b[0m \u001b[0mxysum\u001b[0m\u001b[0;34m(\u001b[0m\u001b[0;36m50\u001b[0m\u001b[0;34m,\u001b[0m \u001b[0;36m60\u001b[0m\u001b[0;34m)\u001b[0m\u001b[0;34m\u001b[0m\u001b[0;34m\u001b[0m\u001b[0m\n\u001b[0m\u001b[1;32m      5\u001b[0m \u001b[0mresult\u001b[0m\u001b[0;34m\u001b[0m\u001b[0;34m\u001b[0m\u001b[0m\n",
            "\u001b[0;31mTypeError\u001b[0m: unsupported operand type(s) for +: 'NoneType' and 'NoneType'"
          ]
        }
      ]
    },
    {
      "cell_type": "code",
      "source": [
        "None\n",
        "print(None)"
      ],
      "metadata": {
        "colab": {
          "base_uri": "https://localhost:8080/"
        },
        "id": "3p2ZE0FA9v7l",
        "outputId": "1064e528-72f2-40a3-f2e6-c2b84a9a2a85"
      },
      "execution_count": null,
      "outputs": [
        {
          "output_type": "stream",
          "name": "stdout",
          "text": [
            "None\n"
          ]
        }
      ]
    },
    {
      "cell_type": "code",
      "source": [
        "def a(x, y):\n",
        "    z = x + y\n",
        "\n",
        "print(a(10, 20))"
      ],
      "metadata": {
        "colab": {
          "base_uri": "https://localhost:8080/"
        },
        "id": "YNdn_1t89nOo",
        "outputId": "bf31c0ab-4bc7-43f2-e5c5-9a77c4f4ad67"
      },
      "execution_count": null,
      "outputs": [
        {
          "output_type": "stream",
          "name": "stdout",
          "text": [
            "None\n"
          ]
        }
      ]
    },
    {
      "cell_type": "code",
      "source": [
        "def a(x, y):\n",
        "    z = x + y\n",
        "    return None\n",
        "\n",
        "print(a(10, 20))"
      ],
      "metadata": {
        "colab": {
          "base_uri": "https://localhost:8080/"
        },
        "id": "4R5zEZnY95FL",
        "outputId": "a79733df-6ca0-43d9-ba53-457f298353f3"
      },
      "execution_count": null,
      "outputs": [
        {
          "output_type": "stream",
          "name": "stdout",
          "text": [
            "None\n"
          ]
        }
      ]
    },
    {
      "cell_type": "code",
      "source": [
        "print(print(print('hello')))"
      ],
      "metadata": {
        "colab": {
          "base_uri": "https://localhost:8080/"
        },
        "id": "lYTQTNkI9-pQ",
        "outputId": "6e4fcba2-13bf-49b4-b52a-bb19227321ee"
      },
      "execution_count": null,
      "outputs": [
        {
          "output_type": "stream",
          "name": "stdout",
          "text": [
            "hello\n",
            "None\n",
            "None\n"
          ]
        }
      ]
    },
    {
      "cell_type": "code",
      "source": [
        "# 파라미터가 있는 함수\n",
        "def hello(a):\n",
        "    return a\n",
        "\n",
        "# 파라미터가 없는 함수\n",
        "def hello():\n",
        "    return 'hello world'"
      ],
      "metadata": {
        "id": "CxZcXtrm-9_B"
      },
      "execution_count": null,
      "outputs": []
    },
    {
      "cell_type": "code",
      "source": [
        "# 리턴값이 있는 함수\n",
        "def add(a, b):\n",
        "    return a + b\n",
        "\n",
        "# 리턴값이 없는 함수\n",
        "def add(a, b):\n",
        "    print(a + b)"
      ],
      "metadata": {
        "id": "H5Hx1nQj_E7A"
      },
      "execution_count": null,
      "outputs": []
    },
    {
      "cell_type": "code",
      "source": [
        "# 문제1: 2x + 15 방정식이 주어졌을 때, x값이 10일때 y값이 얼마인지 구하는 함수를 만드세요.\n",
        "\n",
        "def solution(x):\n",
        "    return 2 * x + 15\n",
        "\n",
        "solution(10)"
      ],
      "metadata": {
        "colab": {
          "base_uri": "https://localhost:8080/"
        },
        "id": "nYZ5I1lz_thv",
        "outputId": "fd35929e-8829-49b4-d004-64a9cfb9d83c"
      },
      "execution_count": null,
      "outputs": [
        {
          "output_type": "execute_result",
          "data": {
            "text/plain": [
              "35"
            ]
          },
          "metadata": {},
          "execution_count": 89
        }
      ]
    },
    {
      "cell_type": "code",
      "source": [
        "# map을 아직 안배웠어요!\n",
        "# map은 나중에 할 예정입니다. 지금 이 코드는 '어떻게 활용하는가?'에 대한 얘기입니다.\n",
        "list(map(solution, range(10)))"
      ],
      "metadata": {
        "colab": {
          "base_uri": "https://localhost:8080/"
        },
        "id": "-vU2HUsvJ5Y5",
        "outputId": "7024e4c0-6269-4d95-88aa-f10f22e55fa4"
      },
      "execution_count": null,
      "outputs": [
        {
          "output_type": "execute_result",
          "data": {
            "text/plain": [
              "[15, 17, 19, 21, 23, 25, 27, 29, 31, 33]"
            ]
          },
          "metadata": {},
          "execution_count": 91
        }
      ]
    },
    {
      "cell_type": "code",
      "source": [
        "# 실제 모의 주식 그래프는 아래와 같이 그립니다.\n",
        "import random\n",
        "\n",
        "l = [15, 17, 19, 21, 23, 25, 27, 29, 31, 33]\n",
        "result = []\n",
        "for i in l:\n",
        "    result = result + [i + random.randint(-5, 5)]\n",
        "result"
      ],
      "metadata": {
        "colab": {
          "base_uri": "https://localhost:8080/"
        },
        "id": "-bXF1swKKS3t",
        "outputId": "96a906f4-49fc-4ed3-e91a-4c894ddc3cc8"
      },
      "execution_count": null,
      "outputs": [
        {
          "output_type": "execute_result",
          "data": {
            "text/plain": [
              "[15, 12, 22, 26, 20, 22, 22, 28, 29, 37]"
            ]
          },
          "metadata": {},
          "execution_count": 88
        }
      ]
    },
    {
      "cell_type": "code",
      "source": [
        "# 문제2: [10, 20, 30] + [1, 2, 3]이라고 했을 때 이 두 행렬을 요소별로 더하는 함수를 만드세요.\n",
        "\n",
        "def solution(a, b):\n",
        "    for i, v in enumerate(a):\n",
        "        a[i] = v + b[i]\n",
        "    return a\n",
        "\n",
        "solution([10, 20, 30], [1, 2, 3])"
      ],
      "metadata": {
        "colab": {
          "base_uri": "https://localhost:8080/"
        },
        "id": "_z_jQHhUAMNi",
        "outputId": "92659c31-31d7-435f-fa48-2f19b3ef1a20"
      },
      "execution_count": null,
      "outputs": [
        {
          "output_type": "execute_result",
          "data": {
            "text/plain": [
              "[11, 22, 33]"
            ]
          },
          "metadata": {},
          "execution_count": 93
        }
      ]
    },
    {
      "cell_type": "code",
      "source": [
        "# 문제2: [10, 20, 30] + [1, 2, 3]이라고 했을 때 이 두 행렬을 요소별로 더하는 함수를 만드세요.\n",
        "# 관습적으로 안쓰는 코드는 변수 _ 에 할당합니다.\n",
        "\n",
        "def solution(a, b):\n",
        "    result = []\n",
        "    for i, _ in enumerate(a):\n",
        "        result.append(a[i] + b[i])\n",
        "    return result\n",
        "\n",
        "solution([10, 20, 30], [1, 2, 3])"
      ],
      "metadata": {
        "colab": {
          "base_uri": "https://localhost:8080/"
        },
        "id": "ovtYZbi2MYUO",
        "outputId": "3de67494-9da4-4607-c68d-3755250920ce"
      },
      "execution_count": null,
      "outputs": [
        {
          "output_type": "execute_result",
          "data": {
            "text/plain": [
              "[11, 22, 33]"
            ]
          },
          "metadata": {},
          "execution_count": 95
        }
      ]
    },
    {
      "cell_type": "code",
      "source": [
        "list(enumerate({'one':100, 'two':200}))"
      ],
      "metadata": {
        "colab": {
          "base_uri": "https://localhost:8080/"
        },
        "id": "PaRpVqudNNHG",
        "outputId": "ad8537d6-80c3-41bb-e294-d9f60f03158e"
      },
      "execution_count": null,
      "outputs": [
        {
          "output_type": "execute_result",
          "data": {
            "text/plain": [
              "[(0, 'one'), (1, 'two')]"
            ]
          },
          "metadata": {},
          "execution_count": 97
        }
      ]
    },
    {
      "cell_type": "code",
      "source": [
        "# 문제2: [10, 20, 30] + [1, 2, 3]이라고 했을 때 이 두 행렬을 요소별로 더하는 함수를 만드세요.\n",
        "# 좀 더 우아한 풀이\n",
        "\n",
        "def solution(a, b):\n",
        "    return list(map(sum, (zip([10, 20, 30], [1, 2, 3]))))\n",
        "\n",
        "solution([10, 20, 30], [1, 2, 3])"
      ],
      "metadata": {
        "id": "NOV85P7pNejM"
      },
      "execution_count": null,
      "outputs": []
    },
    {
      "cell_type": "code",
      "source": [
        "# 문제3: 행렬(리스트의 리스트)의 모든 요소에 특정 숫자를 곱하는 함수를 만드세요.\n",
        "# 예: [1, 2, 3, 4] * 2 = [2, 4, 6, 8]\n",
        "\n",
        "def solution(matrix, multiplier):\n",
        "    result = []\n",
        "    for i in matrix:\n",
        "        result.append(i * multiplier)\n",
        "    return result\n",
        "\n",
        "solution([1, 2, 3, 4], 2)"
      ],
      "metadata": {
        "colab": {
          "base_uri": "https://localhost:8080/"
        },
        "id": "wUWRkAhfAkwc",
        "outputId": "24062e54-e9db-4a55-e9cb-2edb07d74cc4"
      },
      "execution_count": null,
      "outputs": [
        {
          "output_type": "execute_result",
          "data": {
            "text/plain": [
              "[2, 4, 6, 8]"
            ]
          },
          "metadata": {},
          "execution_count": 101
        }
      ]
    },
    {
      "cell_type": "code",
      "source": [
        "# 문제3: 행렬(리스트의 리스트)의 모든 요소에 특정 숫자를 곱하는 함수를 만드세요.\n",
        "# 예: [1, 2, 3, 4] * 2 = [2, 4, 6, 8]\n",
        "\n",
        "def solution(matrix, multiplier):\n",
        "    return [i * multiplier for i in matrix]\n",
        "\n",
        "solution([1, 2, 3, 4], 2)"
      ],
      "metadata": {
        "colab": {
          "base_uri": "https://localhost:8080/"
        },
        "id": "a24lE_BJOtoY",
        "outputId": "c55ad461-cb2e-48b4-e1db-44f368bf254c"
      },
      "execution_count": null,
      "outputs": [
        {
          "output_type": "execute_result",
          "data": {
            "text/plain": [
              "[2, 4, 6, 8]"
            ]
          },
          "metadata": {},
          "execution_count": 102
        }
      ]
    },
    {
      "cell_type": "code",
      "source": [
        "s = []\n",
        "for i in range(1, 10, 2):\n",
        "    s.append(i)\n",
        "s"
      ],
      "metadata": {
        "colab": {
          "base_uri": "https://localhost:8080/"
        },
        "id": "VzmT-MUaPQeW",
        "outputId": "3c364a26-eede-4a09-97ea-d2767ec55209"
      },
      "execution_count": null,
      "outputs": [
        {
          "output_type": "execute_result",
          "data": {
            "text/plain": [
              "[1, 3, 5, 7, 9]"
            ]
          },
          "metadata": {},
          "execution_count": 103
        }
      ]
    },
    {
      "cell_type": "code",
      "source": [
        "[i for i in range(1, 10, 2)]"
      ],
      "metadata": {
        "colab": {
          "base_uri": "https://localhost:8080/"
        },
        "id": "POOyEQF8PWht",
        "outputId": "bdfe10d7-faab-47f0-8887-388fa98dc1cc"
      },
      "execution_count": null,
      "outputs": [
        {
          "output_type": "execute_result",
          "data": {
            "text/plain": [
              "[1, 3, 5, 7, 9]"
            ]
          },
          "metadata": {},
          "execution_count": 104
        }
      ]
    },
    {
      "cell_type": "code",
      "source": [
        "# 아래와 같은 코드는 가독성이 떨어지기 때문에 좋은 코드라고 보기 어렵습니다.\n",
        "# 파이썬에서는 읽기 좋은 코드에 가치를 높게 평가합니다!\n",
        "[f'{i} X {j} = {i * j}' for i in range(2, 10) for j in range(1, 10)]"
      ],
      "metadata": {
        "colab": {
          "base_uri": "https://localhost:8080/"
        },
        "id": "yX7fxjFgPnpi",
        "outputId": "b2d7b115-a451-4d97-cf0e-0371a95349c4"
      },
      "execution_count": null,
      "outputs": [
        {
          "output_type": "execute_result",
          "data": {
            "text/plain": [
              "['2 X 1 = 2',\n",
              " '2 X 2 = 4',\n",
              " '2 X 3 = 6',\n",
              " '2 X 4 = 8',\n",
              " '2 X 5 = 10',\n",
              " '2 X 6 = 12',\n",
              " '2 X 7 = 14',\n",
              " '2 X 8 = 16',\n",
              " '2 X 9 = 18',\n",
              " '3 X 1 = 3',\n",
              " '3 X 2 = 6',\n",
              " '3 X 3 = 9',\n",
              " '3 X 4 = 12',\n",
              " '3 X 5 = 15',\n",
              " '3 X 6 = 18',\n",
              " '3 X 7 = 21',\n",
              " '3 X 8 = 24',\n",
              " '3 X 9 = 27',\n",
              " '4 X 1 = 4',\n",
              " '4 X 2 = 8',\n",
              " '4 X 3 = 12',\n",
              " '4 X 4 = 16',\n",
              " '4 X 5 = 20',\n",
              " '4 X 6 = 24',\n",
              " '4 X 7 = 28',\n",
              " '4 X 8 = 32',\n",
              " '4 X 9 = 36',\n",
              " '5 X 1 = 5',\n",
              " '5 X 2 = 10',\n",
              " '5 X 3 = 15',\n",
              " '5 X 4 = 20',\n",
              " '5 X 5 = 25',\n",
              " '5 X 6 = 30',\n",
              " '5 X 7 = 35',\n",
              " '5 X 8 = 40',\n",
              " '5 X 9 = 45',\n",
              " '6 X 1 = 6',\n",
              " '6 X 2 = 12',\n",
              " '6 X 3 = 18',\n",
              " '6 X 4 = 24',\n",
              " '6 X 5 = 30',\n",
              " '6 X 6 = 36',\n",
              " '6 X 7 = 42',\n",
              " '6 X 8 = 48',\n",
              " '6 X 9 = 54',\n",
              " '7 X 1 = 7',\n",
              " '7 X 2 = 14',\n",
              " '7 X 3 = 21',\n",
              " '7 X 4 = 28',\n",
              " '7 X 5 = 35',\n",
              " '7 X 6 = 42',\n",
              " '7 X 7 = 49',\n",
              " '7 X 8 = 56',\n",
              " '7 X 9 = 63',\n",
              " '8 X 1 = 8',\n",
              " '8 X 2 = 16',\n",
              " '8 X 3 = 24',\n",
              " '8 X 4 = 32',\n",
              " '8 X 5 = 40',\n",
              " '8 X 6 = 48',\n",
              " '8 X 7 = 56',\n",
              " '8 X 8 = 64',\n",
              " '8 X 9 = 72',\n",
              " '9 X 1 = 9',\n",
              " '9 X 2 = 18',\n",
              " '9 X 3 = 27',\n",
              " '9 X 4 = 36',\n",
              " '9 X 5 = 45',\n",
              " '9 X 6 = 54',\n",
              " '9 X 7 = 63',\n",
              " '9 X 8 = 72',\n",
              " '9 X 9 = 81']"
            ]
          },
          "metadata": {},
          "execution_count": 106
        }
      ]
    },
    {
      "cell_type": "code",
      "source": [
        "# 문제4: 프로그래머스(카카오 코딩 테스트 보는 공간)에 문제 하나 풀어보세요.\n",
        "# 기업에서 이런식으로 알고리즘 테스트가 나옵니다.\n",
        "# https://school.programmers.co.kr/learn/courses/30/lessons/181928\n",
        "\n",
        "def solution(num_list):\n",
        "    짝수 = ''\n",
        "    홀수 = ''\n",
        "    for i in num_list:\n",
        "        if i % 2 == 0:\n",
        "            짝수 += str(i)\n",
        "        else:\n",
        "            홀수 += str(i)\n",
        "    answer = int(짝수) + int(홀수)\n",
        "    return answer\n",
        "\n",
        "solution([3, 4, 5, 2, 1])"
      ],
      "metadata": {
        "colab": {
          "base_uri": "https://localhost:8080/"
        },
        "id": "XfLQsm4vB7yv",
        "outputId": "1d1564c2-1e7a-4ec5-cf62-3b316a4eba3b"
      },
      "execution_count": null,
      "outputs": [
        {
          "output_type": "execute_result",
          "data": {
            "text/plain": [
              "393"
            ]
          },
          "metadata": {},
          "execution_count": 107
        }
      ]
    },
    {
      "cell_type": "code",
      "source": [
        "# 파라미터에 기본값이 정해져 있는 경우!\n",
        "\n",
        "def add(x = 10, y = 20):\n",
        "    return x + y\n",
        "\n",
        "add()"
      ],
      "metadata": {
        "colab": {
          "base_uri": "https://localhost:8080/"
        },
        "id": "opp3WlkiUb4p",
        "outputId": "1e2d7e27-07c4-4a0b-ec02-0a28a7b43852"
      },
      "execution_count": null,
      "outputs": [
        {
          "output_type": "execute_result",
          "data": {
            "text/plain": [
              "30"
            ]
          },
          "metadata": {},
          "execution_count": 108
        }
      ]
    },
    {
      "cell_type": "code",
      "source": [
        "# 지역변수 전역변수\n",
        "\n",
        "x = 10\n",
        "\n",
        "def hello():\n",
        "    print(x) # 밖에 있는 변수는 읽을 수는 있습니다.\n",
        "\n",
        "hello()"
      ],
      "metadata": {
        "colab": {
          "base_uri": "https://localhost:8080/"
        },
        "id": "xxa89h9-Vrzs",
        "outputId": "208d90c5-4cf9-4ce6-fa62-a562007a4358"
      },
      "execution_count": null,
      "outputs": [
        {
          "output_type": "stream",
          "name": "stdout",
          "text": [
            "10\n"
          ]
        }
      ]
    },
    {
      "cell_type": "code",
      "source": [
        "x = 10\n",
        "\n",
        "def hello():\n",
        "    x += 1 # 밖에 있는 변수를 수정할 수는 없습니다.\n",
        "\n",
        "hello()"
      ],
      "metadata": {
        "colab": {
          "base_uri": "https://localhost:8080/",
          "height": 313
        },
        "id": "HsS1gYLqWWKu",
        "outputId": "a8c4cd82-2b71-4a9e-f049-4adec3af7c0a"
      },
      "execution_count": null,
      "outputs": [
        {
          "output_type": "error",
          "ename": "UnboundLocalError",
          "evalue": "cannot access local variable 'x' where it is not associated with a value",
          "traceback": [
            "\u001b[0;31m---------------------------------------------------------------------------\u001b[0m",
            "\u001b[0;31mUnboundLocalError\u001b[0m                         Traceback (most recent call last)",
            "\u001b[0;32m<ipython-input-111-345d6794dc27>\u001b[0m in \u001b[0;36m<cell line: 0>\u001b[0;34m()\u001b[0m\n\u001b[1;32m      4\u001b[0m     \u001b[0mx\u001b[0m \u001b[0;34m+=\u001b[0m \u001b[0;36m1\u001b[0m\u001b[0;34m\u001b[0m\u001b[0;34m\u001b[0m\u001b[0m\n\u001b[1;32m      5\u001b[0m \u001b[0;34m\u001b[0m\u001b[0m\n\u001b[0;32m----> 6\u001b[0;31m \u001b[0mhello\u001b[0m\u001b[0;34m(\u001b[0m\u001b[0;34m)\u001b[0m\u001b[0;34m\u001b[0m\u001b[0;34m\u001b[0m\u001b[0m\n\u001b[0m",
            "\u001b[0;32m<ipython-input-111-345d6794dc27>\u001b[0m in \u001b[0;36mhello\u001b[0;34m()\u001b[0m\n\u001b[1;32m      2\u001b[0m \u001b[0;34m\u001b[0m\u001b[0m\n\u001b[1;32m      3\u001b[0m \u001b[0;32mdef\u001b[0m \u001b[0mhello\u001b[0m\u001b[0;34m(\u001b[0m\u001b[0;34m)\u001b[0m\u001b[0;34m:\u001b[0m\u001b[0;34m\u001b[0m\u001b[0;34m\u001b[0m\u001b[0m\n\u001b[0;32m----> 4\u001b[0;31m     \u001b[0mx\u001b[0m \u001b[0;34m+=\u001b[0m \u001b[0;36m1\u001b[0m\u001b[0;34m\u001b[0m\u001b[0;34m\u001b[0m\u001b[0m\n\u001b[0m\u001b[1;32m      5\u001b[0m \u001b[0;34m\u001b[0m\u001b[0m\n\u001b[1;32m      6\u001b[0m \u001b[0mhello\u001b[0m\u001b[0;34m(\u001b[0m\u001b[0;34m)\u001b[0m\u001b[0;34m\u001b[0m\u001b[0;34m\u001b[0m\u001b[0m\n",
            "\u001b[0;31mUnboundLocalError\u001b[0m: cannot access local variable 'x' where it is not associated with a value"
          ]
        }
      ]
    },
    {
      "cell_type": "code",
      "source": [
        "x = 10 # 전역변수 x 10\n",
        "\n",
        "def hello():\n",
        "    x = 100 # 지역변수 x 100\n",
        "\n",
        "hello()\n",
        "print(x)"
      ],
      "metadata": {
        "colab": {
          "base_uri": "https://localhost:8080/"
        },
        "id": "mcb883BhWpRm",
        "outputId": "9bd16ce8-aba0-43b7-e9a0-fa11f7758710"
      },
      "execution_count": null,
      "outputs": [
        {
          "output_type": "stream",
          "name": "stdout",
          "text": [
            "10\n"
          ]
        }
      ]
    },
    {
      "cell_type": "code",
      "source": [
        "x = 10 # 전역변수 x 10\n",
        "\n",
        "def hello(input_x):\n",
        "    input_x += 10\n",
        "    return input_x\n",
        "\n",
        "x = hello(x) # 초급자의 마음: 아니? 이렇게 불편하게 써야해?\n",
        "print(x)"
      ],
      "metadata": {
        "colab": {
          "base_uri": "https://localhost:8080/"
        },
        "id": "My__sbX7XXXN",
        "outputId": "4ec7c594-4c15-4ef9-a811-a062637e96c5"
      },
      "execution_count": null,
      "outputs": [
        {
          "output_type": "stream",
          "name": "stdout",
          "text": [
            "20\n"
          ]
        }
      ]
    },
    {
      "cell_type": "code",
      "source": [
        "# 초급자의 마음: 이렇게 하면 되잖아!\n",
        "# => 아주 짧은 코드에서는 맞는 얘기지만\n",
        "# 실무에서는 깨끗한 코드, 구조화 되어있는 코드, 견고한 코드가 필요합니다.\n",
        "\n",
        "x = 10\n",
        "x += 10\n",
        "\n",
        "print(x)"
      ],
      "metadata": {
        "colab": {
          "base_uri": "https://localhost:8080/"
        },
        "id": "5eGUbQ0tXi1v",
        "outputId": "f2d7bf63-82eb-4f4d-82e1-0dfc41ec168a"
      },
      "execution_count": null,
      "outputs": [
        {
          "output_type": "stream",
          "name": "stdout",
          "text": [
            "20\n"
          ]
        }
      ]
    },
    {
      "cell_type": "code",
      "source": [
        "# 대부분 아래 코드는 안좋은 사례로 꼽힙니다.\n",
        "\n",
        "x = 10\n",
        "\n",
        "def hello():\n",
        "    global x\n",
        "    x += 100\n",
        "\n",
        "hello()\n",
        "print(x)"
      ],
      "metadata": {
        "id": "wyWAmNDCYGLT"
      },
      "execution_count": null,
      "outputs": []
    },
    {
      "cell_type": "code",
      "source": [
        "# locals()\n",
        "# globals()"
      ],
      "metadata": {
        "id": "FpHj0MYgYxHz"
      },
      "execution_count": null,
      "outputs": []
    },
    {
      "cell_type": "code",
      "source": [
        "def add(a, b):\n",
        "    z = a + b\n",
        "    print(locals())\n",
        "    return z\n",
        "\n",
        "add(10, 20)"
      ],
      "metadata": {
        "colab": {
          "base_uri": "https://localhost:8080/"
        },
        "id": "-bUxGcNwY4ZQ",
        "outputId": "98d9a57f-89ec-4cd3-df0e-2f071e4c30ae"
      },
      "execution_count": null,
      "outputs": [
        {
          "output_type": "stream",
          "name": "stdout",
          "text": [
            "{'a': 10, 'b': 20, 'z': 30}\n"
          ]
        },
        {
          "output_type": "execute_result",
          "data": {
            "text/plain": [
              "30"
            ]
          },
          "metadata": {},
          "execution_count": 118
        }
      ]
    },
    {
      "cell_type": "code",
      "source": [
        "# hello라는 것은 무엇일까?\n",
        "# print라는 것은 무엇일까?\n",
        "\n",
        "# hello든 print든 변수입니다! 함수의 이름은 변수입니다."
      ],
      "metadata": {
        "id": "jxeUYnReQrW2"
      },
      "execution_count": null,
      "outputs": []
    },
    {
      "cell_type": "code",
      "source": [
        "a = print\n",
        "a('hello world')"
      ],
      "metadata": {
        "colab": {
          "base_uri": "https://localhost:8080/"
        },
        "id": "uQTcoT_JQ64E",
        "outputId": "e2bec677-c1a4-4380-c8fb-66ef4d63dacc"
      },
      "execution_count": null,
      "outputs": [
        {
          "output_type": "stream",
          "name": "stdout",
          "text": [
            "hello world\n"
          ]
        }
      ]
    },
    {
      "cell_type": "code",
      "source": [
        "l = [a, a, a, a, a]\n",
        "l[0]('hello')"
      ],
      "metadata": {
        "colab": {
          "base_uri": "https://localhost:8080/"
        },
        "id": "NYQU9-aLRBv3",
        "outputId": "38ad181d-0cb9-4ca5-972b-e7e65bfb664e"
      },
      "execution_count": null,
      "outputs": [
        {
          "output_type": "stream",
          "name": "stdout",
          "text": [
            "hello\n"
          ]
        }
      ]
    },
    {
      "cell_type": "markdown",
      "source": [
        "# 연습문제\n",
        "\n",
        "```\n",
        "# 문제1: 두 수를 더하는 함수를 만드세요.\n",
        "def solution(a, b):\n",
        "    pass\n",
        "\n",
        "solution(5, 3)  # 결과: 8\n",
        "```\n",
        "\n",
        "```\n",
        "# 문제2: 두 수를 곱하는 함수를 만드세요.\n",
        "def solution(a, b):\n",
        "    pass\n",
        "\n",
        "solution(4, 7)  # 결과: 28\n",
        "```\n",
        "\n",
        "```\n",
        "# 문제3: 리스트의 모든 숫자를 더하는 함수를 만드세요.\n",
        "def solution(numbers):\n",
        "    pass\n",
        "\n",
        "solution([1, 2, 3, 4, 5])  # 결과: 15\n",
        "```\n",
        "\n",
        "```\n",
        "# 문제4: 리스트의 평균값을 계산하는 함수를 만드세요.\n",
        "def solution(numbers):\n",
        "    pass\n",
        "\n",
        "solution([10, 20, 30, 40])  # 결과: 25.0\n",
        "```\n",
        "\n",
        "```\n",
        "# 문제5: 문자열의 길이를 반환하는 함수를 만드세요.\n",
        "def solution(text):\n",
        "    pass\n",
        "\n",
        "solution(\"파이썬\")  # 결과: 3\n",
        "```\n",
        "\n",
        "```\n",
        "# 문제6: 리스트에서 가장 큰 수를 찾는 함수를 만드세요.\n",
        "def solution(numbers):\n",
        "    pass\n",
        "\n",
        "solution([7, 12, 3, 8, 4])  # 결과: 12\n",
        "```\n",
        "\n",
        "```\n",
        "# 문제7: 리스트에서 가장 작은 수를 찾는 함수를 만드세요.\n",
        "def solution(numbers):\n",
        "    pass\n",
        "\n",
        "solution([7, 12, 3, 8, 4])  # 결과: 3\n",
        "```\n",
        "\n",
        "```\n",
        "# 문제8: 문자열을 n번 반복하는 함수를 만드세요.\n",
        "def solution(text, n):\n",
        "    pass\n",
        "\n",
        "solution(\"안녕\", 3)  # 결과: \"안녕안녕안녕\"\n",
        "```\n",
        "\n",
        "```\n",
        "# 문제9: 주어진 숫자가 짝수인지 확인하는 함수를 만드세요. (짝수면 True, 홀수면 False 반환)\n",
        "def solution(number):\n",
        "    pass\n",
        "\n",
        "solution(6)  # 결과: True\n",
        "solution(9)  # 결과: False\n",
        "```"
      ],
      "metadata": {
        "id": "IGDu87spfTM-"
      }
    },
    {
      "cell_type": "code",
      "source": [
        "# 문제1: 두 수를 더하는 함수를 만드세요.\n",
        "def solution(a, b):\n",
        "    return a + b\n",
        "\n",
        "solution(5, 3)  # 결과: 8"
      ],
      "metadata": {
        "id": "rkBbLyedO2Ed"
      },
      "execution_count": null,
      "outputs": []
    },
    {
      "cell_type": "code",
      "source": [
        "# 문제2: 두 수를 곱하는 함수를 만드세요.\n",
        "def solution(a, b):\n",
        "    return a * b\n",
        "\n",
        "solution(4, 7)  # 결과: 28"
      ],
      "metadata": {
        "id": "81cYCOsmO8Ck"
      },
      "execution_count": null,
      "outputs": []
    },
    {
      "cell_type": "code",
      "source": [
        "# 문제3: 리스트의 모든 숫자를 더하는 함수를 만드세요.\n",
        "def solution(numbers):\n",
        "    return sum(numbers)\n",
        "\n",
        "solution([1, 2, 3, 4, 5])  # 결과: 15"
      ],
      "metadata": {
        "colab": {
          "base_uri": "https://localhost:8080/"
        },
        "id": "iUEBXcfTPBtC",
        "outputId": "0e907d7c-98c0-4403-fa1b-865fbe283b3e"
      },
      "execution_count": null,
      "outputs": [
        {
          "output_type": "execute_result",
          "data": {
            "text/plain": [
              "15"
            ]
          },
          "metadata": {},
          "execution_count": 1
        }
      ]
    },
    {
      "cell_type": "code",
      "source": [
        "# 문제3: 리스트의 모든 숫자를 더하는 함수를 만드세요.\n",
        "def solution(numbers):\n",
        "    result = 0\n",
        "    for i in numbers:\n",
        "        result += i\n",
        "    return result\n",
        "\n",
        "solution([1, 2, 3, 4, 5])  # 결과: 15"
      ],
      "metadata": {
        "colab": {
          "base_uri": "https://localhost:8080/"
        },
        "id": "xjissIstPEg4",
        "outputId": "7c5746c2-86f6-498d-da33-175f00b69827"
      },
      "execution_count": null,
      "outputs": [
        {
          "output_type": "execute_result",
          "data": {
            "text/plain": [
              "15"
            ]
          },
          "metadata": {},
          "execution_count": 2
        }
      ]
    },
    {
      "cell_type": "code",
      "source": [
        "# 문제4: 리스트의 평균값을 계산하는 함수를 만드세요.\n",
        "def solution(numbers):\n",
        "    return sum(numbers) / len(numbers)\n",
        "\n",
        "solution([10, 20, 30, 40])  # 결과: 25.0"
      ],
      "metadata": {
        "id": "KFK11a8QPiCf"
      },
      "execution_count": null,
      "outputs": []
    },
    {
      "cell_type": "code",
      "source": [
        "# 문제5: 문자열의 길이를 반환하는 함수를 만드세요.\n",
        "def solution(text):\n",
        "    return len(text)\n",
        "\n",
        "solution(\"파이썬\")  # 결과: 3"
      ],
      "metadata": {
        "colab": {
          "base_uri": "https://localhost:8080/"
        },
        "id": "hyMIWz7YQrHI",
        "outputId": "9bc6e784-bdc7-4566-a7ae-b2598c54eb28"
      },
      "execution_count": null,
      "outputs": [
        {
          "output_type": "execute_result",
          "data": {
            "text/plain": [
              "3"
            ]
          },
          "metadata": {},
          "execution_count": 3
        }
      ]
    },
    {
      "cell_type": "code",
      "source": [
        "# 문제5: 문자열의 길이를 반환하는 함수를 만드세요.\n",
        "def solution(text):\n",
        "    count = 0\n",
        "    for _ in text:\n",
        "        count += 1\n",
        "    return count\n",
        "\n",
        "solution(\"파이썬\")  # 결과: 3"
      ],
      "metadata": {
        "colab": {
          "base_uri": "https://localhost:8080/"
        },
        "id": "Q_sEJ48CQtei",
        "outputId": "a4e6c221-4928-435a-c83e-c5111eb721fe"
      },
      "execution_count": null,
      "outputs": [
        {
          "output_type": "execute_result",
          "data": {
            "text/plain": [
              "3"
            ]
          },
          "metadata": {},
          "execution_count": 4
        }
      ]
    },
    {
      "cell_type": "code",
      "source": [
        "# 문제6: 리스트에서 가장 큰 수를 찾는 함수를 만드세요.\n",
        "def solution(numbers):\n",
        "    return max(numbers)\n",
        "\n",
        "solution([7, 12, 3, 8, 4])  # 결과: 12"
      ],
      "metadata": {
        "colab": {
          "base_uri": "https://localhost:8080/"
        },
        "id": "JbHbWYA8RKDe",
        "outputId": "189b9340-1b61-485e-d344-e9ba7d659b8d"
      },
      "execution_count": null,
      "outputs": [
        {
          "output_type": "execute_result",
          "data": {
            "text/plain": [
              "12"
            ]
          },
          "metadata": {},
          "execution_count": 5
        }
      ]
    },
    {
      "cell_type": "code",
      "source": [
        "# 문제6: 리스트에서 가장 큰 수를 찾는 함수를 만드세요.\n",
        "# sorted나 max와 같은 것을 안쓰고 반복문 만으로 풀어보겠습니다.\n",
        "# 다만 실제 문제를 이렇게 풀진 않습니다.\n",
        "# 원리에 다가간다는 의의가 있어요.\n",
        "# 최댓값 => 최솟값을 먼저 저장\n",
        "# 최솟값 => 최댓값을 먼저 저장\n",
        "def solution(numbers):\n",
        "    max_value = float('-inf')\n",
        "    for i in numbers:\n",
        "        if i > max_value:\n",
        "            max_value = i\n",
        "    return max(numbers)\n",
        "\n",
        "solution([7, 12, 3, 8, 4])  # 결과: 12"
      ],
      "metadata": {
        "colab": {
          "base_uri": "https://localhost:8080/"
        },
        "id": "V7CEjXu_RXZ1",
        "outputId": "146c4b7e-c08b-4aa2-aa9c-a8b5106b901e"
      },
      "execution_count": null,
      "outputs": [
        {
          "output_type": "execute_result",
          "data": {
            "text/plain": [
              "12"
            ]
          },
          "metadata": {},
          "execution_count": 10
        }
      ]
    },
    {
      "cell_type": "code",
      "source": [
        "float('inf') > 10\n",
        "float('-inf') > 10"
      ],
      "metadata": {
        "colab": {
          "base_uri": "https://localhost:8080/"
        },
        "id": "9rAYWbAiR4jt",
        "outputId": "00a748f6-7991-49c9-f775-0720eda7ca4f"
      },
      "execution_count": null,
      "outputs": [
        {
          "output_type": "execute_result",
          "data": {
            "text/plain": [
              "False"
            ]
          },
          "metadata": {},
          "execution_count": 9
        }
      ]
    },
    {
      "cell_type": "code",
      "source": [
        "# 문제7: 리스트에서 가장 작은 수를 찾는 함수를 만드세요.\n",
        "def solution(numbers):\n",
        "    return min(numbers)\n",
        "\n",
        "solution([7, 12, 3, 8, 4])  # 결과: 3"
      ],
      "metadata": {
        "id": "38LkOFVkSxWG"
      },
      "execution_count": null,
      "outputs": []
    },
    {
      "cell_type": "code",
      "source": [
        "# 문제7: 리스트에서 가장 작은 수를 찾는 함수를 만드세요.\n",
        "# 만약 비어있을 경우 -1을 반환하세요!\n",
        "def solution(numbers):\n",
        "    if len(numbers) == 0:\n",
        "        return -1\n",
        "    return min(numbers)\n",
        "\n",
        "solution([])"
      ],
      "metadata": {
        "colab": {
          "base_uri": "https://localhost:8080/"
        },
        "id": "Dm5hdLK6S75Y",
        "outputId": "0e66bc1f-0d4d-4206-e8ae-a47b54e2a142"
      },
      "execution_count": null,
      "outputs": [
        {
          "output_type": "execute_result",
          "data": {
            "text/plain": [
              "-1"
            ]
          },
          "metadata": {},
          "execution_count": 12
        }
      ]
    },
    {
      "cell_type": "code",
      "source": [
        "# 문제8: 문자열을 n번 반복하는 함수를 만드세요.\n",
        "def solution(text, n):\n",
        "    return text * n\n",
        "\n",
        "solution(\"안녕\", 3)  # 결과: \"안녕안녕안녕\""
      ],
      "metadata": {
        "colab": {
          "base_uri": "https://localhost:8080/",
          "height": 35
        },
        "id": "9He37G_QTvkU",
        "outputId": "cfe83acb-768a-4c25-bcb0-9ae2b34c0502"
      },
      "execution_count": null,
      "outputs": [
        {
          "output_type": "execute_result",
          "data": {
            "text/plain": [
              "'안녕안녕안녕'"
            ],
            "application/vnd.google.colaboratory.intrinsic+json": {
              "type": "string"
            }
          },
          "metadata": {},
          "execution_count": 13
        }
      ]
    },
    {
      "cell_type": "code",
      "source": [
        "# 문제9: 주어진 숫자가 짝수인지 확인하는 함수를 만드세요. (짝수면 True, 홀수면 False 반환)\n",
        "def solution(number):\n",
        "    if number % 2 == 0:\n",
        "        return True\n",
        "    else:\n",
        "        return False\n",
        "\n",
        "solution(6)  # 결과: True"
      ],
      "metadata": {
        "colab": {
          "base_uri": "https://localhost:8080/"
        },
        "id": "ERydN7rbTy7J",
        "outputId": "1c86725d-c148-4e38-c2b0-00bd6c8391b0"
      },
      "execution_count": null,
      "outputs": [
        {
          "output_type": "execute_result",
          "data": {
            "text/plain": [
              "True"
            ]
          },
          "metadata": {},
          "execution_count": 14
        }
      ]
    },
    {
      "cell_type": "markdown",
      "source": [
        "# 변수"
      ],
      "metadata": {
        "id": "XAFDXwL1RxmC"
      }
    },
    {
      "cell_type": "code",
      "source": [
        "a = 10\n",
        "b = a\n",
        "c = b\n",
        "\n",
        "c\n",
        "\n",
        "# 화살표는 어떻게 그려지는 것일까요? 답은 2번입니다!\n",
        "# 1번: c -> b -> a -> 10\n",
        "# 2번:\n",
        "#      a -> 10\n",
        "#      b -> 10\n",
        "#      c -> 10"
      ],
      "metadata": {
        "colab": {
          "base_uri": "https://localhost:8080/"
        },
        "id": "RsvymHo5RzGG",
        "outputId": "7c9e1b4b-f3bb-4d7f-bf73-d45b54931f7c"
      },
      "execution_count": null,
      "outputs": [
        {
          "output_type": "execute_result",
          "data": {
            "text/plain": [
              "10"
            ]
          },
          "metadata": {},
          "execution_count": 18
        }
      ]
    },
    {
      "cell_type": "code",
      "source": [
        "# 증명\n",
        "a = 10\n",
        "b = a\n",
        "c = b\n",
        "\n",
        "c"
      ],
      "metadata": {
        "colab": {
          "base_uri": "https://localhost:8080/"
        },
        "id": "TjOnARz-STmf",
        "outputId": "35c01620-9d12-41d3-e517-8957464f4e14"
      },
      "execution_count": null,
      "outputs": [
        {
          "output_type": "execute_result",
          "data": {
            "text/plain": [
              "10"
            ]
          },
          "metadata": {},
          "execution_count": 19
        }
      ]
    },
    {
      "cell_type": "code",
      "source": [
        "b = 100\n",
        "c"
      ],
      "metadata": {
        "colab": {
          "base_uri": "https://localhost:8080/"
        },
        "id": "ubZPRc71SgK6",
        "outputId": "cd43f138-7779-4a6f-8a1a-38827e7064cc"
      },
      "execution_count": null,
      "outputs": [
        {
          "output_type": "execute_result",
          "data": {
            "text/plain": [
              "10"
            ]
          },
          "metadata": {},
          "execution_count": 20
        }
      ]
    },
    {
      "cell_type": "code",
      "source": [
        "a = [1, 2, 3]\n",
        "b = a\n",
        "\n",
        "id(a), id(b)\n",
        "\n",
        "a.append(10)\n",
        "b"
      ],
      "metadata": {
        "colab": {
          "base_uri": "https://localhost:8080/"
        },
        "id": "6BwJjr41kIQr",
        "outputId": "13e0e836-199c-46da-daf4-e23b43465fc3"
      },
      "execution_count": null,
      "outputs": [
        {
          "output_type": "execute_result",
          "data": {
            "text/plain": [
              "[1, 2, 3, 10]"
            ]
          },
          "metadata": {},
          "execution_count": 69
        }
      ]
    },
    {
      "cell_type": "markdown",
      "source": [
        "# type, dir, id\n",
        "\n",
        "- type은 앞으로도 자주 사용됩니다. 왜냐하면 우리가 앞으로 사용할 데이터 자료형은 기본 자료형이 아닌 경우가 많기 때문이에요.\n",
        "- dir은 여러분이 해당 자료형에 있는 속성들을 파악하기 좋습니다.\n",
        "- id는 해당 자료형이 무엇을 가리키고 있는지 확인하기 좋습니다."
      ],
      "metadata": {
        "id": "k7_rTeeLT9rr"
      }
    },
    {
      "cell_type": "code",
      "source": [
        "l = [10, 20, 30, 40]\n",
        "print(type(l)) # print와 print를 안하는 것은 왜 차이가 있죠?"
      ],
      "metadata": {
        "colab": {
          "base_uri": "https://localhost:8080/"
        },
        "id": "f3xZ42SyUA4H",
        "outputId": "026b9d76-b41e-4e1c-ed80-7133f43da3fc"
      },
      "execution_count": null,
      "outputs": [
        {
          "output_type": "stream",
          "name": "stdout",
          "text": [
            "<class 'list'>\n"
          ]
        }
      ]
    },
    {
      "cell_type": "code",
      "source": [
        "print(type(hello))"
      ],
      "metadata": {
        "colab": {
          "base_uri": "https://localhost:8080/"
        },
        "id": "uY1Q_pJ6UgYA",
        "outputId": "899126cd-51ce-44cc-f1da-121ee061a06c"
      },
      "execution_count": null,
      "outputs": [
        {
          "output_type": "stream",
          "name": "stdout",
          "text": [
            "<class 'function'>\n"
          ]
        }
      ]
    },
    {
      "cell_type": "code",
      "source": [
        "a = 10\n",
        "print(type(a))"
      ],
      "metadata": {
        "colab": {
          "base_uri": "https://localhost:8080/"
        },
        "id": "ouxZ8L5zUozt",
        "outputId": "614e4ecc-ff33-4460-93e2-1fd363b96e05"
      },
      "execution_count": null,
      "outputs": [
        {
          "output_type": "stream",
          "name": "stdout",
          "text": [
            "<class 'int'>\n"
          ]
        }
      ]
    },
    {
      "cell_type": "code",
      "source": [
        "print(a)"
      ],
      "metadata": {
        "colab": {
          "base_uri": "https://localhost:8080/"
        },
        "id": "PFojpFdSU9ZD",
        "outputId": "6df4dd1f-0e46-4fcf-d2f0-be153003f1b8"
      },
      "execution_count": null,
      "outputs": [
        {
          "output_type": "stream",
          "name": "stdout",
          "text": [
            "10\n"
          ]
        }
      ]
    },
    {
      "cell_type": "code",
      "source": [
        "# 타입 확인이 이만큼 중요하다는 것을 보여드리기 위한 예제 2개\n",
        "\n",
        "# 예 1) 눈으로 10으로 보인다고 해서 int형이라고 생각하지 마세요.\n",
        "import numpy as np\n",
        "\n",
        "data = np.array(10)\n",
        "print(data)\n",
        "print(type(data))"
      ],
      "metadata": {
        "colab": {
          "base_uri": "https://localhost:8080/"
        },
        "id": "zndBc-j8VHhC",
        "outputId": "d1b3c8d7-98a6-4304-c3e9-d826886de9c6"
      },
      "execution_count": null,
      "outputs": [
        {
          "output_type": "stream",
          "name": "stdout",
          "text": [
            "10\n",
            "<class 'numpy.ndarray'>\n"
          ]
        }
      ]
    },
    {
      "cell_type": "code",
      "source": [
        "# 예 2) 타입을 확인해야 하는 이유는 아래와 같아요. 기본 연산이 다르기 때문이죠.\n",
        "print([1, 2, 3] + [4, 5, 6])\n",
        "print(np.array([1, 2, 3]) + np.array([4, 5, 6]))"
      ],
      "metadata": {
        "colab": {
          "base_uri": "https://localhost:8080/"
        },
        "id": "tXl7HMNdVorg",
        "outputId": "79c8b110-0cad-4ae4-90ad-3001f2890298"
      },
      "execution_count": null,
      "outputs": [
        {
          "output_type": "stream",
          "name": "stdout",
          "text": [
            "[1, 2, 3, 4, 5, 6]\n",
            "[5 7 9]\n"
          ]
        }
      ]
    },
    {
      "cell_type": "code",
      "source": [
        "l = [1, 2, 3, 4]\n",
        "dir(l) # 메서드 + 멤버\n",
        "\n",
        "# 이게 왜 중요할까? 코딩하다가 메서드 까먹을까봐 중요하다고 하신걸까?"
      ],
      "metadata": {
        "colab": {
          "base_uri": "https://localhost:8080/"
        },
        "id": "gSJ22FnHWeHX",
        "outputId": "2ac55c77-6e4b-43b2-9f7f-fdc510f08fec"
      },
      "execution_count": null,
      "outputs": [
        {
          "output_type": "execute_result",
          "data": {
            "text/plain": [
              "['__add__',\n",
              " '__class__',\n",
              " '__class_getitem__',\n",
              " '__contains__',\n",
              " '__delattr__',\n",
              " '__delitem__',\n",
              " '__dir__',\n",
              " '__doc__',\n",
              " '__eq__',\n",
              " '__format__',\n",
              " '__ge__',\n",
              " '__getattribute__',\n",
              " '__getitem__',\n",
              " '__getstate__',\n",
              " '__gt__',\n",
              " '__hash__',\n",
              " '__iadd__',\n",
              " '__imul__',\n",
              " '__init__',\n",
              " '__init_subclass__',\n",
              " '__iter__',\n",
              " '__le__',\n",
              " '__len__',\n",
              " '__lt__',\n",
              " '__mul__',\n",
              " '__ne__',\n",
              " '__new__',\n",
              " '__reduce__',\n",
              " '__reduce_ex__',\n",
              " '__repr__',\n",
              " '__reversed__',\n",
              " '__rmul__',\n",
              " '__setattr__',\n",
              " '__setitem__',\n",
              " '__sizeof__',\n",
              " '__str__',\n",
              " '__subclasshook__',\n",
              " 'append',\n",
              " 'clear',\n",
              " 'copy',\n",
              " 'count',\n",
              " 'extend',\n",
              " 'index',\n",
              " 'insert',\n",
              " 'pop',\n",
              " 'remove',\n",
              " 'reverse',\n",
              " 'sort']"
            ]
          },
          "metadata": {},
          "execution_count": 34
        }
      ]
    },
    {
      "cell_type": "code",
      "source": [
        "# 이 빌트인 펑션이 왜 중요하냐면, 앞으로 여러분들이 만날 자료형들은\n",
        "# 새롭게 만나는 자료형들입니다.\n",
        "# 예를 들어, 아래 타입을 한 번 살펴보도록 하겠습니다.\n",
        "\n",
        "import numpy as np\n",
        "\n",
        "data = np.array([[10, 20, 30], [40, 50, 60]])\n",
        "dir(data)\n",
        "# 아래 목록만 봐도 어떤 자료형인지 짐작할 수 있고\n",
        "# 원하는 메서드를 바로 발견할 수도 있습니다.\n",
        "\n",
        "print(data.T)"
      ],
      "metadata": {
        "colab": {
          "base_uri": "https://localhost:8080/"
        },
        "id": "4ceoeo-0YIsn",
        "outputId": "2de1da11-a242-45a8-f8d5-08bca9027659"
      },
      "execution_count": null,
      "outputs": [
        {
          "output_type": "stream",
          "name": "stdout",
          "text": [
            "[[10 40]\n",
            " [20 50]\n",
            " [30 60]]\n"
          ]
        }
      ]
    },
    {
      "cell_type": "code",
      "source": [
        "# id\n",
        "\n",
        "a = 10\n",
        "b = a\n",
        "c = b\n",
        "\n",
        "# 화살표는 어떻게 그렸죠?\n",
        "id(a), id(b), id(c)\n",
        "\n",
        "# id는 해당 변수가 가리키고 있는 최종 목적지"
      ],
      "metadata": {
        "colab": {
          "base_uri": "https://localhost:8080/"
        },
        "id": "RPP_Nu10dDVr",
        "outputId": "26cb6022-4bdc-4549-b7f8-6e098af84cba"
      },
      "execution_count": null,
      "outputs": [
        {
          "output_type": "execute_result",
          "data": {
            "text/plain": [
              "(10751144, 10751144, 10751144)"
            ]
          },
          "metadata": {},
          "execution_count": 41
        }
      ]
    },
    {
      "cell_type": "code",
      "source": [
        "a = 10\n",
        "b = 10\n",
        "\n",
        "id(a), id(b)\n",
        "\n",
        "# 다른 언어에서는 이 값이 다릅니다! 그러면 파이썬에서는 같은가요? 아니요!\n",
        "# 아니? 아래 같게 나왔는데요?"
      ],
      "metadata": {
        "colab": {
          "base_uri": "https://localhost:8080/"
        },
        "id": "1cjcK-fGdoeW",
        "outputId": "53aa368c-5418-46e1-83b1-0eea6afe64e8"
      },
      "execution_count": null,
      "outputs": [
        {
          "output_type": "execute_result",
          "data": {
            "text/plain": [
              "(10751144, 10751144)"
            ]
          },
          "metadata": {},
          "execution_count": 43
        }
      ]
    },
    {
      "cell_type": "code",
      "source": [
        "a = 10000\n",
        "b = 10000\n",
        "\n",
        "id(a), id(b)\n",
        "\n",
        "# 다르게 나왔네요?"
      ],
      "metadata": {
        "colab": {
          "base_uri": "https://localhost:8080/"
        },
        "id": "pcziOQjVeYo0",
        "outputId": "3ac62a87-d401-4de9-d441-26f94acc0cd8"
      },
      "execution_count": null,
      "outputs": [
        {
          "output_type": "execute_result",
          "data": {
            "text/plain": [
              "(133401993028752, 133401993030096)"
            ]
          },
          "metadata": {},
          "execution_count": 44
        }
      ]
    },
    {
      "cell_type": "markdown",
      "source": [
        "# print와 print를 안하는 것에 차이"
      ],
      "metadata": {
        "id": "H6_7K-8ccqzH"
      }
    },
    {
      "cell_type": "code",
      "source": [
        "# 아직 class를 안배웠지만, 이 차이를 설명하기 위해 잠시 이 코드를 사용하겠습니다.\n",
        "\n",
        "class CustomInt:\n",
        "    def __repr__(self):\n",
        "        return 'hello'\n",
        "\n",
        "    def __str__(self):\n",
        "        return 'hello world'\n",
        "\n",
        "    def __len__(self):\n",
        "        return 100"
      ],
      "metadata": {
        "id": "rHi2aU7ue6Fg"
      },
      "execution_count": null,
      "outputs": []
    },
    {
      "cell_type": "code",
      "source": [
        "a = CustomInt()\n",
        "\n",
        "a"
      ],
      "metadata": {
        "colab": {
          "base_uri": "https://localhost:8080/"
        },
        "id": "B02nQG1lfXYP",
        "outputId": "422a7403-e0bc-4418-eeaa-36ad3e2e4af7"
      },
      "execution_count": null,
      "outputs": [
        {
          "output_type": "execute_result",
          "data": {
            "text/plain": [
              "hello"
            ]
          },
          "metadata": {},
          "execution_count": 57
        }
      ]
    },
    {
      "cell_type": "code",
      "source": [
        "print(a)"
      ],
      "metadata": {
        "colab": {
          "base_uri": "https://localhost:8080/"
        },
        "id": "JeSdL9hyfd4n",
        "outputId": "e31a270a-e1dc-4cfa-828b-0b5ca0f96d8d"
      },
      "execution_count": null,
      "outputs": [
        {
          "output_type": "stream",
          "name": "stdout",
          "text": [
            "hello world\n"
          ]
        }
      ]
    },
    {
      "cell_type": "code",
      "source": [
        "len(a)"
      ],
      "metadata": {
        "colab": {
          "base_uri": "https://localhost:8080/"
        },
        "id": "852poJs5gf3K",
        "outputId": "1bb22c54-b9db-4c40-a9b5-6ba6f6a5968f"
      },
      "execution_count": null,
      "outputs": [
        {
          "output_type": "execute_result",
          "data": {
            "text/plain": [
              "100"
            ]
          },
          "metadata": {},
          "execution_count": 58
        }
      ]
    },
    {
      "cell_type": "code",
      "source": [
        "a = 10\n",
        "print(type(a))\n",
        "print(a)"
      ],
      "metadata": {
        "colab": {
          "base_uri": "https://localhost:8080/"
        },
        "id": "qbnMeLHufkrO",
        "outputId": "9fc43f94-571e-4bd8-cd7d-d8a933cbb0d9"
      },
      "execution_count": null,
      "outputs": [
        {
          "output_type": "stream",
          "name": "stdout",
          "text": [
            "<class 'int'>\n",
            "10\n"
          ]
        }
      ]
    },
    {
      "cell_type": "code",
      "source": [
        "a"
      ],
      "metadata": {
        "colab": {
          "base_uri": "https://localhost:8080/"
        },
        "id": "YVx-D-35f2W1",
        "outputId": "227ea7d9-57fb-4fe4-9adb-f155ad92a00b"
      },
      "execution_count": null,
      "outputs": [
        {
          "output_type": "execute_result",
          "data": {
            "text/plain": [
              "10"
            ]
          },
          "metadata": {},
          "execution_count": 50
        }
      ]
    },
    {
      "cell_type": "code",
      "source": [
        "# 아직 class를 안배웠지만, 이 차이를 설명하기 위해 잠시 이 코드를 사용하겠습니다.\n",
        "# repr이 있으면 str이 없어도 repr이 대체를 해줍니다!\n",
        "\n",
        "class CustomInt:\n",
        "    def __repr__(self):\n",
        "        return 'hello'\n",
        "\n",
        "test = CustomInt()\n",
        "# test\n",
        "print(test)"
      ],
      "metadata": {
        "colab": {
          "base_uri": "https://localhost:8080/"
        },
        "id": "MZN71WY7gxop",
        "outputId": "6cee5855-a24a-451b-945a-802bd3311367"
      },
      "execution_count": null,
      "outputs": [
        {
          "output_type": "stream",
          "name": "stdout",
          "text": [
            "hello\n"
          ]
        }
      ]
    },
    {
      "cell_type": "code",
      "source": [
        "# print     -> 해당 인스턴스에 __str__ 호출\n",
        "# 그냥 출력 -> 해당 인스턴스에 __repr__ 호출"
      ],
      "metadata": {
        "id": "FPSfkX75hJQ0"
      },
      "execution_count": null,
      "outputs": []
    },
    {
      "cell_type": "code",
      "source": [
        "a = 10\n",
        "dir(a)\n",
        "# a.__repr__() # 그냥 출력! 했을 때 실제 실행되는 함수\n",
        "# a.__str__() # print로 출력! 했을 때 실제 실행되는 함수"
      ],
      "metadata": {
        "colab": {
          "base_uri": "https://localhost:8080/",
          "height": 35
        },
        "id": "3Q-9CbDCjBkZ",
        "outputId": "e07012ec-a65a-4d08-eb1f-39fa8673b893"
      },
      "execution_count": null,
      "outputs": [
        {
          "output_type": "execute_result",
          "data": {
            "text/plain": [
              "'10'"
            ],
            "application/vnd.google.colaboratory.intrinsic+json": {
              "type": "string"
            }
          },
          "metadata": {},
          "execution_count": 67
        }
      ]
    },
    {
      "cell_type": "markdown",
      "source": [
        "# python built-in functions\n",
        "\n",
        "* 링크: https://docs.python.org/3/library/functions.html"
      ],
      "metadata": {
        "id": "LXw0GBR3jp_U"
      }
    },
    {
      "cell_type": "code",
      "source": [
        "# 자주 사용하는 functions\n",
        "abs\n",
        "all\n",
        "any\n",
        "bin\n",
        "enumerate\n",
        "len\n",
        "format\n",
        "input\n",
        "range\n",
        "\n",
        "sorted\n",
        "reversed\n",
        "\n",
        "filter\n",
        "map\n",
        "zip\n",
        "\n",
        "# isinstance # class파트에서 해드리겠습니다!\n",
        "# issubclass\n",
        "\n",
        "iter\n",
        "next\n",
        "\n",
        "locals\n",
        "globals\n",
        "\n",
        "max\n",
        "min\n",
        "sum"
      ],
      "metadata": {
        "id": "_e625zcpkpLn"
      },
      "execution_count": null,
      "outputs": []
    },
    {
      "cell_type": "code",
      "source": [
        "# 자료형을 만드는 built-in functions\n",
        "# int\n",
        "# float\n",
        "# str\n",
        "# complex\n",
        "# list\n",
        "# tuple\n",
        "# dict\n",
        "# set"
      ],
      "metadata": {
        "id": "YUw62vn6kw9L"
      },
      "execution_count": null,
      "outputs": []
    },
    {
      "cell_type": "code",
      "source": [
        "abs(-10) # 절대값\n",
        "all([True, True, False]) # 안에 있는 값이 다 True여야 True!\n",
        "any([True, True, False]) # 하나라도 True라면 True!\n",
        "bin(10) # 2진수로 바꿔줍니다. 알고리즘 문제에서 아주 간혹 출제 됩니다. 실무에서는 거의 쓸일이 없습니다.\n",
        "# oct()\n",
        "# hex()\n",
        "\n",
        "# 뽑힌 2진수를 10진수로 다시 바꾸고 싶을 때!\n",
        "int('1010', 2)"
      ],
      "metadata": {
        "id": "fMq7welbm7L_",
        "colab": {
          "base_uri": "https://localhost:8080/"
        },
        "outputId": "07ee0b26-c741-4527-8fba-4edaecf69faa"
      },
      "execution_count": null,
      "outputs": [
        {
          "output_type": "execute_result",
          "data": {
            "text/plain": [
              "10"
            ]
          },
          "metadata": {},
          "execution_count": 17
        }
      ]
    },
    {
      "cell_type": "code",
      "source": [
        "# 언패킹\n",
        "\n",
        "a, b = [10, 20]\n",
        "a, b, c, d, e = range(5)\n",
        "a, b = (10, 20)\n",
        "a, b = {\n",
        "    'one': 10,\n",
        "    'two': 20\n",
        "}\n",
        "\n",
        "a"
      ],
      "metadata": {
        "colab": {
          "base_uri": "https://localhost:8080/",
          "height": 35
        },
        "id": "fUS1b1dTYX9R",
        "outputId": "ab212244-e2e9-46f9-e192-070835f8b920"
      },
      "execution_count": null,
      "outputs": [
        {
          "output_type": "execute_result",
          "data": {
            "text/plain": [
              "'one'"
            ],
            "application/vnd.google.colaboratory.intrinsic+json": {
              "type": "string"
            }
          },
          "metadata": {},
          "execution_count": 26
        }
      ]
    },
    {
      "cell_type": "code",
      "source": [
        "# enumerate\n",
        "list(enumerate('hello'))\n",
        "list(enumerate('hello', 100))\n",
        "\n",
        "for i in enumerate('hello'):\n",
        "    print(i)\n",
        "\n",
        "for index, value in enumerate('hello'):\n",
        "    print(i)\n",
        "\n",
        "for i, v in enumerate('hello'):\n",
        "    print(i)\n",
        "\n",
        "for i in range(len('hello')): # 이렇게 쓰실거면\n",
        "    print(i)\n",
        "\n",
        "for i, _ in enumerate('hello'): # 이렇게 쓰시는 것을 권합니다.\n",
        "    print(i)"
      ],
      "metadata": {
        "colab": {
          "base_uri": "https://localhost:8080/"
        },
        "id": "glsdlDxfmEHe",
        "outputId": "55c544f1-274b-4461-fbe6-5bedbab055d1"
      },
      "execution_count": null,
      "outputs": [
        {
          "output_type": "stream",
          "name": "stdout",
          "text": [
            "(0, 'h')\n",
            "(1, 'e')\n",
            "(2, 'l')\n",
            "(3, 'l')\n",
            "(4, 'o')\n",
            "(4, 'o')\n",
            "(4, 'o')\n",
            "(4, 'o')\n",
            "(4, 'o')\n",
            "(4, 'o')\n",
            "0\n",
            "1\n",
            "2\n",
            "3\n",
            "4\n",
            "0\n",
            "1\n",
            "2\n",
            "3\n",
            "4\n",
            "0\n",
            "1\n",
            "2\n",
            "3\n",
            "4\n"
          ]
        }
      ]
    },
    {
      "cell_type": "code",
      "source": [
        "# len\n",
        "len([10, 20, 30])\n",
        "\n",
        "# format\n",
        "format(10, 'b')\n",
        "format(100000000, ',') # 이코드 정말 많이 쓰여요!\n",
        "\n",
        "# input\n",
        "input('입력하세요!') # 주의할점: 숫자를 입력해도 문자로 입력받습니다.\n",
        "\n",
        "# range\n",
        "# range(start, stop, step)\n",
        "# range는 리스트가 아니라! range 타입입니다! 2.x에서는 리스트였습니다."
      ],
      "metadata": {
        "colab": {
          "base_uri": "https://localhost:8080/",
          "height": 54
        },
        "id": "ZOjxtnbMZeKg",
        "outputId": "cb87c000-a6af-4fe3-97f3-9ee06981827f"
      },
      "execution_count": null,
      "outputs": [
        {
          "name": "stdout",
          "output_type": "stream",
          "text": [
            "입력하세요!10000\n"
          ]
        },
        {
          "output_type": "execute_result",
          "data": {
            "text/plain": [
              "'10000'"
            ],
            "application/vnd.google.colaboratory.intrinsic+json": {
              "type": "string"
            }
          },
          "metadata": {},
          "execution_count": 33
        }
      ]
    },
    {
      "cell_type": "code",
      "source": [
        "# sorted\n",
        "# 별표 5개\n",
        "\n",
        "s = [10, 20, 5, 4, 3, 8, 19, 3, 2]\n",
        "sorted(s) # 오름차순\n",
        "sorted(s, reverse=True) # 내림차순\n",
        "\n",
        "# 이게 왜 중요할까요? 이런 정렬을 할 때가 많습니다.\n",
        "# 실무에서도 많고, 알고리즘 문제에서도 많아요."
      ],
      "metadata": {
        "colab": {
          "base_uri": "https://localhost:8080/"
        },
        "id": "uVRAyO7TajHQ",
        "outputId": "ab5ad391-3717-4dfc-b500-71722fd48f76"
      },
      "execution_count": null,
      "outputs": [
        {
          "output_type": "execute_result",
          "data": {
            "text/plain": [
              "[20, 19, 10, 8, 5, 4, 3, 3, 2]"
            ]
          },
          "metadata": {},
          "execution_count": 35
        }
      ]
    },
    {
      "cell_type": "code",
      "source": [
        "# 학년, 반, 번, 이름, 국어, 영어, 수학\n",
        "data = [\n",
        "    [1, 1, 5, '홍길동', 78, 54, 39],          # 3\n",
        "    [1, 1, 2, '김철수', 92, 88, 75],          # 3\n",
        "    [1, 2, 7, '이', 87, 91, 82],              # 1\n",
        "    [1, 2, 3, '박민수', 65, 72, 84],          # 3\n",
        "    [1, 1, 8, '정수진', 91, 85, 93],          # 3\n",
        "    [1, 3, 1, '강', 76, 79, 88],              # 1\n",
        "    [1, 2, 4, '윤서연미래별하', 89, 94, 90],  # 7\n",
        "    [1, 3, 6, '장현우', 82, 67, 71],          # 3\n",
        "    [1, 1, 10, '조', 95, 89, 97],             # 1\n",
        "    [1, 3, 9, '최준호빛나라', 73, 80, 76]     # 6\n",
        "]\n",
        "\n",
        "# 문제 1 이름의 글자수 대로 정렬해주세요.\n",
        "def f(x):\n",
        "    return len(x[3])\n",
        "\n",
        "sorted(data, key=f)"
      ],
      "metadata": {
        "colab": {
          "base_uri": "https://localhost:8080/"
        },
        "id": "wx237RwSbYrn",
        "outputId": "d63a59bd-2211-4f0a-8766-cd4b31331702"
      },
      "execution_count": null,
      "outputs": [
        {
          "output_type": "execute_result",
          "data": {
            "text/plain": [
              "[[1, 2, 7, '이', 87, 91, 82],\n",
              " [1, 3, 1, '강', 76, 79, 88],\n",
              " [1, 1, 10, '조', 95, 89, 97],\n",
              " [1, 1, 5, '홍길동', 78, 54, 39],\n",
              " [1, 1, 2, '김철수', 92, 88, 75],\n",
              " [1, 2, 3, '박민수', 65, 72, 84],\n",
              " [1, 1, 8, '정수진', 91, 85, 93],\n",
              " [1, 3, 6, '장현우', 82, 67, 71],\n",
              " [1, 3, 9, '최준호빛나라', 73, 80, 76],\n",
              " [1, 2, 4, '윤서연미래별하', 89, 94, 90]]"
            ]
          },
          "metadata": {},
          "execution_count": 36
        }
      ]
    },
    {
      "cell_type": "code",
      "source": [
        "# 학년, 반, 번, 이름, 국어, 영어, 수학\n",
        "data = [\n",
        "    [1, 1, 5, '홍길동', 78, 54, 39],          # ?\n",
        "    [1, 1, 2, '김철수', 92, 88, 75],          # ?\n",
        "    [1, 2, 7, '이', 87, 91, 82],              # ?\n",
        "    [1, 2, 3, '박민수', 65, 72, 84],          # ?\n",
        "    [1, 1, 8, '정수진', 91, 85, 93],          # ?\n",
        "    [1, 3, 1, '강', 76, 79, 88],              # ?\n",
        "    [1, 2, 4, '윤서연미래별하', 89, 94, 90],  # ?\n",
        "    [1, 3, 6, '장현우', 82, 67, 71],          # ?\n",
        "    [1, 1, 10, '조', 95, 89, 97],             # ?\n",
        "    [1, 3, 9, '최준호빛나라', 73, 80, 76]     # ?\n",
        "]\n",
        "\n",
        "# 문제 2 평균대로 정렬해주세요. 지금 풀어주세요!\n",
        "def f(x):\n",
        "    return sum(x[4:])\n",
        "\n",
        "sorted(data, key=f, reverse=True)"
      ],
      "metadata": {
        "colab": {
          "base_uri": "https://localhost:8080/"
        },
        "id": "_RU1WtEHdl99",
        "outputId": "478e4571-a99b-417b-8661-6dc48039dc85"
      },
      "execution_count": null,
      "outputs": [
        {
          "output_type": "execute_result",
          "data": {
            "text/plain": [
              "[[1, 1, 10, '조', 95, 89, 97],\n",
              " [1, 2, 4, '윤서연미래별하', 89, 94, 90],\n",
              " [1, 1, 8, '정수진', 91, 85, 93],\n",
              " [1, 2, 7, '이', 87, 91, 82],\n",
              " [1, 1, 2, '김철수', 92, 88, 75],\n",
              " [1, 3, 1, '강', 76, 79, 88],\n",
              " [1, 3, 9, '최준호빛나라', 73, 80, 76],\n",
              " [1, 2, 3, '박민수', 65, 72, 84],\n",
              " [1, 3, 6, '장현우', 82, 67, 71],\n",
              " [1, 1, 5, '홍길동', 78, 54, 39]]"
            ]
          },
          "metadata": {},
          "execution_count": 50
        }
      ]
    },
    {
      "cell_type": "code",
      "source": [
        "# 학년, 반, 번, 이름, 국어, 영어, 수학\n",
        "data = [\n",
        "    [1, 1, 5, '홍길동', 78, 54, 39],          # ?\n",
        "    [1, 1, 2, '김철수', 92, 88, 75],          # ?\n",
        "    [1, 2, 7, '이', 87, 91, 82],              # ?\n",
        "    [1, 2, 3, '박민수', 65, 72, 84],          # ?\n",
        "    [1, 1, 8, '정수진', 91, 85, 93],          # ?\n",
        "    [1, 3, 1, '강', 76, 79, 88],              # ?\n",
        "    [1, 2, 4, '윤서연미래별하', 89, 94, 90],  # ?\n",
        "    [1, 3, 6, '장현우', 82, 67, 71],          # ?\n",
        "    [1, 1, 10, '조', 95, 89, 97],             # ?\n",
        "    [1, 3, 9, '최준호빛나라', 73, 80, 76]     # ?\n",
        "]\n",
        "\n",
        "# 문제 3 국어 점수와 수학 점수가 가장 점수차가 큰 순서대로 정렬해주세요.\n",
        "def f(x):\n",
        "    return abs(x[4] - x[6])\n",
        "\n",
        "sorted(data, key=f, reverse=True)"
      ],
      "metadata": {
        "colab": {
          "base_uri": "https://localhost:8080/"
        },
        "id": "tsLVRvkGmIcN",
        "outputId": "26bbac14-fc98-4a67-96fa-f9c0bf0404c9"
      },
      "execution_count": null,
      "outputs": [
        {
          "output_type": "execute_result",
          "data": {
            "text/plain": [
              "[[1, 1, 5, '홍길동', 78, 54, 39],\n",
              " [1, 2, 3, '박민수', 65, 72, 84],\n",
              " [1, 1, 2, '김철수', 92, 88, 75],\n",
              " [1, 3, 1, '강', 76, 79, 88],\n",
              " [1, 3, 6, '장현우', 82, 67, 71],\n",
              " [1, 2, 7, '이', 87, 91, 82],\n",
              " [1, 3, 9, '최준호빛나라', 73, 80, 76],\n",
              " [1, 1, 8, '정수진', 91, 85, 93],\n",
              " [1, 1, 10, '조', 95, 89, 97],\n",
              " [1, 2, 4, '윤서연미래별하', 89, 94, 90]]"
            ]
          },
          "metadata": {},
          "execution_count": 51
        }
      ]
    },
    {
      "cell_type": "code",
      "source": [
        "# 1차원의 점들이 주어졌을 때,\n",
        "# 그 중 가장 거리가 짧은 것의 쌍을 출력하는 함수를 작성하시오.\n",
        "# (단 점들의 배열은 모두 정렬되어있다고 가정한다.)\n",
        "\n",
        "# 예를들어 S={1, 3, 4, 8, 13, 17, 20} 이 주어졌다면, 결과값은 (3, 4)가 될 것이다.\n",
        "\n",
        "# 이렇게 풀지 마세요. 파이써닉하지 않습니다.\n",
        "s = [1, 3, 4, 8, 13, 17, 20]\n",
        "\n",
        "for i in range(len(s)):\n",
        "    pass"
      ],
      "metadata": {
        "id": "MctXXe7unr3g"
      },
      "execution_count": null,
      "outputs": []
    },
    {
      "cell_type": "code",
      "source": [
        "data = [\n",
        "    [1, 3],\n",
        "    [3, 4],\n",
        "    [4, 8],\n",
        "    [8, 13],\n",
        "    [13, 17],\n",
        "    [17, 20],\n",
        "]\n",
        "\n",
        "def f(x):\n",
        "    return x[1] - x[0]\n",
        "\n",
        "sorted(data, key=f)"
      ],
      "metadata": {
        "colab": {
          "base_uri": "https://localhost:8080/"
        },
        "id": "jEg1FMLtoTps",
        "outputId": "b1f0a1c7-952d-4f48-b7c0-6b939a399d06"
      },
      "execution_count": null,
      "outputs": [
        {
          "output_type": "execute_result",
          "data": {
            "text/plain": [
              "[[3, 4], [1, 3], [17, 20], [4, 8], [13, 17], [8, 13]]"
            ]
          },
          "metadata": {},
          "execution_count": 52
        }
      ]
    },
    {
      "cell_type": "code",
      "source": [
        "s = [1, 3, 4, 8, 13, 17, 20]\n",
        "\n",
        "def f(x):\n",
        "    return x[1] - x[0]\n",
        "\n",
        "sorted(zip(s, s[1:]), key=f)"
      ],
      "metadata": {
        "colab": {
          "base_uri": "https://localhost:8080/"
        },
        "id": "1vZfRvCtpCPZ",
        "outputId": "7a25c2c9-bf94-4c34-9ab4-2754b3418aad"
      },
      "execution_count": null,
      "outputs": [
        {
          "output_type": "execute_result",
          "data": {
            "text/plain": [
              "[(1, 3), (3, 4), (4, 8), (8, 13), (13, 17), (17, 20)]"
            ]
          },
          "metadata": {},
          "execution_count": 53
        }
      ]
    },
    {
      "cell_type": "code",
      "source": [
        "# sorted에서 자주 나오는 유형2번째!\n",
        "# 정렬 기준이 나에게 없는경우!?\n",
        "\n",
        "data1 = [\n",
        "    'Moby Dick',              # 1851\n",
        "    'To Kill a Mockingbird',  # 1960\n",
        "    '1984'                    # 1949\n",
        "    ]\n",
        "data2 = {'Moby Dick': 1851, 'To Kill a Mockingbird': 1960, '1984': 1949}\n",
        "\n",
        "def f(x):\n",
        "    return data2[x]\n",
        "\n",
        "sorted(data1, key=f)"
      ],
      "metadata": {
        "colab": {
          "base_uri": "https://localhost:8080/"
        },
        "id": "cAeXw1LJpazV",
        "outputId": "340589c4-d27e-4160-9bc2-32eaf0e03b8d"
      },
      "execution_count": null,
      "outputs": [
        {
          "output_type": "execute_result",
          "data": {
            "text/plain": [
              "['Moby Dick', '1984', 'To Kill a Mockingbird']"
            ]
          },
          "metadata": {},
          "execution_count": 54
        }
      ]
    },
    {
      "cell_type": "code",
      "source": [
        "# 우편번호 정렬\n",
        "# 우편번호 오름차순 순서대로 주소를 정렬하는 코드\n",
        "data = [\n",
        "    ['A동',\n",
        "     'B동',\n",
        "     'C동'],\n",
        "    {'A동': 63007, 'B동': 63010, 'C동': 63002}\n",
        "]\n",
        "\n",
        "data1 = data[0]\n",
        "data2 = data[1]\n",
        "\n",
        "def f(x):\n",
        "    return data2[x]\n",
        "\n",
        "sorted(data1, key=f)"
      ],
      "metadata": {
        "id": "aYQ53eLHrfpm"
      },
      "execution_count": null,
      "outputs": []
    },
    {
      "cell_type": "code",
      "source": [
        "# 특정 형태의 함수가 들어가야 하나요? 아닙니다. 일반 def 되는 함수 또는 lambda 함수 모두 함수의 형태면 가능합니다!\n",
        "# 이 함수의 return 되는 값에 따라 정렬을 해줍니다."
      ],
      "metadata": {
        "id": "ZD5NoZQJfOHQ"
      },
      "execution_count": null,
      "outputs": []
    },
    {
      "cell_type": "code",
      "source": [
        "def user_f(aaa, bbb=100):\n",
        "    return aaa + bbb\n",
        "\n",
        "user_f(1000)"
      ],
      "metadata": {
        "colab": {
          "base_uri": "https://localhost:8080/"
        },
        "id": "Ys5yXQ44d4sJ",
        "outputId": "0475cf0f-a87d-46d2-d01f-903161eb8395"
      },
      "execution_count": null,
      "outputs": [
        {
          "output_type": "execute_result",
          "data": {
            "text/plain": [
              "1100"
            ]
          },
          "metadata": {},
          "execution_count": 37
        }
      ]
    },
    {
      "cell_type": "code",
      "source": [
        "def user_f(aaa, bbb=100):\n",
        "    return aaa + bbb\n",
        "\n",
        "user_f(1000, bbb=10000)"
      ],
      "metadata": {
        "colab": {
          "base_uri": "https://localhost:8080/"
        },
        "id": "ARu3tRPIeHQB",
        "outputId": "f8d70018-16f2-4cf2-de83-08ae24a258c2"
      },
      "execution_count": null,
      "outputs": [
        {
          "output_type": "execute_result",
          "data": {
            "text/plain": [
              "11000"
            ]
          },
          "metadata": {},
          "execution_count": 38
        }
      ]
    },
    {
      "cell_type": "code",
      "source": [
        "# 학년, 반, 번, 이름, 국어, 영어, 수학\n",
        "data = [\n",
        "    [1, 1, 5, '홍길동', 78, 54, 39],          # [1, 2, 3]\n",
        "    [1, 1, 2, '김철수', 92, 88, 75],          # [1, 2, 3]\n",
        "    [1, 2, 7, '이', 87, 91, 82],              # [1, 2, 3]\n",
        "    [1, 2, 3, '박민수', 65, 72, 84],          # [1, 2, 3]\n",
        "    [1, 1, 8, '정수진', 91, 85, 93],          # [1, 2, 3]\n",
        "    [1, 3, 1, '강', 76, 79, 88],              # [1, 2, 3]\n",
        "    [1, 2, 4, '윤서연미래별하', 89, 94, 90],  # [1, 2, 3]\n",
        "    [1, 3, 6, '장현우', 82, 67, 71],          # [1, 2, 3]\n",
        "    [1, 1, 10, '조', 95, 89, 97],             # [1, 2, 3]\n",
        "    [1, 3, 9, '최준호빛나라', 73, 80, 76]     # [1, 2, 3]\n",
        "]\n",
        "\n",
        "# Q&A 반환값이 아래와 같이 동일하면 어떻게 되나요? 그대로 줍니다.\n",
        "def f(x):\n",
        "    return [1, 2, 3]\n",
        "\n",
        "sorted(data, key=f)"
      ],
      "metadata": {
        "colab": {
          "base_uri": "https://localhost:8080/"
        },
        "id": "kGgiZNR3fpPe",
        "outputId": "a08ab5af-050e-4295-c8ed-5d0a7f6d9f72"
      },
      "execution_count": null,
      "outputs": [
        {
          "output_type": "execute_result",
          "data": {
            "text/plain": [
              "[[1, 1, 5, '홍길동', 78, 54, 39],\n",
              " [1, 1, 2, '김철수', 92, 88, 75],\n",
              " [1, 2, 7, '이', 87, 91, 82],\n",
              " [1, 2, 3, '박민수', 65, 72, 84],\n",
              " [1, 1, 8, '정수진', 91, 85, 93],\n",
              " [1, 3, 1, '강', 76, 79, 88],\n",
              " [1, 2, 4, '윤서연미래별하', 89, 94, 90],\n",
              " [1, 3, 6, '장현우', 82, 67, 71],\n",
              " [1, 1, 10, '조', 95, 89, 97],\n",
              " [1, 3, 9, '최준호빛나라', 73, 80, 76]]"
            ]
          },
          "metadata": {},
          "execution_count": 39
        }
      ]
    },
    {
      "cell_type": "code",
      "source": [
        "# 학년, 반, 번, 이름, 국어, 영어, 수학\n",
        "data = [\n",
        "    [1, 1, 5, '홍길동', 78, 54, 39],          # 10\n",
        "    [1, 1, 2, '김철수', 92, 88, 75],          # 10\n",
        "    [1, 2, 7, '이', 87, 91, 82],              # 10\n",
        "    [1, 2, 3, '박민수', 65, 72, 84],          # 10\n",
        "    [1, 1, 8, '정수진', 91, 85, 93],          # 10\n",
        "    [1, 3, 1, '강', 76, 79, 88],              # 10\n",
        "    [1, 2, 4, '윤서연미래별하', 89, 94, 90],  # 10\n",
        "    [1, 3, 6, '장현우', 82, 67, 71],          # 10\n",
        "    [1, 1, 10, '조', 95, 89, 97],             # 10\n",
        "    [1, 3, 9, '최준호빛나라', 73, 80, 76]     # 10\n",
        "]\n",
        "\n",
        "# Q&A 반환값이 아래와 같이 동일하면 어떻게 되나요? 그대로 줍니다.\n",
        "def f(x):\n",
        "    return 10\n",
        "\n",
        "sorted(data, key=f)"
      ],
      "metadata": {
        "colab": {
          "base_uri": "https://localhost:8080/"
        },
        "id": "AMlq79qJgdRs",
        "outputId": "0f7d9a8d-d1cf-4eec-f708-83dbd8a03271"
      },
      "execution_count": null,
      "outputs": [
        {
          "output_type": "execute_result",
          "data": {
            "text/plain": [
              "[[1, 1, 5, '홍길동', 78, 54, 39],\n",
              " [1, 1, 2, '김철수', 92, 88, 75],\n",
              " [1, 2, 7, '이', 87, 91, 82],\n",
              " [1, 2, 3, '박민수', 65, 72, 84],\n",
              " [1, 1, 8, '정수진', 91, 85, 93],\n",
              " [1, 3, 1, '강', 76, 79, 88],\n",
              " [1, 2, 4, '윤서연미래별하', 89, 94, 90],\n",
              " [1, 3, 6, '장현우', 82, 67, 71],\n",
              " [1, 1, 10, '조', 95, 89, 97],\n",
              " [1, 3, 9, '최준호빛나라', 73, 80, 76]]"
            ]
          },
          "metadata": {},
          "execution_count": 41
        }
      ]
    },
    {
      "cell_type": "code",
      "source": [
        "# 학년, 반, 번, 이름, 국어, 영어, 수학\n",
        "data = [\n",
        "    [1, 1, 5, '홍길동', 78, 54, 39],          # 10\n",
        "    [1, 1, 2, '김철수', 92, 88, 75],          # 10\n",
        "    [1, 2, 7, '이', 87, 91, 82],              # 10\n",
        "    [1, 2, 3, '박민수', 65, 72, 84],          # 10\n",
        "    [1, 1, 8, '정수진', 91, 85, 93],          # 10\n",
        "    [1, 3, 1, '강', 76, 79, 88],              # 10\n",
        "    [1, 2, 4, '윤서연미래별하', 89, 94, 90],  # 10\n",
        "    [1, 3, 6, '장현우', 82, 67, 71],          # 10\n",
        "    [1, 1, 10, '조', 95, 89, 97],             # 10\n",
        "    [1, 3, 9, '최준호빛나라', 73, 80, 76]     # 10\n",
        "]\n",
        "\n",
        "# Q&A 글자에서 1이 얼마나 들어가는지만 카운트 하는 sorted를 구현하고 싶다면 어떻게 해야 하나요?\n",
        "def user_count(x):\n",
        "    return ''.join(map(str, x)).count('1')\n",
        "\n",
        "sorted(data, key=user_count)"
      ],
      "metadata": {
        "colab": {
          "base_uri": "https://localhost:8080/"
        },
        "id": "3PNd-CR4goX7",
        "outputId": "20715488-989b-49e0-bd12-ef44b0156b9e"
      },
      "execution_count": null,
      "outputs": [
        {
          "output_type": "execute_result",
          "data": {
            "text/plain": [
              "[[1, 2, 3, '박민수', 65, 72, 84],\n",
              " [1, 2, 4, '윤서연미래별하', 89, 94, 90],\n",
              " [1, 3, 9, '최준호빛나라', 73, 80, 76],\n",
              " [1, 1, 5, '홍길동', 78, 54, 39],\n",
              " [1, 1, 2, '김철수', 92, 88, 75],\n",
              " [1, 2, 7, '이', 87, 91, 82],\n",
              " [1, 3, 1, '강', 76, 79, 88],\n",
              " [1, 3, 6, '장현우', 82, 67, 71],\n",
              " [1, 1, 8, '정수진', 91, 85, 93],\n",
              " [1, 1, 10, '조', 95, 89, 97]]"
            ]
          },
          "metadata": {},
          "execution_count": 47
        }
      ]
    },
    {
      "cell_type": "code",
      "source": [
        "# Q&A 구현한 함수 말고 built-in functions 그대로 사용할 수 있나요? 네!\n",
        "data = [\n",
        "    '홍',\n",
        "    '홍길동',\n",
        "    '길동',\n",
        "    '장현우',\n",
        "    '조'\n",
        "]\n",
        "\n",
        "\n",
        "sorted(data, key=len)"
      ],
      "metadata": {
        "colab": {
          "base_uri": "https://localhost:8080/"
        },
        "id": "o-1N07uQhqS9",
        "outputId": "7c1f68d4-9208-4bce-bad9-31e4411e7253"
      },
      "execution_count": null,
      "outputs": [
        {
          "output_type": "execute_result",
          "data": {
            "text/plain": [
              "['홍', '조', '길동', '홍길동', '장현우']"
            ]
          },
          "metadata": {},
          "execution_count": 48
        }
      ]
    },
    {
      "cell_type": "code",
      "source": [
        "# ''.join([1, 1, 5, '홍길동', 78, 54, 39])\n",
        "''.join(map(str, [1, 1, 5, '홍길동', 78, 54, 39])).count('1')"
      ],
      "metadata": {
        "colab": {
          "base_uri": "https://localhost:8080/"
        },
        "id": "bAhwd85rg-Pw",
        "outputId": "70e16f52-aadb-4f42-cff0-d2cf12f5e6fc"
      },
      "execution_count": null,
      "outputs": [
        {
          "output_type": "execute_result",
          "data": {
            "text/plain": [
              "2"
            ]
          },
          "metadata": {},
          "execution_count": 44
        }
      ]
    },
    {
      "cell_type": "code",
      "source": [
        "list(reversed([10, 20, 30]))"
      ],
      "metadata": {
        "colab": {
          "base_uri": "https://localhost:8080/"
        },
        "id": "qdoSA9FktsKF",
        "outputId": "e8170112-3780-454a-9a19-576ba55864ac"
      },
      "execution_count": null,
      "outputs": [
        {
          "output_type": "execute_result",
          "data": {
            "text/plain": [
              "[30, 20, 10]"
            ]
          },
          "metadata": {},
          "execution_count": 56
        }
      ]
    },
    {
      "cell_type": "code",
      "source": [
        "list(range(10))"
      ],
      "metadata": {
        "colab": {
          "base_uri": "https://localhost:8080/"
        },
        "id": "DDW0jbtit2js",
        "outputId": "2a77e15d-a3c2-4ef7-f19f-24bc72f5db96"
      },
      "execution_count": null,
      "outputs": [
        {
          "output_type": "execute_result",
          "data": {
            "text/plain": [
              "[0, 1, 2, 3, 4, 5, 6, 7, 8, 9]"
            ]
          },
          "metadata": {},
          "execution_count": 58
        }
      ]
    },
    {
      "cell_type": "code",
      "source": [
        "filter\n",
        "map\n",
        "zip\n",
        "\n",
        "# isinstance # class파트에서 해드리겠습니다!\n",
        "# issubclass\n",
        "\n",
        "iter\n",
        "next\n",
        "\n",
        "locals\n",
        "globals\n",
        "\n",
        "max\n",
        "min\n",
        "sum"
      ],
      "metadata": {
        "colab": {
          "base_uri": "https://localhost:8080/"
        },
        "id": "OoTsZinzuTGe",
        "outputId": "52f718cd-c2cf-4650-b6b9-29271fc0e75e"
      },
      "execution_count": null,
      "outputs": [
        {
          "output_type": "execute_result",
          "data": {
            "text/plain": [
              "<list_reverseiterator at 0x7fe16132b610>"
            ]
          },
          "metadata": {},
          "execution_count": 59
        }
      ]
    },
    {
      "cell_type": "code",
      "source": [
        "result = 0\n",
        "for i in range(1, 11):\n",
        "    if i % 2 == 0:\n",
        "        result += i\n",
        "\n",
        "result"
      ],
      "metadata": {
        "colab": {
          "base_uri": "https://localhost:8080/"
        },
        "id": "DjXr-IeCuZpA",
        "outputId": "6886f998-a78c-44af-ba6c-0199b13a0c02"
      },
      "execution_count": null,
      "outputs": [
        {
          "output_type": "execute_result",
          "data": {
            "text/plain": [
              "30"
            ]
          },
          "metadata": {},
          "execution_count": 60
        }
      ]
    },
    {
      "cell_type": "code",
      "source": [
        "def f(x):\n",
        "    return x % 2 == 0\n",
        "\n",
        "list(filter(f, range(1, 11)))"
      ],
      "metadata": {
        "colab": {
          "base_uri": "https://localhost:8080/"
        },
        "id": "m3WBN1q_u7Ro",
        "outputId": "5a373535-bdee-494d-bdcb-da9cc90587ed"
      },
      "execution_count": null,
      "outputs": [
        {
          "output_type": "execute_result",
          "data": {
            "text/plain": [
              "[2, 4, 6, 8, 10]"
            ]
          },
          "metadata": {},
          "execution_count": 62
        }
      ]
    },
    {
      "cell_type": "code",
      "source": [
        "def f(x):\n",
        "    return x % 2 == 0\n",
        "\n",
        "sum(filter(f, range(1, 11)))"
      ],
      "metadata": {
        "colab": {
          "base_uri": "https://localhost:8080/"
        },
        "id": "ldu3t2o6va-k",
        "outputId": "3d892fbf-0d7e-4d2a-9ac4-67305effecd3"
      },
      "execution_count": null,
      "outputs": [
        {
          "output_type": "execute_result",
          "data": {
            "text/plain": [
              "30"
            ]
          },
          "metadata": {},
          "execution_count": 63
        }
      ]
    },
    {
      "cell_type": "code",
      "source": [
        "# 항공사, 편명, 좌석번호, 이름, 나이, 짐무게(kg), 마일리지\n",
        "data = [\n",
        "    ['대한항공', 'KE607', '12A', '김민준', 42, 23, 5280],\n",
        "    ['아시아나', 'OZ721', '8C', '이', 29, 18, 3450],\n",
        "    ['제주항공', '7C101', '15F', '박지민', 35, 15, 720],\n",
        "    ['진에어', 'LJ211', '4D', '최서우미래한별', 51, 27, 8900],\n",
        "    ['에어부산', 'BX213', '21B', '정', 24, 12, 1250],\n",
        "    ['티웨이', 'TW305', '19E', '강민석', 38, 20, 2760],\n",
        "    ['에어서울', 'RS808', '3C', '윤지현', 47, 16, 4320],\n",
        "    ['대한항공', 'KE123', '7F', '송', 33, 21, 6780],\n",
        "    ['아시아나', 'OZ562', '11D', '장하은별님달빛', 26, 19, 1890],\n",
        "    ['제주항공', '7C505', '17B', '황수진', 40, 14, 940]\n",
        "]\n",
        "\n",
        "def f(x):\n",
        "    return x[4] >= 30\n",
        "\n",
        "for i in filter(f, data):\n",
        "    print(i)"
      ],
      "metadata": {
        "colab": {
          "base_uri": "https://localhost:8080/"
        },
        "id": "CwC8CMKnvy9l",
        "outputId": "ff187f84-bea9-4d2b-c0a2-a108b55137e4"
      },
      "execution_count": null,
      "outputs": [
        {
          "output_type": "stream",
          "name": "stdout",
          "text": [
            "['대한항공', 'KE607', '12A', '김민준', 42, 23, 5280]\n",
            "['제주항공', '7C101', '15F', '박지민', 35, 15, 720]\n",
            "['진에어', 'LJ211', '4D', '최서우미래한별', 51, 27, 8900]\n",
            "['티웨이', 'TW305', '19E', '강민석', 38, 20, 2760]\n",
            "['에어서울', 'RS808', '3C', '윤지현', 47, 16, 4320]\n",
            "['대한항공', 'KE123', '7F', '송', 33, 21, 6780]\n",
            "['제주항공', '7C505', '17B', '황수진', 40, 14, 940]\n"
          ]
        }
      ]
    },
    {
      "cell_type": "code",
      "source": [
        "# list 변환하는 것은 하나씩 순회를 돌며 메모리에 적제하기 때문에 아래와 같은 경우\n",
        "# 효율이 나쁩니다.\n",
        "\n",
        "# map(함수, iterable)\n",
        "\n",
        "def f(x):\n",
        "    return x**2\n",
        "\n",
        "list(map(f, [1, 2, 3, 4]))"
      ],
      "metadata": {
        "colab": {
          "base_uri": "https://localhost:8080/"
        },
        "id": "6BL3x6vzF8rf",
        "outputId": "3cd66ceb-69ff-472c-f7db-bdb97c9b101e"
      },
      "execution_count": null,
      "outputs": [
        {
          "output_type": "execute_result",
          "data": {
            "text/plain": [
              "[1, 4, 9, 16]"
            ]
          },
          "metadata": {},
          "execution_count": 66
        }
      ]
    },
    {
      "cell_type": "code",
      "source": [
        "# 항공사, 편명, 좌석번호, 이름, 나이, 짐무게(kg), 마일리지\n",
        "data = [\n",
        "    ['대한항공', 'KE607', '12A', '김민준', 42, 23, 5280],\n",
        "    ['아시아나', 'OZ721', '8C', '이', 29, 18, 3450],\n",
        "    ['제주항공', '7C101', '15F', '박지민', 35, 15, 720],\n",
        "    ['진에어', 'LJ211', '4D', '최서우미래한별', 51, 27, 8900],\n",
        "    ['에어부산', 'BX213', '21B', '정', 24, 12, 1250],\n",
        "    ['티웨이', 'TW305', '19E', '강민석', 38, 20, 2760],\n",
        "    ['에어서울', 'RS808', '3C', '윤지현', 47, 16, 4320],\n",
        "    ['대한항공', 'KE123', '7F', '송', 33, 21, 6780],\n",
        "    ['아시아나', 'OZ562', '11D', '장하은별님달빛', 26, 19, 1890],\n",
        "    ['제주항공', '7C505', '17B', '황수진', 40, 14, 940]\n",
        "]\n",
        "\n",
        "# filter와 동일한 함수를 썼을 경우\n",
        "def f(x):\n",
        "    return x[4] >= 30\n",
        "\n",
        "list(map(f, data)) # [True, False, True, True, False, True, True, True, False, True]"
      ],
      "metadata": {
        "colab": {
          "base_uri": "https://localhost:8080/"
        },
        "id": "O15CMNckHk6M",
        "outputId": "ce3042d2-7647-4455-9ee0-2a8de261915a"
      },
      "execution_count": null,
      "outputs": [
        {
          "output_type": "execute_result",
          "data": {
            "text/plain": [
              "[True, False, True, True, False, True, True, True, False, True]"
            ]
          },
          "metadata": {},
          "execution_count": 67
        }
      ]
    },
    {
      "cell_type": "code",
      "source": [
        "# 항공사, 편명, 좌석번호, 이름, 나이, 짐무게(kg), 마일리지\n",
        "data = [\n",
        "    ['대한항공', 'KE607', '12A', '김민준', 42, 23, 5280],\n",
        "    ['아시아나', 'OZ721', '8C', '이', 29, 18, 3450],\n",
        "    ['제주항공', '7C101', '15F', '박지민', 35, 15, 720],\n",
        "    ['진에어', 'LJ211', '4D', '최서우미래한별', 51, 27, 8900],\n",
        "    ['에어부산', 'BX213', '21B', '정', 24, 12, 1250],\n",
        "    ['티웨이', 'TW305', '19E', '강민석', 38, 20, 2760],\n",
        "    ['에어서울', 'RS808', '3C', '윤지현', 47, 16, 4320],\n",
        "    ['대한항공', 'KE123', '7F', '송', 33, 21, 6780],\n",
        "    ['아시아나', 'OZ562', '11D', '장하은별님달빛', 26, 19, 1890],\n",
        "    ['제주항공', '7C505', '17B', '황수진', 40, 14, 940]\n",
        "]\n",
        "\n",
        "# 새로운 리스트를 만들 값을 return 해줬을 때\n",
        "def f(x):\n",
        "    return x[4]\n",
        "\n",
        "list(map(f, data)) # [42, 29, 35, 51, 24, 38, 47, 33, 26, 40]"
      ],
      "metadata": {
        "colab": {
          "base_uri": "https://localhost:8080/"
        },
        "id": "1KLpj5naHwwP",
        "outputId": "785a35bd-d58e-464a-ddd3-0441a24b50c9"
      },
      "execution_count": null,
      "outputs": [
        {
          "output_type": "execute_result",
          "data": {
            "text/plain": [
              "[42, 29, 35, 51, 24, 38, 47, 33, 26, 40]"
            ]
          },
          "metadata": {},
          "execution_count": 68
        }
      ]
    },
    {
      "cell_type": "code",
      "source": [
        "# 항공사, 편명, 좌석번호, 이름, 나이, 짐무게(kg), 마일리지\n",
        "data = [\n",
        "    ['대한항공', 'KE607', '12A', '김민준', 42, 23, 5280],\n",
        "    ['아시아나', 'OZ721', '8C', '이', 29, 18, 3450],\n",
        "    ['제주항공', '7C101', '15F', '박지민', 35, 15, 720],\n",
        "    ['진에어', 'LJ211', '4D', '최서우미래한별', 51, 27, 8900],\n",
        "    ['에어부산', 'BX213', '21B', '정', 24, 12, 1250],\n",
        "    ['티웨이', 'TW305', '19E', '강민석', 38, 20, 2760],\n",
        "    ['에어서울', 'RS808', '3C', '윤지현', 47, 16, 4320],\n",
        "    ['대한항공', 'KE123', '7F', '송', 33, 21, 6780],\n",
        "    ['아시아나', 'OZ562', '11D', '장하은별님달빛', 26, 19, 1890],\n",
        "    ['제주항공', '7C505', '17B', '황수진', 40, 14, 940]\n",
        "]\n",
        "\n",
        "# 새로운 리스트를 만들 값을 return 해줬을 때\n",
        "def f(x):\n",
        "    return 1\n",
        "\n",
        "list(map(f, data)) # [1, 1, 1, 1, ...]"
      ],
      "metadata": {
        "colab": {
          "base_uri": "https://localhost:8080/"
        },
        "id": "Yle4GnyKIgoe",
        "outputId": "4eca4f2a-1b25-4fb9-fb04-397a5742ea46"
      },
      "execution_count": null,
      "outputs": [
        {
          "output_type": "execute_result",
          "data": {
            "text/plain": [
              "[1, 1, 1, 1, 1, 1, 1, 1, 1, 1]"
            ]
          },
          "metadata": {},
          "execution_count": 69
        }
      ]
    },
    {
      "cell_type": "code",
      "source": [
        "# 항공사, 편명, 좌석번호, 이름, 나이, 짐무게(kg), 마일리지\n",
        "data = [\n",
        "    ['대한항공', 'KE607', '12A', '김민준', 42, 23, 5280],\n",
        "    ['아시아나', 'OZ721', '8C', '이', 29, 18, 3450],\n",
        "    ['제주항공', '7C101', '15F', '박지민', 35, 15, 720],\n",
        "    ['진에어', 'LJ211', '4D', '최서우미래한별', 51, 27, 8900],\n",
        "    ['에어부산', 'BX213', '21B', '정', 24, 12, 1250],\n",
        "    ['티웨이', 'TW305', '19E', '강민석', 38, 20, 2760],\n",
        "    ['에어서울', 'RS808', '3C', '윤지현', 47, 16, 4320],\n",
        "    ['대한항공', 'KE123', '7F', '송', 33, 21, 6780],\n",
        "    ['아시아나', 'OZ562', '11D', '장하은별님달빛', 26, 19, 1890],\n",
        "    ['제주항공', '7C505', '17B', '황수진', 40, 14, 940]\n",
        "]\n",
        "\n",
        "# 문제: 편명과 이름으로 된 새로운 리스트를 만들어주세요.\n",
        "# [['KE607', '김민준'] ...] 이런식으로 나와야 합니다.\n",
        "def f(x):\n",
        "    return 1\n",
        "\n",
        "list(map(f, data)) # [1, 1, 1, 1, ...]"
      ],
      "metadata": {
        "id": "lex89eSWI0WK"
      },
      "execution_count": null,
      "outputs": []
    },
    {
      "cell_type": "code",
      "source": [
        "# 항공사, 편명, 좌석번호, 이름, 나이, 짐무게(kg), 마일리지\n",
        "data = [\n",
        "    ['대한항공', 'KE607', '12A', '김민준', 42, 23, 5280],\n",
        "    ['아시아나', 'OZ721', '8C', '이', 29, 18, 3450],\n",
        "    ['제주항공', '7C101', '15F', '박지민', 35, 15, 720],\n",
        "    ['진에어', 'LJ211', '4D', '최서우미래한별', 51, 27, 8900],\n",
        "    ['에어부산', 'BX213', '21B', '정', 24, 12, 1250],\n",
        "    ['티웨이', 'TW305', '19E', '강민석', 38, 20, 2760],\n",
        "    ['에어서울', 'RS808', '3C', '윤지현', 47, 16, 4320],\n",
        "    ['대한항공', 'KE123', '7F', '송', 33, 21, 6780],\n",
        "    ['아시아나', 'OZ562', '11D', '장하은별님달빛', 26, 19, 1890],\n",
        "    ['제주항공', '7C505', '17B', '황수진', 40, 14, 940]\n",
        "]\n",
        "\n",
        "# 문제: 편명과 이름으로 된 새로운 리스트를 만들어주세요.\n",
        "# [['KE607', '김민준'] ...] 이런식으로 나와야 합니다.\n",
        "def f(x):\n",
        "    return [x[1], x[3]]\n",
        "\n",
        "list(map(f, data)) # [['KE607', '김민준'], ... ]"
      ],
      "metadata": {
        "colab": {
          "base_uri": "https://localhost:8080/"
        },
        "id": "vsMPNHP1KIuu",
        "outputId": "461ea702-b7dd-48b9-8fe3-bc77523b56b6"
      },
      "execution_count": null,
      "outputs": [
        {
          "output_type": "execute_result",
          "data": {
            "text/plain": [
              "[['KE607', '김민준'],\n",
              " ['OZ721', '이'],\n",
              " ['7C101', '박지민'],\n",
              " ['LJ211', '최서우미래한별'],\n",
              " ['BX213', '정'],\n",
              " ['TW305', '강민석'],\n",
              " ['RS808', '윤지현'],\n",
              " ['KE123', '송'],\n",
              " ['OZ562', '장하은별님달빛'],\n",
              " ['7C505', '황수진']]"
            ]
          },
          "metadata": {},
          "execution_count": 70
        }
      ]
    },
    {
      "cell_type": "code",
      "source": [
        "# map은 어떤 데이터를 '추출'할 때 많이 사용합니다.\n",
        "# front-end는 입사문제로 map을 자주 출제합니다."
      ],
      "metadata": {
        "id": "pTafSpNhH3EG"
      },
      "execution_count": null,
      "outputs": []
    },
    {
      "cell_type": "code",
      "source": [
        "# 문제: 30살 이상인 사람들의 나이 합을 구해주세요!\n",
        "# 30살 이상인 사람을 filter 해서 나이를 다 더한 다음 필더링 한 사람들의 합을 구해주면 되겠네?\n",
        "# 방법1: 나이만 map 해서 뽑고 filter로 30살 이상인 사람 추출해서 sum\n",
        "# 방법2: filter로 30살 이상인 사람 추출한 다음 map으로 나이만 뽑고 sum\n",
        "\n",
        "\n",
        "# 방법1\n",
        "# 일부러 f, ff 이런식으로 함수명을 작성하고 있는데\n",
        "# 실무에서는 실제 기능에 맞춰 함수명을 작성합니다.\n",
        "# 함수명을 작성하는 것부터가 큰 스트레스입니다.\n",
        "# ChatGPT로 많이 하기 때문에 요즘에는 스트레스까진 아닙니다.\n",
        "# def f(x):\n",
        "#     return x[4]\n",
        "\n",
        "# def ff(x):\n",
        "#     return x >= 30\n",
        "\n",
        "# sum(filter(ff, map(f, data)))\n",
        "\n",
        "# 방법2\n",
        "def f(x):\n",
        "    return x[4] >= 30\n",
        "\n",
        "def ff(x):\n",
        "    return x[4]\n",
        "\n",
        "sum(map(ff, filter(f, data)))"
      ],
      "metadata": {
        "colab": {
          "base_uri": "https://localhost:8080/"
        },
        "id": "euBZRvWeKa-b",
        "outputId": "2ad8baf1-4cc5-4138-cffc-9bc4ace33f03"
      },
      "execution_count": null,
      "outputs": [
        {
          "output_type": "execute_result",
          "data": {
            "text/plain": [
              "286"
            ]
          },
          "metadata": {},
          "execution_count": 77
        }
      ]
    },
    {
      "cell_type": "code",
      "source": [
        "# 문제 1: 짐무게가 20kg 이상인 승객들의 마일리지 평균을 구해주세요!\n",
        "# 항공사, 편명, 좌석번호, 이름, 나이, 짐무게(kg), 마일리지\n",
        "data = [\n",
        "    ['대한항공', 'KE607', '12A', '김민준', 42, 23, 5280],\n",
        "    ['아시아나', 'OZ721', '8C', '이', 29, 18, 3450],\n",
        "    ['제주항공', '7C101', '15F', '박지민', 35, 15, 720],\n",
        "    ['진에어', 'LJ211', '4D', '최서우미래한별', 51, 27, 8900],\n",
        "    ['에어부산', 'BX213', '21B', '정', 24, 12, 1250],\n",
        "    ['티웨이', 'TW305', '19E', '강민석', 38, 20, 2760],\n",
        "    ['에어서울', 'RS808', '3C', '윤지현', 47, 16, 4320],\n",
        "    ['대한항공', 'KE123', '7F', '송', 33, 21, 6780],\n",
        "    ['아시아나', 'OZ562', '11D', '장하은별님달빛', 26, 19, 1890],\n",
        "    ['제주항공', '7C505', '17B', '황수진', 40, 14, 940]\n",
        "]\n",
        "\n",
        "# 방법1\n",
        "def f(x):\n",
        "    return x[-2] >= 20\n",
        "\n",
        "def ff(x):\n",
        "    return x[-1]\n",
        "\n",
        "filtering_data = list(map(ff, filter(f, data))) # list 변환했어? 메모리 효율이 안좋은데...\n",
        "sum(filtering_data) / len(filtering_data) # sum을 했어? 한 번 더 순회를 돌아야 하네...\n",
        "\n",
        "# 방법2\n",
        "def f(x):\n",
        "    return x[-2] >= 20\n",
        "\n",
        "def ff(x):\n",
        "    return x[-1]\n",
        "\n",
        "count = 0\n",
        "sum_result = 0\n",
        "for i in map(ff, filter(f, data)): # 2번 순회를 돌아야 하는 것을 1번만 순회돈 것입니다.\n",
        "    count += 1\n",
        "    sum_result += i\n",
        "\n",
        "sum_result / count\n",
        "\n",
        "# 문제 2: 아시아나 항공을 이용하는 40세 미만 승객들의 이름 길이 합을 구해주세요!\n",
        "def f(x):\n",
        "    return x[0] == '아시아나' and x[4] < 40\n",
        "\n",
        "def ff(x):\n",
        "    return x[3]\n",
        "\n",
        "len(''.join(map(ff, filter(f, data))))"
      ],
      "metadata": {
        "colab": {
          "base_uri": "https://localhost:8080/"
        },
        "id": "kwrd7CyOPHKd",
        "outputId": "d7b31118-0e50-4fa0-f2db-15cf9fbf4f8d"
      },
      "execution_count": null,
      "outputs": [
        {
          "output_type": "execute_result",
          "data": {
            "text/plain": [
              "8"
            ]
          },
          "metadata": {},
          "execution_count": 86
        }
      ]
    },
    {
      "cell_type": "code",
      "source": [
        "a = [10, 20, 30]\n",
        "b = (100, 200)\n",
        "c = 'hello world'\n",
        "\n",
        "list(zip(a, b, c))"
      ],
      "metadata": {
        "colab": {
          "base_uri": "https://localhost:8080/"
        },
        "id": "DMsw36DIVm-8",
        "outputId": "b850d626-cb2e-453a-8dcf-7b1e2e202b26"
      },
      "execution_count": null,
      "outputs": [
        {
          "output_type": "execute_result",
          "data": {
            "text/plain": [
              "[(10, 100, 'h'), (20, 200, 'e')]"
            ]
          },
          "metadata": {},
          "execution_count": 89
        }
      ]
    },
    {
      "cell_type": "code",
      "source": [
        "a = [10, 20, 30]\n",
        "b = (100, 200)\n",
        "c = 'hello world'\n",
        "\n",
        "s = zip(a, b, c)\n",
        "\n",
        "for i in s:\n",
        "    print(i)\n",
        "\n",
        "# 왜 map이나 zip, filter는 변수로 할당하면 한 번 밖에 순회를 못돌죠?\n",
        "# 변수에서 다시 순회를 돌 수 있도록 초기화를 해줘야 하는데\n",
        "# 초기화를 해주지 않는 함수입니다.\n",
        "\n",
        "for i in s:\n",
        "    print(i)"
      ],
      "metadata": {
        "colab": {
          "base_uri": "https://localhost:8080/"
        },
        "id": "iZyNKbK4WCub",
        "outputId": "45a89ca5-175d-4ff8-d1db-74a19535cde6"
      },
      "execution_count": null,
      "outputs": [
        {
          "output_type": "stream",
          "name": "stdout",
          "text": [
            "(10, 100, 'h')\n",
            "(20, 200, 'e')\n"
          ]
        }
      ]
    },
    {
      "cell_type": "code",
      "source": [
        "a = [10, 20, 30]\n",
        "b = (100, 200)\n",
        "c = 'hello world'\n",
        "\n",
        "for i in zip(a, b, c):\n",
        "    print(i)\n",
        "\n",
        "for i in zip(a, b, c):\n",
        "    print(i)"
      ],
      "metadata": {
        "colab": {
          "base_uri": "https://localhost:8080/"
        },
        "id": "GlctZFA5Wo7t",
        "outputId": "5843ef8a-39d2-41f9-dfc6-a0ddb97ac468"
      },
      "execution_count": null,
      "outputs": [
        {
          "output_type": "stream",
          "name": "stdout",
          "text": [
            "(10, 100, 'h')\n",
            "(20, 200, 'e')\n",
            "(10, 100, 'h')\n",
            "(20, 200, 'e')\n"
          ]
        }
      ]
    },
    {
      "cell_type": "code",
      "source": [
        "iter\n",
        "next\n",
        "\n",
        "for i in range(10):\n",
        "    print(i)\n",
        "\n",
        "s = 'hello'\n",
        "ss = iter(s) # 나는 이제 값을 순차적으로 꺼낼테니까 꺼낼 준비를 해줘!\n",
        "next(ss) # 다음 값을 꺼내줘!"
      ],
      "metadata": {
        "colab": {
          "base_uri": "https://localhost:8080/",
          "height": 35
        },
        "id": "UYUjy31-VwcI",
        "outputId": "369ff893-f289-41fa-eebd-959259828142"
      },
      "execution_count": null,
      "outputs": [
        {
          "output_type": "execute_result",
          "data": {
            "text/plain": [
              "'h'"
            ],
            "application/vnd.google.colaboratory.intrinsic+json": {
              "type": "string"
            }
          },
          "metadata": {},
          "execution_count": 93
        }
      ]
    },
    {
      "cell_type": "code",
      "source": [
        "next(ss)"
      ],
      "metadata": {
        "colab": {
          "base_uri": "https://localhost:8080/",
          "height": 148
        },
        "id": "K-2cvNeMXHGi",
        "outputId": "760e953b-3573-4234-842c-1afed2cc3616"
      },
      "execution_count": null,
      "outputs": [
        {
          "output_type": "error",
          "ename": "StopIteration",
          "evalue": "",
          "traceback": [
            "\u001b[0;31m---------------------------------------------------------------------------\u001b[0m",
            "\u001b[0;31mStopIteration\u001b[0m                             Traceback (most recent call last)",
            "\u001b[0;32m<ipython-input-98-d2551d6ade9e>\u001b[0m in \u001b[0;36m<cell line: 0>\u001b[0;34m()\u001b[0m\n\u001b[0;32m----> 1\u001b[0;31m \u001b[0mnext\u001b[0m\u001b[0;34m(\u001b[0m\u001b[0mss\u001b[0m\u001b[0;34m)\u001b[0m\u001b[0;34m\u001b[0m\u001b[0;34m\u001b[0m\u001b[0m\n\u001b[0m",
            "\u001b[0;31mStopIteration\u001b[0m: "
          ]
        }
      ]
    },
    {
      "cell_type": "markdown",
      "source": [
        "# 반복문(while)"
      ],
      "metadata": {
        "id": "o2LYe2IA4W8u"
      }
    },
    {
      "cell_type": "code",
      "source": [
        "# 절대 실행하지 마세요!!\n",
        "# 브라우저가 멈춥니다!\n",
        "# 언제 for를 사용하고 언제 while을 사용하나요?\n",
        "# for는 객체를 순회할 때\n",
        "# while 정해진 수만큼 순회를 하거나, 문한 반복을 할 때\n",
        "\n",
        "# 다만 for로 무한반복 구현이 불가능한 것은 아닙니다!\n",
        "# result = [1, 2, 3]\n",
        "\n",
        "# for i in result:\n",
        "#     print(i)\n",
        "#     result.append(i + 1)"
      ],
      "metadata": {
        "id": "qzAYUGpnX5mS"
      },
      "execution_count": null,
      "outputs": []
    },
    {
      "cell_type": "code",
      "source": [
        "x = 0\n",
        "\n",
        "while x < 10:\n",
        "    print(x)\n",
        "    x += 1 # 종료할 수 있는 연산"
      ],
      "metadata": {
        "colab": {
          "base_uri": "https://localhost:8080/"
        },
        "id": "aLOt-fgjZxV8",
        "outputId": "115262de-cfcc-4477-9fcb-851934d6c3af"
      },
      "execution_count": null,
      "outputs": [
        {
          "output_type": "stream",
          "name": "stdout",
          "text": [
            "0\n",
            "1\n",
            "2\n",
            "3\n",
            "4\n",
            "5\n",
            "6\n",
            "7\n",
            "8\n",
            "9\n"
          ]
        }
      ]
    },
    {
      "cell_type": "code",
      "source": [
        "# 좋지 않은 코드\n",
        "x = 0\n",
        "result = 0\n",
        "\n",
        "while x < 11:\n",
        "    if x % 2 == 0:\n",
        "        result += x\n",
        "    x += 1 # 종료할 수 있는 연산\n",
        "\n",
        "result"
      ],
      "metadata": {
        "colab": {
          "base_uri": "https://localhost:8080/"
        },
        "id": "5nux5gefd8VM",
        "outputId": "dd7c6907-407b-44b8-859c-0cdb34f7b41b"
      },
      "execution_count": null,
      "outputs": [
        {
          "output_type": "execute_result",
          "data": {
            "text/plain": [
              "30"
            ]
          },
          "metadata": {},
          "execution_count": 6
        }
      ]
    },
    {
      "cell_type": "code",
      "source": [
        "# 위의 코드보다 좋은 코드\n",
        "x = 0\n",
        "result = 0\n",
        "\n",
        "while x < 11:\n",
        "    result += x\n",
        "    x += 2 # 종료할 수 있는 연산\n",
        "\n",
        "result"
      ],
      "metadata": {
        "colab": {
          "base_uri": "https://localhost:8080/"
        },
        "id": "boXfaXnYeKa8",
        "outputId": "ea0d2581-21b6-494c-f12a-91367ab3e61c"
      },
      "execution_count": null,
      "outputs": [
        {
          "output_type": "execute_result",
          "data": {
            "text/plain": [
              "30"
            ]
          },
          "metadata": {},
          "execution_count": 7
        }
      ]
    },
    {
      "cell_type": "code",
      "source": [
        "# 주의해야 할 점\n",
        "i = 2\n",
        "j = 1\n",
        "\n",
        "while i < 10:\n",
        "    while j < 10:\n",
        "        print(i, j, i*j)\n",
        "        j += 1\n",
        "    i += 1\n",
        "    j = 1"
      ],
      "metadata": {
        "id": "qn2qb_Rzeb3s"
      },
      "execution_count": null,
      "outputs": []
    },
    {
      "cell_type": "code",
      "source": [
        "import random\n",
        "\n",
        "result = random.randint(1, 100)\n",
        "\n",
        "while True:\n",
        "    user_input = int(input('1부터 100까지 숫자를 입력하세요.'))\n",
        "    if user_input > result:\n",
        "        print('더 작은 숫자를 입력하세요.')\n",
        "    elif user_input < result:\n",
        "        print('더 큰 숫자를 입력하세요.')\n",
        "    else:\n",
        "        print('정답입니다!')\n",
        "        break"
      ],
      "metadata": {
        "colab": {
          "base_uri": "https://localhost:8080/"
        },
        "id": "cXFJFPvfZUk4",
        "outputId": "22acf087-deb7-4c03-cc04-9f314cbd4b07"
      },
      "execution_count": null,
      "outputs": [
        {
          "output_type": "stream",
          "name": "stdout",
          "text": [
            "1부터 100까지 숫자를 입력하세요.50\n",
            "더 작은 숫자를 입력하세요.\n",
            "1부터 100까지 숫자를 입력하세요.30\n",
            "더 작은 숫자를 입력하세요.\n",
            "1부터 100까지 숫자를 입력하세요.15\n",
            "정답입니다!\n"
          ]
        }
      ]
    },
    {
      "cell_type": "code",
      "source": [
        "# break, continue는 while과 for에서 모두 쓸 수 있습니다.\n",
        "# break은 반복문을 중단하는 것이고\n",
        "# continue는 다음 반복문으로 넘어가는 것입니다.\n",
        "\n",
        "# for i in range(10):\n",
        "#     if i == 3:\n",
        "#         break\n",
        "#     print(i)\n",
        "\n",
        "for i in range(10):\n",
        "    if i == 3:\n",
        "        continue\n",
        "    print(i)"
      ],
      "metadata": {
        "colab": {
          "base_uri": "https://localhost:8080/"
        },
        "id": "whUvLj2GZ9av",
        "outputId": "224bce99-d705-4d6f-fb25-c3388aa3c24e"
      },
      "execution_count": null,
      "outputs": [
        {
          "output_type": "stream",
          "name": "stdout",
          "text": [
            "0\n",
            "1\n",
            "2\n",
            "4\n",
            "5\n",
            "6\n",
            "7\n",
            "8\n",
            "9\n"
          ]
        }
      ]
    },
    {
      "cell_type": "markdown",
      "source": [
        " # 조건문(match)"
      ],
      "metadata": {
        "id": "bSWY-qz24ZFg"
      }
    },
    {
      "cell_type": "code",
      "source": [
        "day = '토'\n",
        "\n",
        "match day:\n",
        "    case \"월\" | \"화\" | \"수\" | \"목\" | \"금\":\n",
        "        print(\"평일\")\n",
        "    case \"토\" | \"일\":\n",
        "        print(\"주말\")\n",
        "    case _:\n",
        "        print(\"올바른 요일을 입력하세요\")"
      ],
      "metadata": {
        "colab": {
          "base_uri": "https://localhost:8080/"
        },
        "id": "143UguEofmSk",
        "outputId": "06685273-ffe8-4d9c-84de-01a501a1468c"
      },
      "execution_count": null,
      "outputs": [
        {
          "output_type": "stream",
          "name": "stdout",
          "text": [
            "주말\n"
          ]
        }
      ]
    },
    {
      "cell_type": "code",
      "source": [
        "# 이전에는 어떻게 사용했는가?\n",
        "\n",
        "today = '토'\n",
        "\n",
        "day = {\n",
        "    '월': '평일',\n",
        "    '화': '평일',\n",
        "    '수': '평일',\n",
        "    '목': '평일',\n",
        "    '금': '평일',\n",
        "    '토': '주말',\n",
        "    '일': '주말',\n",
        "}\n",
        "\n",
        "day.get(today, '제대로 입력하세요!')"
      ],
      "metadata": {
        "colab": {
          "base_uri": "https://localhost:8080/",
          "height": 35
        },
        "id": "yuBLDvg2hblU",
        "outputId": "d014cd4b-6f67-4de6-cbc5-1405996956ff"
      },
      "execution_count": null,
      "outputs": [
        {
          "output_type": "execute_result",
          "data": {
            "text/plain": [
              "'주말'"
            ],
            "application/vnd.google.colaboratory.intrinsic+json": {
              "type": "string"
            }
          },
          "metadata": {},
          "execution_count": 17
        }
      ]
    },
    {
      "cell_type": "markdown",
      "source": [
        "# 클래스"
      ],
      "metadata": {
        "id": "YoRUCybCizmv"
      }
    },
    {
      "cell_type": "code",
      "source": [
        "# 클래스 - 설계 도면\n",
        "# 인스턴스 - 생산품\n",
        "\n",
        "# 클래스 내의 변수 - 멤버 또는 애트리뷰트\n",
        "# 클래스 내의 함수 - 메서드\n",
        "\n",
        "# 자동차!\n",
        "# 데이터(멤버, 애트리뷰트) # 클래스 내 변수로 선언됩니다. 이것을 멤버 또는 애트리뷰트라고 합니다.\n",
        "#   * 최대 속도\n",
        "#   * 최대 탑승객\n",
        "\n",
        "# 기능(메서드) # 클래스 내 함수로 선언됩니다. 이것을 메서드라고 합니다.\n",
        "#   * 출발\n",
        "#   * 정지"
      ],
      "metadata": {
        "id": "1i0jdY5ZizI8"
      },
      "execution_count": null,
      "outputs": []
    },
    {
      "cell_type": "code",
      "source": [
        "class Car:\n",
        "    max_speed = 300\n",
        "    max_people = 5\n",
        "\n",
        "    def start(self):\n",
        "        print('출발!')\n",
        "\n",
        "    def stop(self):\n",
        "        print('정지!')\n",
        "\n",
        "car1 = Car()\n",
        "car2 = Car()\n",
        "\n",
        "print(car1.max_speed)\n",
        "car1.start() # 어디서 많이 봤던 형태인데요?"
      ],
      "metadata": {
        "colab": {
          "base_uri": "https://localhost:8080/"
        },
        "id": "fRj9lBKtlIS5",
        "outputId": "a5a5ff33-da3a-4304-d9b2-a72654b13915"
      },
      "execution_count": null,
      "outputs": [
        {
          "output_type": "stream",
          "name": "stdout",
          "text": [
            "300\n",
            "출발!\n"
          ]
        }
      ]
    },
    {
      "cell_type": "code",
      "source": [
        "dir(car1)"
      ],
      "metadata": {
        "colab": {
          "base_uri": "https://localhost:8080/"
        },
        "id": "HMbFSeuPmZPL",
        "outputId": "b280471a-e0fc-4413-fd70-46c9c1268092"
      },
      "execution_count": null,
      "outputs": [
        {
          "output_type": "execute_result",
          "data": {
            "text/plain": [
              "['__class__',\n",
              " '__delattr__',\n",
              " '__dict__',\n",
              " '__dir__',\n",
              " '__doc__',\n",
              " '__eq__',\n",
              " '__format__',\n",
              " '__ge__',\n",
              " '__getattribute__',\n",
              " '__getstate__',\n",
              " '__gt__',\n",
              " '__hash__',\n",
              " '__init__',\n",
              " '__init_subclass__',\n",
              " '__le__',\n",
              " '__lt__',\n",
              " '__module__',\n",
              " '__ne__',\n",
              " '__new__',\n",
              " '__reduce__',\n",
              " '__reduce_ex__',\n",
              " '__repr__',\n",
              " '__setattr__',\n",
              " '__sizeof__',\n",
              " '__str__',\n",
              " '__subclasshook__',\n",
              " '__weakref__',\n",
              " 'max_people',\n",
              " 'max_speed',\n",
              " 'start',\n",
              " 'stop']"
            ]
          },
          "metadata": {},
          "execution_count": 21
        }
      ]
    },
    {
      "cell_type": "code",
      "source": [
        "l = [10, 20, 30]\n",
        "dir(l)"
      ],
      "metadata": {
        "colab": {
          "base_uri": "https://localhost:8080/"
        },
        "id": "Yc2GqMv-mNrp",
        "outputId": "4e0d034c-6b25-47bc-b4ed-3dceaf6f0408"
      },
      "execution_count": null,
      "outputs": [
        {
          "output_type": "execute_result",
          "data": {
            "text/plain": [
              "['__add__',\n",
              " '__class__',\n",
              " '__class_getitem__',\n",
              " '__contains__',\n",
              " '__delattr__',\n",
              " '__delitem__',\n",
              " '__dir__',\n",
              " '__doc__',\n",
              " '__eq__',\n",
              " '__format__',\n",
              " '__ge__',\n",
              " '__getattribute__',\n",
              " '__getitem__',\n",
              " '__getstate__',\n",
              " '__gt__',\n",
              " '__hash__',\n",
              " '__iadd__',\n",
              " '__imul__',\n",
              " '__init__',\n",
              " '__init_subclass__',\n",
              " '__iter__',\n",
              " '__le__',\n",
              " '__len__',\n",
              " '__lt__',\n",
              " '__mul__',\n",
              " '__ne__',\n",
              " '__new__',\n",
              " '__reduce__',\n",
              " '__reduce_ex__',\n",
              " '__repr__',\n",
              " '__reversed__',\n",
              " '__rmul__',\n",
              " '__setattr__',\n",
              " '__setitem__',\n",
              " '__sizeof__',\n",
              " '__str__',\n",
              " '__subclasshook__',\n",
              " 'append',\n",
              " 'clear',\n",
              " 'copy',\n",
              " 'count',\n",
              " 'extend',\n",
              " 'index',\n",
              " 'insert',\n",
              " 'pop',\n",
              " 'remove',\n",
              " 'reverse',\n",
              " 'sort']"
            ]
          },
          "metadata": {},
          "execution_count": 20
        }
      ]
    },
    {
      "cell_type": "code",
      "source": [
        "car = Car()\n",
        "# car1은 Car의 인스턴스입니다!\n",
        "value = 10 # value = int(value)\n",
        "# value는 int의 인스턴스입니다!\n",
        "value = 10.0 # value = float(value)\n",
        "# value는 float의 인스턴스입니다!\n",
        "value = [10, 20, 30]\n",
        "# value는 list의 인스턴스입니다!\n",
        "value = (10, 20, 30)\n",
        "# value는 tuple의 인스턴스입니다!"
      ],
      "metadata": {
        "id": "uuINt5idm4v9"
      },
      "execution_count": null,
      "outputs": []
    },
    {
      "cell_type": "code",
      "source": [
        "l = [10, 20, 30]\n",
        "dir(l)\n",
        "\n",
        "# l에 더하기도 필요 없습니다!\n",
        "# l에 곱하기도 필요 없습니다!\n",
        "# l에 remove도 필요 없습니다!\n",
        "# ... l + l\n",
        "\n",
        "l = [1, 2, 3]\n",
        "ll = [1, 2, 3]\n",
        "l == ll\n",
        "\n",
        "a = 10000\n",
        "b = 10000\n",
        "id(a) == id(b)"
      ],
      "metadata": {
        "colab": {
          "base_uri": "https://localhost:8080/"
        },
        "id": "4kHHvo0lcXhz",
        "outputId": "62479392-aa7d-46be-ad6d-76d15dc89ed7"
      },
      "execution_count": null,
      "outputs": [
        {
          "output_type": "execute_result",
          "data": {
            "text/plain": [
              "['__add__',\n",
              " '__class__',\n",
              " '__class_getitem__',\n",
              " '__contains__',\n",
              " '__delattr__',\n",
              " '__delitem__',\n",
              " '__dir__',\n",
              " '__doc__',\n",
              " '__eq__',\n",
              " '__format__',\n",
              " '__ge__',\n",
              " '__getattribute__',\n",
              " '__getitem__',\n",
              " '__getstate__',\n",
              " '__gt__',\n",
              " '__hash__',\n",
              " '__iadd__',\n",
              " '__imul__',\n",
              " '__init__',\n",
              " '__init_subclass__',\n",
              " '__iter__',\n",
              " '__le__',\n",
              " '__len__',\n",
              " '__lt__',\n",
              " '__mul__',\n",
              " '__ne__',\n",
              " '__new__',\n",
              " '__reduce__',\n",
              " '__reduce_ex__',\n",
              " '__repr__',\n",
              " '__reversed__',\n",
              " '__rmul__',\n",
              " '__setattr__',\n",
              " '__setitem__',\n",
              " '__sizeof__',\n",
              " '__str__',\n",
              " '__subclasshook__',\n",
              " 'append',\n",
              " 'clear',\n",
              " 'copy',\n",
              " 'count',\n",
              " 'extend',\n",
              " 'index',\n",
              " 'insert',\n",
              " 'pop',\n",
              " 'remove',\n",
              " 'reverse',\n",
              " 'sort']"
            ]
          },
          "metadata": {},
          "execution_count": 4
        }
      ]
    },
    {
      "cell_type": "code",
      "source": [
        "# 클래스 변수\n",
        "# - 설계 도면에 포함되어야 하는 것,\n",
        "# - 클래스 바로 아래 선언합니다.\n",
        "# - 모든 인스턴스가 이 변수를 공유합니다.\n",
        "\n",
        "# 인스턴스 변수\n",
        "# - 생산품에 포함되어야 하는 것\n",
        "# - 보통 __init__ 아래 선언합니다.\n",
        "# - 인스턴스 고유의 영역입니다.\n",
        "\n",
        "class Car:\n",
        "    # 클래스 변수 위치\n",
        "    max_speed = 300\n",
        "    max_people = 5\n",
        "\n",
        "modelx = Car()"
      ],
      "metadata": {
        "id": "qfRb0l3oeXeJ"
      },
      "execution_count": null,
      "outputs": []
    },
    {
      "cell_type": "code",
      "source": [
        "Car.max_speed"
      ],
      "metadata": {
        "colab": {
          "base_uri": "https://localhost:8080/"
        },
        "id": "UVdmL3Xnhxj_",
        "outputId": "0c8cbfc3-b269-462d-98de-7b7057b99295"
      },
      "execution_count": null,
      "outputs": [
        {
          "output_type": "execute_result",
          "data": {
            "text/plain": [
              "300"
            ]
          },
          "metadata": {},
          "execution_count": 6
        }
      ]
    },
    {
      "cell_type": "code",
      "source": [
        "Car.max_people"
      ],
      "metadata": {
        "colab": {
          "base_uri": "https://localhost:8080/"
        },
        "id": "3YKwBDl0h3P9",
        "outputId": "cb125ff6-0b8f-4946-d361-899d6f7978af"
      },
      "execution_count": null,
      "outputs": [
        {
          "output_type": "execute_result",
          "data": {
            "text/plain": [
              "5"
            ]
          },
          "metadata": {},
          "execution_count": 7
        }
      ]
    },
    {
      "cell_type": "code",
      "source": [
        "# 클래스 변수 - 설계 도면에 포함되어야 하는 것\n",
        "# 인스턴스 변수 - 생산품에 포함되어야 하는 것\n",
        "\n",
        "class Car:\n",
        "    # 클래스 변수 위치\n",
        "    max_speed = 300\n",
        "    max_people = 5\n",
        "\n",
        "    def __init__(self, 구매자):\n",
        "        # 인스턴스 변수 위치\n",
        "        # 'self.변수이름'의 형태\n",
        "        self.차구매자 = 구매자\n",
        "\n",
        "modela = Car('구매자1')\n",
        "modelb = Car('구매자2')\n",
        "\n",
        "modela.차구매자\n",
        "modelb.차구매자"
      ],
      "metadata": {
        "colab": {
          "base_uri": "https://localhost:8080/",
          "height": 35
        },
        "id": "0o6iGzz_h7wf",
        "outputId": "d977b256-27de-42eb-a0ff-cb645c76d79c"
      },
      "execution_count": null,
      "outputs": [
        {
          "output_type": "execute_result",
          "data": {
            "text/plain": [
              "'구매자2'"
            ],
            "application/vnd.google.colaboratory.intrinsic+json": {
              "type": "string"
            }
          },
          "metadata": {},
          "execution_count": 9
        }
      ]
    },
    {
      "cell_type": "code",
      "source": [
        "# self의 정체! - self는 해당 인스턴스를 얘기합니다.\n",
        "\n",
        "class Car:\n",
        "    # 클래스 변수 위치\n",
        "    max_speed = 300\n",
        "    max_people = 5\n",
        "\n",
        "    def __init__(self, 구매자):\n",
        "        # 인스턴스 변수 위치\n",
        "        # 'self.변수이름'의 형태\n",
        "        self.차구매자 = 구매자\n",
        "\n",
        "modela = Car('구매자1')\n",
        "modelb = Car('구매자2')\n",
        "\n",
        "modela.차구매자\n",
        "modelb.차구매자"
      ],
      "metadata": {
        "id": "mwtI4D19jSpO"
      },
      "execution_count": null,
      "outputs": []
    },
    {
      "cell_type": "code",
      "source": [
        "# self의 정체! - self는 해당 인스턴스를 얘기합니다.\n",
        "\n",
        "class Car:\n",
        "    # 클래스 변수 위치\n",
        "    max_speed = 300\n",
        "    max_people = 5\n",
        "\n",
        "    def __init__(self, 구매자):\n",
        "        # 인스턴스 변수 위치\n",
        "        # 'self.변수이름'의 형태\n",
        "        self.차구매자 = 구매자\n",
        "\n",
        "modela = Car('구매자1')\n",
        "modelb = Car('구매자2')\n",
        "\n",
        "# 인스턴스 변수를 이렇게 넣을 수도 있습니다!\n",
        "modela.스마트키 = '키티 스마트키'\n",
        "modela.스마트키\n",
        "# .으로 접근하는 것이 생소하다!? => list나 tuple, dict를 생각하세요.\n",
        "# l.append()로 접근하잖아요?\n",
        "# l['append']이렇게 접근하지 않죠.\n",
        "# 같은 원리로 modela['스마트키']로 접근하지 않습니다."
      ],
      "metadata": {
        "colab": {
          "base_uri": "https://localhost:8080/",
          "height": 35
        },
        "id": "P3b3QJhEjzhr",
        "outputId": "769575eb-a109-420f-934b-8fbe1a359cb0"
      },
      "execution_count": null,
      "outputs": [
        {
          "output_type": "execute_result",
          "data": {
            "text/plain": [
              "'키티 스마트키'"
            ],
            "application/vnd.google.colaboratory.intrinsic+json": {
              "type": "string"
            }
          },
          "metadata": {},
          "execution_count": 12
        }
      ]
    },
    {
      "cell_type": "code",
      "source": [
        "# 비교해보세요.\n",
        "# 초급자의 마음:\n",
        "# 클래스가 더 복잡하고 난해하죠?\n",
        "# 아니, 굳이 이렇게까지 해야하나요?\n",
        "\n",
        "# 항공사, 편명, 좌석번호, 이름, 나이, 짐무게(kg), 마일리지\n",
        "data = [\n",
        "    ['대한항공', 'KE607', '12A', '김민준', 42, 23, 5280],\n",
        "    ['아시아나', 'OZ721', '8C', '이', 29, 18, 3450],\n",
        "    ['제주항공', '7C101', '15F', '박지민', 35, 15, 720],\n",
        "    ['진에어', 'LJ211', '4D', '최서우미래한별', 51, 27, 8900],\n",
        "    ['에어부산', 'BX213', '21B', '정', 24, 12, 1250],\n",
        "    ['티웨이', 'TW305', '19E', '강민석', 38, 20, 2760],\n",
        "    ['에어서울', 'RS808', '3C', '윤지현', 47, 16, 4320],\n",
        "    ['대한항공', 'KE123', '7F', '송', 33, 21, 6780],\n",
        "    ['아시아나', 'OZ562', '11D', '장하은별님달빛', 26, 19, 1890],\n",
        "    ['제주항공', '7C505', '17B', '황수진', 40, 14, 940]\n",
        "]\n",
        "\n",
        "class Passenger:\n",
        "    def __init__(self, 항공사, 편명, 좌석번호, 이름, 나이, 짐무게, 마일리지):\n",
        "        self.항공사 = 항공사\n",
        "        self.편명 = 편명\n",
        "        self.좌석번호 = 좌석번호\n",
        "        self.이름 = 이름\n",
        "        self.나이 = 나이\n",
        "        self.짐무게 = 짐무게\n",
        "        self.마일리지 = 마일리지\n",
        "\n",
        "p1 = Passenger('대한항공', 'KE607', '12A', '김민준', 42, 23, 5280)\n",
        "p2 = Passenger('아시아나', 'OZ721', '8C', '이', 29, 18, 3450)\n",
        "p3 = Passenger('제주항공', '7C101', '15F', '박지민', 35, 15, 720)\n",
        "\n",
        "p1.이름"
      ],
      "metadata": {
        "colab": {
          "base_uri": "https://localhost:8080/",
          "height": 35
        },
        "id": "F9LsGqZukivV",
        "outputId": "c13383a2-41f3-473d-c013-4dda16a0d21d"
      },
      "execution_count": null,
      "outputs": [
        {
          "output_type": "execute_result",
          "data": {
            "text/plain": [
              "'김민준'"
            ],
            "application/vnd.google.colaboratory.intrinsic+json": {
              "type": "string"
            }
          },
          "metadata": {},
          "execution_count": 13
        }
      ]
    },
    {
      "cell_type": "code",
      "source": [
        "# 중급자 입장:\n",
        "# 1. 예를 들어서 print로 출력을 했을 때 출력되는 길이가 너무 긴 경우가 있을 수 있어요.\n",
        "# 2. 예를 들어 data끼리 더해야 될 때가 있어요.\n",
        "\n",
        "# 항공사, 편명, 좌석번호, 이름, 나이, 짐무게(kg), 마일리지\n",
        "data = [\n",
        "    ['대한항공', 'KE607', '12A', '김민준', 42, 23, 5280],\n",
        "    ['아시아나', 'OZ721', '8C', '이', 29, 18, 3450],\n",
        "    ['제주항공', '7C101', '15F', '박지민', 35, 15, 720],\n",
        "    ['진에어', 'LJ211', '4D', '최서우미래한별', 51, 27, 8900],\n",
        "    ['에어부산', 'BX213', '21B', '정', 24, 12, 1250],\n",
        "    ['티웨이', 'TW305', '19E', '강민석', 38, 20, 2760],\n",
        "    ['에어서울', 'RS808', '3C', '윤지현', 47, 16, 4320],\n",
        "    ['대한항공', 'KE123', '7F', '송', 33, 21, 6780],\n",
        "    ['아시아나', 'OZ562', '11D', '장하은별님달빛', 26, 19, 1890],\n",
        "    ['제주항공', '7C505', '17B', '황수진', 40, 14, 940]\n",
        "]\n",
        "\n",
        "data[0] # 1. 수천자 출력할 수도 있는데?\n",
        "data[0] + data[1] # 2. 나는 마일리지 더하기를 하고 싶었는데?"
      ],
      "metadata": {
        "colab": {
          "base_uri": "https://localhost:8080/"
        },
        "id": "Y8yY1wAPmsHt",
        "outputId": "b251b5c3-f9ec-4af5-879f-d648e527b4b4"
      },
      "execution_count": null,
      "outputs": [
        {
          "output_type": "execute_result",
          "data": {
            "text/plain": [
              "['대한항공',\n",
              " 'KE607',\n",
              " '12A',\n",
              " '김민준',\n",
              " 42,\n",
              " 23,\n",
              " 5280,\n",
              " '아시아나',\n",
              " 'OZ721',\n",
              " '8C',\n",
              " '이',\n",
              " 29,\n",
              " 18,\n",
              " 3450]"
            ]
          },
          "metadata": {},
          "execution_count": 15
        }
      ]
    },
    {
      "cell_type": "code",
      "source": [
        "class A:\n",
        "    pass\n",
        "\n",
        "a = A()"
      ],
      "metadata": {
        "id": "-KzGT-8ZwUhV"
      },
      "execution_count": null,
      "outputs": []
    },
    {
      "cell_type": "code",
      "source": [
        "# 중급자가 다음과 같이 해결해요.\n",
        "\n",
        "\n",
        "class Passenger:\n",
        "    def __init__(self, 항공사, 편명, 좌석번호, 이름, 나이, 짐무게, 마일리지):\n",
        "        self.항공사 = 항공사\n",
        "        self.편명 = 편명\n",
        "        self.좌석번호 = 좌석번호\n",
        "        self.이름 = 이름\n",
        "        self.나이 = 나이\n",
        "        self.짐무게 = 짐무게\n",
        "        self.마일리지 = 마일리지\n",
        "\n",
        "    def __str__(self):\n",
        "        return f'{self.이름}, {self.나이}!!'\n",
        "\n",
        "    def __add__(self, next):\n",
        "        return self.마일리지 + next.마일리지\n",
        "\n",
        "\n",
        "p1 = Passenger('대한항공', 'KE607', '12A', '김민준', 42, 23, 5280)\n",
        "p2 = Passenger('아시아나', 'OZ721', '8C', '이', 29, 18, 3450)\n",
        "p3 = Passenger('제주항공', '7C101', '15F', '박지민', 35, 15, 720)\n",
        "\n",
        "print(p1) # 원하는 정보만 출력한 것입니다.\n",
        "p1 + p2 # 마일리지 더한 것입니다."
      ],
      "metadata": {
        "colab": {
          "base_uri": "https://localhost:8080/"
        },
        "id": "mvO_dPNendwf",
        "outputId": "dbbfe637-196f-48cf-d4df-75521fecbdc2"
      },
      "execution_count": null,
      "outputs": [
        {
          "output_type": "stream",
          "name": "stdout",
          "text": [
            "김민준, 42!!\n"
          ]
        },
        {
          "output_type": "execute_result",
          "data": {
            "text/plain": [
              "8730"
            ]
          },
          "metadata": {},
          "execution_count": 18
        }
      ]
    },
    {
      "cell_type": "code",
      "source": [
        "class Car:\n",
        "    max_speed = 300\n",
        "    max_people = 5\n",
        "\n",
        "    def __init__(self, 구매자): # 클래스가 인스턴스를 찍어낼때 자동으로 실행\n",
        "        self.차구매자 = 구매자\n",
        "\n",
        "modela = Car('구매자1')\n",
        "modelb = Car('구매자2')\n",
        "\n",
        "modela + modelb # '+'기호는 modela에 __add__를 실행합니다!"
      ],
      "metadata": {
        "colab": {
          "base_uri": "https://localhost:8080/",
          "height": 184
        },
        "id": "DFHREYIWotqR",
        "outputId": "3ba08eff-db1f-422a-d337-bd0ef1a702a7"
      },
      "execution_count": null,
      "outputs": [
        {
          "output_type": "error",
          "ename": "TypeError",
          "evalue": "unsupported operand type(s) for +: 'Car' and 'Car'",
          "traceback": [
            "\u001b[0;31m---------------------------------------------------------------------------\u001b[0m",
            "\u001b[0;31mTypeError\u001b[0m                                 Traceback (most recent call last)",
            "\u001b[0;32m<ipython-input-23-ff6322290a1f>\u001b[0m in \u001b[0;36m<cell line: 0>\u001b[0;34m()\u001b[0m\n\u001b[1;32m      9\u001b[0m \u001b[0mmodelb\u001b[0m \u001b[0;34m=\u001b[0m \u001b[0mCar\u001b[0m\u001b[0;34m(\u001b[0m\u001b[0;34m'구매자2'\u001b[0m\u001b[0;34m)\u001b[0m\u001b[0;34m\u001b[0m\u001b[0;34m\u001b[0m\u001b[0m\n\u001b[1;32m     10\u001b[0m \u001b[0;34m\u001b[0m\u001b[0m\n\u001b[0;32m---> 11\u001b[0;31m \u001b[0mmodela\u001b[0m \u001b[0;34m+\u001b[0m \u001b[0mmodelb\u001b[0m\u001b[0;34m\u001b[0m\u001b[0;34m\u001b[0m\u001b[0m\n\u001b[0m",
            "\u001b[0;31mTypeError\u001b[0m: unsupported operand type(s) for +: 'Car' and 'Car'"
          ]
        }
      ]
    },
    {
      "cell_type": "code",
      "source": [
        "# 어려운 것을 만날 때마다 느끼는 나의 마음\n",
        "\n",
        "# 이게 과연 나의 길일까?\n",
        "# 내가 할 수 있을까?\n",
        "# 내가 해야할까?\n",
        "\n",
        "# 어려운 것을 만나면 더 어려운 부분을 찾아요.\n",
        "# 왜냐면 그것이 차이를 만들어 낼테니까요.\n",
        "# 남들도 어려우니까요.\n",
        "\n",
        "# 이 차이가 '경쟁력'이 되는 것이고\n",
        "# 많은 경우에 '경제력'도 됩니다.\n",
        "\n",
        "# 어려움이 가치를 만들어내는 경우가 많아요.\n",
        "\n",
        "# 지나가서 평온한 날이와요.\n",
        "# 불편한 날이 지나갑니다."
      ],
      "metadata": {
        "id": "VpAKIghErLzZ"
      },
      "execution_count": null,
      "outputs": []
    },
    {
      "cell_type": "code",
      "source": [
        "class Dot:\n",
        "\n",
        "    def __init__(self, x, y):\n",
        "        self.x = x\n",
        "        self.y = y\n",
        "\n",
        "a = Dot(1, 1)\n",
        "b = Dot(2, 2)\n",
        "\n",
        "a + b # '+'기호는 a에 __add__를 실행합니다!"
      ],
      "metadata": {
        "colab": {
          "base_uri": "https://localhost:8080/",
          "height": 184
        },
        "id": "maJ8GvDEq5sl",
        "outputId": "083be9b7-f96c-4d31-89d2-e69feeffc39e"
      },
      "execution_count": null,
      "outputs": [
        {
          "output_type": "error",
          "ename": "TypeError",
          "evalue": "unsupported operand type(s) for +: 'Dot' and 'Dot'",
          "traceback": [
            "\u001b[0;31m---------------------------------------------------------------------------\u001b[0m",
            "\u001b[0;31mTypeError\u001b[0m                                 Traceback (most recent call last)",
            "\u001b[0;32m<ipython-input-24-17ea18daeccd>\u001b[0m in \u001b[0;36m<cell line: 0>\u001b[0;34m()\u001b[0m\n\u001b[1;32m      8\u001b[0m \u001b[0mb\u001b[0m \u001b[0;34m=\u001b[0m \u001b[0mDot\u001b[0m\u001b[0;34m(\u001b[0m\u001b[0;36m2\u001b[0m\u001b[0;34m,\u001b[0m \u001b[0;36m2\u001b[0m\u001b[0;34m)\u001b[0m\u001b[0;34m\u001b[0m\u001b[0;34m\u001b[0m\u001b[0m\n\u001b[1;32m      9\u001b[0m \u001b[0;34m\u001b[0m\u001b[0m\n\u001b[0;32m---> 10\u001b[0;31m \u001b[0ma\u001b[0m \u001b[0;34m+\u001b[0m \u001b[0mb\u001b[0m \u001b[0;31m# '+'기호는 Dot에 __add__를 실행합니다!\u001b[0m\u001b[0;34m\u001b[0m\u001b[0;34m\u001b[0m\u001b[0m\n\u001b[0m",
            "\u001b[0;31mTypeError\u001b[0m: unsupported operand type(s) for +: 'Dot' and 'Dot'"
          ]
        }
      ]
    },
    {
      "cell_type": "code",
      "source": [
        "class Dot:\n",
        "\n",
        "    def __init__(self, x, y):\n",
        "        self.x = x\n",
        "        self.y = y\n",
        "\n",
        "    def __add__(self, next):\n",
        "        return [self.x + next.x, self.y + next.y]\n",
        "\n",
        "    def __mul__(self, next):\n",
        "        return [self.x * next.x , self.y * next.y]\n",
        "\n",
        "a = Dot(1, 1)\n",
        "b = Dot(2, 2)\n",
        "\n",
        "a + b # '+'기호는 a에 __add__를 실행합니다!\n",
        "a * b # '*'기호는 a에 __mul__를 실행합니다!"
      ],
      "metadata": {
        "colab": {
          "base_uri": "https://localhost:8080/"
        },
        "id": "8kXUmmslvqM2",
        "outputId": "0f822038-d1da-40ad-e0c3-434fd690b087"
      },
      "execution_count": null,
      "outputs": [
        {
          "output_type": "execute_result",
          "data": {
            "text/plain": [
              "[2, 2]"
            ]
          },
          "metadata": {},
          "execution_count": 30
        }
      ]
    },
    {
      "cell_type": "code",
      "source": [
        "a = 10 # a는 int라는 클래스에 인스턴스입니다!\n",
        "b = 20 # b는 int라는 클래스에 인스턴스입니다!\n",
        "\n",
        "a + b # a인스턴스의 __add__를 실행시킨 결과를 보여주세요!\n",
        "a * b # a인스턴스의 __mul__를 실행시킨 결과를 보여주세요!"
      ],
      "metadata": {
        "colab": {
          "base_uri": "https://localhost:8080/"
        },
        "id": "EMLNRDWSwyOX",
        "outputId": "9ff66713-c909-41c5-f2c6-c24fc07abe6e"
      },
      "execution_count": null,
      "outputs": [
        {
          "output_type": "execute_result",
          "data": {
            "text/plain": [
              "30"
            ]
          },
          "metadata": {},
          "execution_count": 27
        }
      ]
    },
    {
      "cell_type": "code",
      "source": [
        "class Dot:\n",
        "\n",
        "    def __init__(self, x, y):\n",
        "        self.x = x\n",
        "        self.y = y\n",
        "\n",
        "    def __eq__(self, next):\n",
        "        # return False\n",
        "        return self.x == next.x and self.y == next.y\n",
        "\n",
        "a = Dot(1, 1)\n",
        "b = Dot(1, 2)\n",
        "\n",
        "a == b # '=='기호는 a에 __eq__를 실행합니다!\n",
        "\n",
        "dir(a)"
      ],
      "metadata": {
        "colab": {
          "base_uri": "https://localhost:8080/"
        },
        "id": "Y7mL7olMygvD",
        "outputId": "da2a2094-87c3-4c65-8467-44534596c136"
      },
      "execution_count": null,
      "outputs": [
        {
          "output_type": "execute_result",
          "data": {
            "text/plain": [
              "['__class__',\n",
              " '__delattr__',\n",
              " '__dict__',\n",
              " '__dir__',\n",
              " '__doc__',\n",
              " '__eq__',\n",
              " '__format__',\n",
              " '__ge__',\n",
              " '__getattribute__',\n",
              " '__getstate__',\n",
              " '__gt__',\n",
              " '__hash__',\n",
              " '__init__',\n",
              " '__init_subclass__',\n",
              " '__le__',\n",
              " '__lt__',\n",
              " '__module__',\n",
              " '__ne__',\n",
              " '__new__',\n",
              " '__reduce__',\n",
              " '__reduce_ex__',\n",
              " '__repr__',\n",
              " '__setattr__',\n",
              " '__sizeof__',\n",
              " '__str__',\n",
              " '__subclasshook__',\n",
              " '__weakref__',\n",
              " 'x',\n",
              " 'y']"
            ]
          },
          "metadata": {},
          "execution_count": 39
        }
      ]
    },
    {
      "cell_type": "code",
      "source": [
        "l = [10, 20] # l은 list라는 클래스에 인스턴스입니다!\n",
        "ll = [10, 20] # ll은 list라는 클래스에 인스턴스입니다!\n",
        "\n",
        "l == ll # l인스턴스의 __eq__를 실행시킨 결과를 보여주세요!"
      ],
      "metadata": {
        "colab": {
          "base_uri": "https://localhost:8080/"
        },
        "id": "KZwWVzXox-oF",
        "outputId": "4b682fcf-a20a-485e-a7a8-51d5368201d2"
      },
      "execution_count": null,
      "outputs": [
        {
          "output_type": "execute_result",
          "data": {
            "text/plain": [
              "True"
            ]
          },
          "metadata": {},
          "execution_count": 32
        }
      ]
    },
    {
      "cell_type": "code",
      "source": [
        "dir(l) # __add__가 있기 때문에 +가 되는 자료형이라는 것을 알 수 있습니다."
      ],
      "metadata": {
        "colab": {
          "base_uri": "https://localhost:8080/"
        },
        "id": "S0JpLIHozUUU",
        "outputId": "15be602d-4857-4a58-c9c9-5a2c43ba7223"
      },
      "execution_count": null,
      "outputs": [
        {
          "output_type": "execute_result",
          "data": {
            "text/plain": [
              "['__add__',\n",
              " '__class__',\n",
              " '__class_getitem__',\n",
              " '__contains__',\n",
              " '__delattr__',\n",
              " '__delitem__',\n",
              " '__dir__',\n",
              " '__doc__',\n",
              " '__eq__',\n",
              " '__format__',\n",
              " '__ge__',\n",
              " '__getattribute__',\n",
              " '__getitem__',\n",
              " '__getstate__',\n",
              " '__gt__',\n",
              " '__hash__',\n",
              " '__iadd__',\n",
              " '__imul__',\n",
              " '__init__',\n",
              " '__init_subclass__',\n",
              " '__iter__',\n",
              " '__le__',\n",
              " '__len__',\n",
              " '__lt__',\n",
              " '__mul__',\n",
              " '__ne__',\n",
              " '__new__',\n",
              " '__reduce__',\n",
              " '__reduce_ex__',\n",
              " '__repr__',\n",
              " '__reversed__',\n",
              " '__rmul__',\n",
              " '__setattr__',\n",
              " '__setitem__',\n",
              " '__sizeof__',\n",
              " '__str__',\n",
              " '__subclasshook__',\n",
              " 'append',\n",
              " 'clear',\n",
              " 'copy',\n",
              " 'count',\n",
              " 'extend',\n",
              " 'index',\n",
              " 'insert',\n",
              " 'pop',\n",
              " 'remove',\n",
              " 'reverse',\n",
              " 'sort']"
            ]
          },
          "metadata": {},
          "execution_count": 38
        }
      ]
    },
    {
      "cell_type": "code",
      "source": [
        "class Dot:\n",
        "\n",
        "    def __init__(self, x, y):\n",
        "        self.x = x\n",
        "        self.y = y\n",
        "\n",
        "a = Dot(1, 1)\n",
        "\n",
        "print(a) # <__main__.Dot object at 0x7c114b4cdc50> 나는 이렇게 출력하고 싶지 않은데?\n",
        "# [1, 1] 리스트와 형태가 비슷하네?\n",
        "# (1, 1) 튜플과 형태가 비슷하네?\n",
        "# {1, 1} ...\n",
        "# <1, 1> 또는 !1, 1! 이런식으로 기존 자료형과 기호가 다르게 하는 경우가 많습니다."
      ],
      "metadata": {
        "colab": {
          "base_uri": "https://localhost:8080/"
        },
        "id": "_UCi-v2JztvE",
        "outputId": "49f75398-d34c-4591-fad3-d85e8a806fcb"
      },
      "execution_count": null,
      "outputs": [
        {
          "output_type": "stream",
          "name": "stdout",
          "text": [
            "<__main__.Dot object at 0x7c114b4cdc50>\n"
          ]
        }
      ]
    },
    {
      "cell_type": "code",
      "source": [
        "class Dot:\n",
        "\n",
        "    def __init__(self, x, y):\n",
        "        self.x = x\n",
        "        self.y = y\n",
        "\n",
        "    def __str__(self):\n",
        "        # return f'<{self.x}, {self.y}>'\n",
        "        return 'hello world'\n",
        "\n",
        "a = Dot(1, 1)\n",
        "b = Dot(2, 2)\n",
        "\n",
        "print(a) # print는 a의 __str__을 실행합니다.\n",
        "print(b) # print는 a의 __str__을 실행합니다."
      ],
      "metadata": {
        "colab": {
          "base_uri": "https://localhost:8080/"
        },
        "id": "34UlQ_oO03bS",
        "outputId": "bfd7d284-7cb4-46ed-8193-eb30a87bae74"
      },
      "execution_count": null,
      "outputs": [
        {
          "output_type": "stream",
          "name": "stdout",
          "text": [
            "hello world\n",
            "hello world\n"
          ]
        }
      ]
    },
    {
      "cell_type": "code",
      "source": [
        "a = 10\n",
        "# a는 무엇이죠?\n",
        "# a는 int 클래스의 인스턴스 입니다.\n",
        "\n",
        "print(a)\n",
        "# 출력되는 결과는 무엇이죠?\n",
        "# a 인스턴스의 __str__를 실행시킨 결과(__str__ 메서드의 return)입니다.\n",
        "# 그 return 값은 10입니다."
      ],
      "metadata": {
        "id": "6aSBhWex1Lq5"
      },
      "execution_count": null,
      "outputs": []
    },
    {
      "cell_type": "markdown",
      "source": [
        "# 클래스 연습문제"
      ],
      "metadata": {
        "id": "kmmX_HjR35Nw"
      }
    },
    {
      "cell_type": "code",
      "source": [
        "## 문제 1: 간단한 Book 클래스 만들기\n",
        "# 책을 표현하는 Book 클래스를 만들어보세요. 책은 제목, 저자, 페이지 수를 가지며, 책 정보를 출력하는 기능이 있어야 합니다.\n",
        "\n",
        "\n",
        "# Book 클래스를 구현하세요\n",
        "# 요구사항:\n",
        "# 1. 제목(title), 저자(author), 페이지 수(pages)를 속성으로 가짐\n",
        "# 2. __str__ 메서드를 구현하여 책 정보를 \"제목 (저자, 페이지수 쪽)\" 형식으로 출력\n",
        "# 3. book1과 book2를 비교했을 때 페이지 수가 많은 책이 \"더 큰\" 책이 되도록 __gt__ 메서드 구현\n",
        "\n",
        "#\n",
        "class Book:\n",
        "    def __init__(self, title, author, pages):\n",
        "        # 아래와 같은 코드를 보일러플레이트 코드라고 합니다. 매번 반복적으로 써야 하는 코드이죠.\n",
        "        self.title = title\n",
        "        self.author = author\n",
        "        self.pages = pages\n",
        "\n",
        "    def __str__(self):\n",
        "        return f'{self.title} ({self.author}, {self.pages} 쪽)'\n",
        "\n",
        "    def __gt__(self, next):\n",
        "        return self.pages > next.pages\n",
        "\n",
        "# 예시 실행 코드\n",
        "book1 = Book(\"파이썬 기초\", \"김코딩\", 200)\n",
        "book2 = Book(\"자바 기초\", \"이자바\", 300)\n",
        "\n",
        "print(book1)  # 출력 예상: 파이썬 기초 (김코딩, 200 쪽)\n",
        "print(book2 > book1)  # 출력 예상: True (300 > 200)\n"
      ],
      "metadata": {
        "colab": {
          "base_uri": "https://localhost:8080/"
        },
        "id": "DLXU19gi36y1",
        "outputId": "9b631046-2408-4d7a-ce49-bb10d9d1311a"
      },
      "execution_count": null,
      "outputs": [
        {
          "output_type": "stream",
          "name": "stdout",
          "text": [
            "파이썬 기초 (김코딩, 200 쪽)\n",
            "True\n"
          ]
        }
      ]
    },
    {
      "cell_type": "code",
      "source": [
        "# ---------------------------------------------\n",
        "## 문제 2: 계산기 클래스 만들기\n",
        "# 사칙연산을 수행할 수 있는 Calculator 클래스를 만들어보세요.\n",
        "\n",
        "# Calculator 클래스를 구현하세요\n",
        "# 요구사항:\n",
        "# 1. 덧셈, 뺄셈, 곱셈, 나눗셈 기능 구현\n",
        "# 2. 계산 기록을 저장하는 기능 추가\n",
        "# 3. 마지막 계산 결과를 기억하고 있어야 함\n",
        "\n",
        "# 문제가 있는 문제입니다.\n",
        "# 앞에서 book은 확실히 데이터가 찍어낼 필요가 있는 데이터\n",
        "# 이러한 계산기는 그냥 함수로 구현하시면 됩니다.\n",
        "# 굳이 class로 '찍어낼 필요'가 있진 않아요.\n",
        "\n",
        "class Calculator:\n",
        "    def __init__(self):\n",
        "        self.history = []\n",
        "\n",
        "    def add(self, a, b):\n",
        "        self.history.append(f'{a} + {b} = {a + b}')\n",
        "        return a + b\n",
        "\n",
        "    def subtract(self, a, b):\n",
        "        self.history.append(f'{a} - {b} = {a - b}')\n",
        "        return a - b\n",
        "\n",
        "    def multiply(self, a, b):\n",
        "        self.history.append(f'{a} * {b} = {a * b}')\n",
        "        return a * b\n",
        "\n",
        "    def divide(self, a, b):\n",
        "        self.history.append(f'{a} / {b} = {a / b}')\n",
        "        return a / b\n",
        "\n",
        "    def get_history(self):\n",
        "        return self.history\n",
        "\n",
        "    def get_last_result(self):\n",
        "        return self.history[-1]\n",
        "\n",
        "# 예시 실행 코드\n",
        "calc = Calculator()\n",
        "print(calc.add(5, 3))  # 출력 예상: 8\n",
        "print(calc.subtract(10, 7))  # 출력 예상: 3\n",
        "print(calc.multiply(4, 2))  # 출력 예상: 8\n",
        "print(calc.divide(9, 3))  # 출력 예상: 3.0\n",
        "print(calc.get_history())  # 출력 예상: ['5 + 3 = 8', '10 - 7 = 3', '4 * 2 = 8', '9 / 3 = 3.0']\n",
        "print(calc.get_last_result())  # 출력 예상: 3.0"
      ],
      "metadata": {
        "colab": {
          "base_uri": "https://localhost:8080/"
        },
        "id": "XwPAK61IPKcD",
        "outputId": "3ffccb9e-3015-4e6e-a16f-aaa9a08debd9"
      },
      "execution_count": null,
      "outputs": [
        {
          "output_type": "stream",
          "name": "stdout",
          "text": [
            "8\n",
            "3\n",
            "8\n",
            "3.0\n",
            "['5 + 3 = 8', '10 - 7 = 3', '4 * 2 = 8', '9 / 3 = 3.0']\n",
            "9 / 3 = 3.0\n"
          ]
        }
      ]
    },
    {
      "cell_type": "code",
      "source": [
        "# ---------------------------------------------\n",
        "## 문제 3: 간단한 학생 성적 관리 클래스 만들기\n",
        "# 학생들의 성적을 관리하는 GradeBook 클래스를 만들어보세요.\n",
        "\n",
        "# GradeBook 클래스를 구현하세요\n",
        "# 요구사항:\n",
        "# 1. 학생 이름과 점수를 추가하는 기능\n",
        "# 2. 전체 학생 목록과 점수를 출력하는 기능\n",
        "# 3. 최고 점수와 해당 학생 이름을 반환하는 기능\n",
        "# 4. 평균 점수를 계산하는 기능\n",
        "\n",
        "class GradeBook:\n",
        "    def __init__(self):\n",
        "        self.students = []\n",
        "\n",
        "    def add_student(self):\n",
        "        pass\n",
        "\n",
        "    def print_grades(self):\n",
        "        pass\n",
        "\n",
        "    def get_highest_grade(self):\n",
        "        pass\n",
        "\n",
        "    def get_average(self):\n",
        "        pass\n",
        "\n",
        "# 예시 실행 코드\n",
        "gradebook = GradeBook()\n",
        "gradebook.add_student(\"김철수\", 85)\n",
        "gradebook.add_student(\"이영희\", 92)\n",
        "gradebook.add_student(\"박민수\", 78)\n",
        "gradebook.add_student(\"정지원\", 95)\n",
        "\n",
        "gradebook.print_grades()  # 모든 학생의 이름과 점수 출력\n",
        "print(f\"최고 점수: {gradebook.get_highest_grade()}\")  # 출력 예상: 최고 점수: ('정지원', 95)\n",
        "print(f\"평균 점수: {gradebook.get_average()}\")  # 출력 예상: 평균 점수: 87.5"
      ],
      "metadata": {
        "id": "BgQXZJG5PMfE"
      },
      "execution_count": null,
      "outputs": []
    },
    {
      "cell_type": "code",
      "source": [
        "# ---------------------------------------------\n",
        "## 문제 3: 간단한 학생 성적 관리 클래스 만들기\n",
        "# 학생들의 성적을 관리하는 GradeBook 클래스를 만들어보세요.\n",
        "\n",
        "# GradeBook 클래스를 구현하세요\n",
        "# 요구사항:\n",
        "# 1. 학생 이름과 점수를 추가하는 기능\n",
        "# 2. 전체 학생 목록과 점수를 출력하는 기능\n",
        "# 3. 최고 점수와 해당 학생 이름을 반환하는 기능\n",
        "# 4. 평균 점수를 계산하는 기능\n",
        "\n",
        "class GradeBook:\n",
        "    def __init__(self):\n",
        "        self.students = []\n",
        "\n",
        "    def add_student(self, name, score):\n",
        "        self.students.append((name, score))\n",
        "\n",
        "    def print_grades(self):\n",
        "        return self.students\n",
        "\n",
        "    def get_highest_grade(self):\n",
        "        def f(x):\n",
        "            return x[1]\n",
        "        return sorted(self.students, key=f, reverse=True)[0]\n",
        "\n",
        "    def get_average(self):\n",
        "        def f(x):\n",
        "            return x[1]\n",
        "        return sum(map(f, self.students)) / len(self.students)\n",
        "\n",
        "# 예시 실행 코드\n",
        "gradebook = GradeBook()\n",
        "gradebook.add_student(\"김철수\", 85)\n",
        "gradebook.add_student(\"이영희\", 92)\n",
        "gradebook.add_student(\"박민수\", 78)\n",
        "gradebook.add_student(\"정지원\", 95)\n",
        "\n",
        "gradebook.print_grades()  # 모든 학생의 이름과 점수 출력\n",
        "print(f\"최고 점수: {gradebook.get_highest_grade()}\")  # 출력 예상: 최고 점수: ('정지원', 95)\n",
        "print(f\"평균 점수: {gradebook.get_average()}\")  # 출력 예상: 평균 점수: 87.5"
      ],
      "metadata": {
        "colab": {
          "base_uri": "https://localhost:8080/"
        },
        "id": "ZyEtq4l0VDsf",
        "outputId": "d50b261c-38e9-4a81-b7bb-4c507c747c1e"
      },
      "execution_count": null,
      "outputs": [
        {
          "output_type": "stream",
          "name": "stdout",
          "text": [
            "최고 점수: ('정지원', 95)\n",
            "평균 점수: 87.5\n"
          ]
        }
      ]
    },
    {
      "cell_type": "code",
      "source": [
        "# ---------------------------------------------\n",
        "## 나아가기\n",
        "## 실무라면 어떻게 하는 것이 좋았을까요?\n",
        "# => class로 변환할 수 있는 것은 모두 클래스로 변경했을 것입니다.\n",
        "\n",
        "class Student:\n",
        "    def __init__(self, name, score, phone, email):\n",
        "        self.name = name\n",
        "        self.score = score\n",
        "        self.phone = phone\n",
        "        self.email = email\n",
        "\n",
        "    def __str__(self): # print를 하면 출력해주는 문자열\n",
        "        return f'{self.name}'\n",
        "\n",
        "    def __repr__(self): # 이 객체를 대표하는 문자열, print를 안하고 출력하면 이 문자열을 출력합니다.\n",
        "        return f'{self.name}'\n",
        "\n",
        "class GradeBook:\n",
        "    def __init__(self):\n",
        "        self.students = []\n",
        "\n",
        "    def add_student(self, name, score, phone='000-0000-0000', email=''):\n",
        "        self.students.append(Student(name, score, phone, email))\n",
        "\n",
        "    def print_grades(self):\n",
        "        return self.students\n",
        "\n",
        "# 예시 실행 코드\n",
        "gradebook = GradeBook()\n",
        "gradebook.add_student(\"김철수\", 85, '010-5044-2903')\n",
        "gradebook.add_student(\"이영희\", 92)\n",
        "gradebook.add_student(\"박민수\", 78)\n",
        "gradebook.add_student(\"정지원\", 95)\n",
        "\n",
        "gradebook.print_grades()\n",
        "\n",
        "data = gradebook.print_grades()\n",
        "data[0].score\n",
        "data[0].phone"
      ],
      "metadata": {
        "colab": {
          "base_uri": "https://localhost:8080/",
          "height": 35
        },
        "id": "-syuKw5ZY-lv",
        "outputId": "63a4e069-77ce-41be-c192-65322124948d"
      },
      "execution_count": null,
      "outputs": [
        {
          "output_type": "execute_result",
          "data": {
            "text/plain": [
              "'010-5044-2903'"
            ],
            "application/vnd.google.colaboratory.intrinsic+json": {
              "type": "string"
            }
          },
          "metadata": {},
          "execution_count": 14
        }
      ]
    },
    {
      "cell_type": "markdown",
      "source": [
        "# 상속"
      ],
      "metadata": {
        "id": "CljGPH7chR5G"
      }
    },
    {
      "cell_type": "code",
      "source": [
        "# 국내 학생\n",
        "\n",
        "class Student:\n",
        "    def __init__(self, name, score, phone, email):\n",
        "        self.name = name\n",
        "        self.score = score\n",
        "        self.phone = phone\n",
        "        self.email = email\n",
        "\n",
        "    def __repr__(self):\n",
        "        return self.name\n",
        "\n",
        "# 외국학생이 들어왔습니다!? 1 / 10000 명이 들어왔어요.\n",
        "# 이 한 명을 위해 이 class를 바꾸는 것이 바람직할까요?\n",
        "# 그래서 이렇게 하고 싶은겁니다. Student에 있는 것을 그대로 사용하고\n",
        "# 국적만 추가해주는 다른 class를 만드는 것입니다.\n",
        "\n",
        "class ForeignStudent(Student):\n",
        "    def __init__(self, name, score, phone, email, country):\n",
        "        super().__init__(name, score, phone, email)\n",
        "        self.country = country\n",
        "\n",
        "# 그럼 이제 학생들 관리할 때 아래와 같이 관리할 수 있을 겁니다.\n",
        "\n",
        "data = [\n",
        "    Student(\"김민준\", 85, \"010-1234-5678\", \"minjun@example.kr\"),\n",
        "    Student(\"이서연\", 92, \"010-2345-6789\", \"seoyeon@example.kr\"),\n",
        "    Student(\"박지훈\", 78, \"010-3456-7890\", \"jihoon@example.kr\"),\n",
        "    Student(\"최수아\", 88, \"010-4567-8901\", \"sua@example.kr\"),\n",
        "    Student(\"정도현\", 95, \"010-5678-9012\", \"dohyun@example.kr\"),\n",
        "    Student(\"강하은\", 82, \"010-6789-0123\", \"haeun@example.kr\"),\n",
        "    Student(\"윤지우\", 90, \"010-7890-1234\", \"jiwoo@example.kr\"),\n",
        "    Student(\"임서진\", 79, \"010-8901-2345\", \"seojin@example.kr\"),\n",
        "    ForeignStudent(\"Emma Wilson\", 87, \"010-9012-3456\", \"emma@example.com\", \"USA\"),\n",
        "    Student(\"한유진\", 93, \"010-0123-4567\", \"yujin@example.kr\")\n",
        "]\n",
        "\n",
        "data\n",
        "\n",
        "# for i in data:\n",
        "#     print(i.score)"
      ],
      "metadata": {
        "colab": {
          "base_uri": "https://localhost:8080/"
        },
        "id": "BaAqQt3ZhTcq",
        "outputId": "ed394239-9d31-4d5b-f953-04ce80ad8216"
      },
      "execution_count": null,
      "outputs": [
        {
          "output_type": "execute_result",
          "data": {
            "text/plain": [
              "[김민준, 이서연, 박지훈, 최수아, 정도현, 강하은, 윤지우, 임서진, Emma Wilson, 한유진]"
            ]
          },
          "metadata": {},
          "execution_count": 21
        }
      ]
    },
    {
      "cell_type": "code",
      "source": [
        "class A:\n",
        "    pass\n",
        "\n",
        "class B:\n",
        "    pass\n",
        "\n",
        "class C:\n",
        "    pass"
      ],
      "metadata": {
        "id": "KNkhbnGrmxb3"
      },
      "execution_count": null,
      "outputs": []
    },
    {
      "cell_type": "code",
      "source": [
        "class A:\n",
        "    pass\n",
        "\n",
        "class B(A):\n",
        "    pass\n",
        "\n",
        "class C(B):\n",
        "    pass"
      ],
      "metadata": {
        "id": "IxwwjsJWm32E"
      },
      "execution_count": null,
      "outputs": []
    },
    {
      "cell_type": "code",
      "source": [
        "class A:\n",
        "    def move(self):\n",
        "        print('움직여요!')\n",
        "\n",
        "class B(A):\n",
        "    pass\n",
        "\n",
        "class C(B):\n",
        "    pass\n",
        "\n",
        "a = A()\n",
        "b = B()\n",
        "c = C()\n",
        "\n",
        "a.move()\n",
        "b.move()\n",
        "c.move()"
      ],
      "metadata": {
        "colab": {
          "base_uri": "https://localhost:8080/"
        },
        "id": "soVAqq87nGfx",
        "outputId": "157a26da-9f10-4022-9117-2de649d5abb4"
      },
      "execution_count": null,
      "outputs": [
        {
          "output_type": "stream",
          "name": "stdout",
          "text": [
            "움직여요!\n",
            "움직여요!\n",
            "움직여요!\n"
          ]
        }
      ]
    },
    {
      "cell_type": "code",
      "source": [
        "class A:\n",
        "    num = 100\n",
        "    def move(self):\n",
        "        print('움직여요!')\n",
        "\n",
        "class B(A):\n",
        "    pass\n",
        "\n",
        "class C(B):\n",
        "    pass\n",
        "\n",
        "a = A()\n",
        "b = B()\n",
        "c = C()\n",
        "\n",
        "a.num\n",
        "b.num\n",
        "c.num"
      ],
      "metadata": {
        "colab": {
          "base_uri": "https://localhost:8080/"
        },
        "id": "nziAlvH3nWKE",
        "outputId": "d91da510-fc0f-45dc-a7f7-e0cda281b865"
      },
      "execution_count": null,
      "outputs": [
        {
          "output_type": "execute_result",
          "data": {
            "text/plain": [
              "100"
            ]
          },
          "metadata": {},
          "execution_count": 25
        }
      ]
    },
    {
      "cell_type": "code",
      "source": [
        "class A:\n",
        "    a = 100\n",
        "\n",
        "class B:\n",
        "    b = 200\n",
        "\n",
        "class C(A, B):\n",
        "    pass\n",
        "\n",
        "\n",
        "c = C()\n",
        "\n",
        "c.a\n",
        "c.b"
      ],
      "metadata": {
        "colab": {
          "base_uri": "https://localhost:8080/"
        },
        "id": "BZtWXKksoV9H",
        "outputId": "90eeb09e-b5b6-4a5f-d498-a5632bf9727a"
      },
      "execution_count": null,
      "outputs": [
        {
          "output_type": "execute_result",
          "data": {
            "text/plain": [
              "200"
            ]
          },
          "metadata": {},
          "execution_count": 28
        }
      ]
    },
    {
      "cell_type": "code",
      "source": [
        "class A:\n",
        "    a = 100\n",
        "\n",
        "class B:\n",
        "    a = 200\n",
        "\n",
        "class C(B, A):\n",
        "    pass\n",
        "\n",
        "\n",
        "c = C()\n",
        "\n",
        "c.a"
      ],
      "metadata": {
        "colab": {
          "base_uri": "https://localhost:8080/"
        },
        "id": "1rqpokDGooT7",
        "outputId": "7e1ed6e2-288e-43e7-dafe-d94024c044a4"
      },
      "execution_count": null,
      "outputs": [
        {
          "output_type": "execute_result",
          "data": {
            "text/plain": [
              "200"
            ]
          },
          "metadata": {},
          "execution_count": 31
        }
      ]
    },
    {
      "cell_type": "markdown",
      "source": [
        "# 메서드 오버라이딩"
      ],
      "metadata": {
        "id": "4K7CAmOWpH-I"
      }
    },
    {
      "cell_type": "code",
      "source": [
        "class A:\n",
        "    def move(self):\n",
        "        print('출발')\n",
        "\n",
        "\n",
        "class B(A):\n",
        "    def move(self):\n",
        "        print('덮어썼지롱!')\n",
        "\n",
        "\n",
        "b = B()\n",
        "b.move()"
      ],
      "metadata": {
        "colab": {
          "base_uri": "https://localhost:8080/"
        },
        "id": "V4m_dIj0pVai",
        "outputId": "05d5afae-c852-4457-893d-b302be6608fa"
      },
      "execution_count": null,
      "outputs": [
        {
          "output_type": "stream",
          "name": "stdout",
          "text": [
            "덮어썼지롱!\n"
          ]
        }
      ]
    },
    {
      "cell_type": "code",
      "source": [
        "# 절대 실행시키지 마세요.\n",
        "class int(int):\n",
        "    def __add__(self, a):\n",
        "        return self * a\n",
        "\n",
        "int('10') + int('10')"
      ],
      "metadata": {
        "colab": {
          "base_uri": "https://localhost:8080/"
        },
        "id": "WBtPMvu0qujl",
        "outputId": "c7cde860-b0c2-4bd7-a4c8-50367ca6d3ba"
      },
      "execution_count": null,
      "outputs": [
        {
          "output_type": "execute_result",
          "data": {
            "text/plain": [
              "100"
            ]
          },
          "metadata": {},
          "execution_count": 33
        }
      ]
    },
    {
      "cell_type": "code",
      "source": [
        "class MyClass:\n",
        "    def __init__(self, c, d, e):\n",
        "        self.__c = c\n",
        "        self.d = d\n",
        "        self._ = e\n",
        "\n",
        "c = MyClass(30, 40, 50)\n",
        "c._\n",
        "c.__c # error"
      ],
      "metadata": {
        "colab": {
          "base_uri": "https://localhost:8080/"
        },
        "id": "YKyXLaCOsfP4",
        "outputId": "50bee545-475f-4ddc-c036-9cd179e2a0e6"
      },
      "execution_count": null,
      "outputs": [
        {
          "output_type": "execute_result",
          "data": {
            "text/plain": [
              "50"
            ]
          },
          "metadata": {},
          "execution_count": 3
        }
      ]
    },
    {
      "cell_type": "markdown",
      "source": [
        "# lambda"
      ],
      "metadata": {
        "id": "uVRf8-BsVrf4"
      }
    },
    {
      "cell_type": "code",
      "source": [
        "# 이름이 없는 함수!\n",
        "# 함수는 => 재사용하려고 사용!\n",
        "# 이름이 없는 함수인 lambda는 재사용이 목적이 아니라 함수 기능 자체에 목적이 있습니다.\n",
        "def f(x): # 이 f함수를 거의 재사용하지 않아요! 1번만 사용하는 경우가 많습니다.\n",
        "    return x ** 2\n",
        "\n",
        "list(map(f, [1, 2, 3, 4]))"
      ],
      "metadata": {
        "colab": {
          "base_uri": "https://localhost:8080/"
        },
        "id": "l-UFoZGwbdXX",
        "outputId": "af216261-7800-4f24-cd56-950ff00bdae6"
      },
      "execution_count": null,
      "outputs": [
        {
          "output_type": "execute_result",
          "data": {
            "text/plain": [
              "[1, 4, 9, 16]"
            ]
          },
          "metadata": {},
          "execution_count": 15
        }
      ]
    },
    {
      "cell_type": "code",
      "source": [
        "list(map(lambda x: x ** 2, [1, 2, 3, 4]))"
      ],
      "metadata": {
        "colab": {
          "base_uri": "https://localhost:8080/"
        },
        "id": "xYvfjrjOb4Pn",
        "outputId": "e3da0bf3-43a4-409d-f51d-cae7e3e07592"
      },
      "execution_count": null,
      "outputs": [
        {
          "output_type": "execute_result",
          "data": {
            "text/plain": [
              "[1, 4, 9, 16]"
            ]
          },
          "metadata": {},
          "execution_count": 16
        }
      ]
    },
    {
      "cell_type": "code",
      "source": [
        "# lambda가 자주 사용되는 곳은 어딘가요?\n",
        "\n",
        "# 보통\n",
        "# map\n",
        "# filter\n",
        "# sorted\n",
        "\n",
        "# 다만, 고급 프로그래머는 시도 때도 없이 lambda를 사용합니다.\n",
        "# 그리고 한줄로만 코딩을 하려는 이상한 분들이 있으십니다. => 권하지 않습니다.\n",
        "# 가독성은 중요합니다. lambda를 너무 겹쳐서 쓰면 가독성이 깨집니다."
      ],
      "metadata": {
        "id": "ljS_cI-LcIDo"
      },
      "execution_count": null,
      "outputs": []
    },
    {
      "cell_type": "code",
      "source": [
        "# [2, 5, 3, 7, 5, 3, 4, 1, 2, 3]에서 4 이상인 값을 모두 출력하세요. lambda를 통해 구현하세요.\n",
        "\n",
        "list(filter(lambda x: x >= 4, [2, 5, 3, 7, 5, 3, 4, 1, 2, 3]))"
      ],
      "metadata": {
        "colab": {
          "base_uri": "https://localhost:8080/"
        },
        "id": "kVFeoWEvc4_c",
        "outputId": "71acff62-53d0-4144-c476-66724dcdf4cc"
      },
      "execution_count": null,
      "outputs": [
        {
          "output_type": "execute_result",
          "data": {
            "text/plain": [
              "[5, 7, 5, 4]"
            ]
          },
          "metadata": {},
          "execution_count": 17
        }
      ]
    },
    {
      "cell_type": "code",
      "source": [
        "# lambda를 이름 있는 함수로!?\n",
        "\n",
        "f = lambda num: num >= 4\n",
        "\n",
        "def f(num):\n",
        "    return num >= 4"
      ],
      "metadata": {
        "id": "S1Uu-Cd9fMWu"
      },
      "execution_count": null,
      "outputs": []
    },
    {
      "cell_type": "code",
      "source": [
        "# 가독성이 매우 떨어지는 중첩 lambda 예시\n",
        "process_data = lambda data: list(map(\n",
        "    lambda x: (lambda y: (lambda z: z ** 2)(y * 3) if y % 2 == 0 else (lambda w: w + 10)(y))(\n",
        "        (lambda a: a + 5 if a > 10 else (lambda b: b * 2)(a))(x)\n",
        "    ),\n",
        "    filter(lambda n: (lambda p: p > 0)(n) and (lambda q: q < 100)(n) and (lambda r: r % 3 != 0 or r % 5 == 0)(n), data)\n",
        "))\n",
        "\n",
        "# 사용 예시\n",
        "numbers = list(range(-10, 30))\n",
        "result = process_data(numbers)\n",
        "print(result)"
      ],
      "metadata": {
        "id": "WmD1-_Xrfu1Z"
      },
      "execution_count": null,
      "outputs": []
    },
    {
      "cell_type": "markdown",
      "source": [
        "# 상수"
      ],
      "metadata": {
        "id": "LgO25UG0e6vR"
      }
    },
    {
      "cell_type": "code",
      "source": [
        "# 대부분 모든 변수의 알파벳이 대문자면 상수로 여기고 잘 수정하지 않습니다.\n",
        "\n",
        "PI = 3.14"
      ],
      "metadata": {
        "id": "R2cAwm2JeQVA"
      },
      "execution_count": null,
      "outputs": []
    },
    {
      "cell_type": "code",
      "source": [
        "from enum import Enum\n",
        "\n",
        "class Color(Enum):\n",
        "    RED = 1\n",
        "    GREEN = 2\n",
        "    BLUE = 3\n",
        "\n",
        "print(Color.RED)\n",
        "\n",
        "for color in Color:\n",
        "    print(color)"
      ],
      "metadata": {
        "colab": {
          "base_uri": "https://localhost:8080/"
        },
        "id": "PKdXtQ--e5wh",
        "outputId": "8060fd39-79af-49b1-fc3f-493b616cecb9"
      },
      "execution_count": 1,
      "outputs": [
        {
          "output_type": "stream",
          "name": "stdout",
          "text": [
            "Color.RED\n",
            "Color.RED\n",
            "Color.GREEN\n",
            "Color.BLUE\n"
          ]
        }
      ]
    },
    {
      "cell_type": "code",
      "source": [
        "# 기능적으로는 수정이 되어 버립니다!\n",
        "color.RED = 100"
      ],
      "metadata": {
        "id": "kTBZ_IJafKps"
      },
      "execution_count": 2,
      "outputs": []
    },
    {
      "cell_type": "code",
      "source": [
        "color.RED"
      ],
      "metadata": {
        "colab": {
          "base_uri": "https://localhost:8080/"
        },
        "id": "6ZIGvBMVfQ62",
        "outputId": "ec2788fc-cbdf-4f2b-80cc-1d3c101430e0"
      },
      "execution_count": 5,
      "outputs": [
        {
          "output_type": "execute_result",
          "data": {
            "text/plain": [
              "<Color.RED: 1>"
            ]
          },
          "metadata": {},
          "execution_count": 5
        }
      ]
    },
    {
      "cell_type": "code",
      "source": [
        "# 클로저라는 기법을 사용하면 변수를 숨길 수 있어요.\n",
        "# factory 함수라고도 합니다.\n",
        "\n",
        "# 클로저는 함수가 끝난 뒤에 휘발되어야 하는 영역에\n",
        "# 함수가 끝난 뒤에도 접근할 수 있도록 하는 기술\n",
        "# x가 휘발되지 않으려면 어딘가에서 x를 사용하고 있기만 하면 됩니다.\n",
        "################################################\n",
        "def f(x):\n",
        "    def ff(y):\n",
        "        return y ** x\n",
        "    return ff\n",
        "\n",
        "aa = f(3)\n",
        "################################################\n",
        "위의 코드와 같음\n",
        "def aa(y):\n",
        "    return y ** 3"
      ],
      "metadata": {
        "id": "okV33skNfZfR"
      },
      "execution_count": null,
      "outputs": []
    },
    {
      "cell_type": "code",
      "source": [
        "def aa(y):\n",
        "    return y ** 3\n",
        "\n",
        "aa(2)"
      ],
      "metadata": {
        "colab": {
          "base_uri": "https://localhost:8080/"
        },
        "id": "oDnXLtnKhHDb",
        "outputId": "ff2a3447-4bfe-4b44-816d-8f15d4974020"
      },
      "execution_count": 6,
      "outputs": [
        {
          "output_type": "execute_result",
          "data": {
            "text/plain": [
              "8"
            ]
          },
          "metadata": {},
          "execution_count": 6
        }
      ]
    },
    {
      "cell_type": "code",
      "source": [
        "def f(x):\n",
        "    def ff(y):\n",
        "        return y ** x\n",
        "    return ff\n",
        "\n",
        "aa = f(3)\n",
        "aa(2) # 여기 이후로는 x에 접근이 불가능합니다."
      ],
      "metadata": {
        "colab": {
          "base_uri": "https://localhost:8080/"
        },
        "id": "vlmcWGc7hGEk",
        "outputId": "32c3c1d6-802d-4536-acd5-9f86cb251a2c"
      },
      "execution_count": 7,
      "outputs": [
        {
          "output_type": "execute_result",
          "data": {
            "text/plain": [
              "8"
            ]
          },
          "metadata": {},
          "execution_count": 7
        }
      ]
    },
    {
      "cell_type": "markdown",
      "source": [
        "# 모듈과 패키지"
      ],
      "metadata": {
        "id": "Un71boHFhf1j"
      }
    },
    {
      "cell_type": "code",
      "source": [
        "import hojun # 내 폴더에서 먼저 hojun.py를 찾습니다!\n",
        "\n",
        "hojun.age\n",
        "hojun.name\n",
        "hojun.add(3, 4)\n",
        "\n",
        "'''\n",
        "# hojun.py 파일 내용\n",
        "name = 'hojun'\n",
        "age = 10\n",
        "\n",
        "def add(x, y):\n",
        "    return x + y\n",
        "\n",
        "def mul(x, y):\n",
        "    return x * y\n",
        "'''\n",
        "\n",
        "print(dir(hojun))\n",
        "print(type(hojun)) # <class 'module'>"
      ],
      "metadata": {
        "colab": {
          "base_uri": "https://localhost:8080/"
        },
        "id": "jbWUQWinhkql",
        "outputId": "13cb5eb8-c23e-43f3-941d-6473cd74b2a8"
      },
      "execution_count": 10,
      "outputs": [
        {
          "output_type": "stream",
          "name": "stdout",
          "text": [
            "['__builtins__', '__cached__', '__doc__', '__file__', '__loader__', '__name__', '__package__', '__spec__', 'add', 'age', 'mul', 'name']\n",
            "<class 'module'>\n"
          ]
        }
      ]
    },
    {
      "cell_type": "code",
      "source": [
        "import hojun as h # 내 폴더에서 먼저 hojun.py를 찾습니다!\n",
        "\n",
        "print(h.age)\n",
        "print(h.name)\n",
        "print(h.add(3, 4))\n",
        "\n",
        "'''\n",
        "# hojun.py 파일 내용\n",
        "name = 'hojun'\n",
        "age = 10\n",
        "\n",
        "def add(x, y):\n",
        "    return x + y\n",
        "\n",
        "def mul(x, y):\n",
        "    return x * y\n",
        "'''\n",
        "\n",
        "print(dir(hojun))\n",
        "print(type(hojun)) # <class 'module'>"
      ],
      "metadata": {
        "colab": {
          "base_uri": "https://localhost:8080/"
        },
        "id": "m7t6eId2jMzy",
        "outputId": "dcfff552-9c77-4c17-904f-1e75d795412b"
      },
      "execution_count": 12,
      "outputs": [
        {
          "output_type": "stream",
          "name": "stdout",
          "text": [
            "10\n",
            "hojun\n",
            "7\n",
            "['__builtins__', '__cached__', '__doc__', '__file__', '__loader__', '__name__', '__package__', '__spec__', 'add', 'age', 'mul', 'name']\n",
            "<class 'module'>\n"
          ]
        }
      ]
    },
    {
      "cell_type": "code",
      "source": [
        "from hojun import age, name, add\n",
        "\n",
        "print(age)\n",
        "print(name)\n",
        "print(add(3, 4))\n"
      ],
      "metadata": {
        "colab": {
          "base_uri": "https://localhost:8080/"
        },
        "id": "hrvAjgz2j3v2",
        "outputId": "24216abb-a975-4c56-9849-3c40601decbc"
      },
      "execution_count": 18,
      "outputs": [
        {
          "output_type": "stream",
          "name": "stdout",
          "text": [
            "10\n",
            "hojun\n",
            "7\n"
          ]
        }
      ]
    },
    {
      "cell_type": "code",
      "source": [
        "# 위 코드는 이럴 때에는 문제가 생깁니다.\n",
        "# 이 코드는 실행이 되지 않습니다. nayoung.py 파일이 없습니다.\n",
        "# age, name, add 같아서 문제 발생\n",
        "from hojun import age, name, add\n",
        "from nayung import age, name, add\n",
        "\n",
        "print(age)\n",
        "print(name)\n",
        "print(add(5, 4))"
      ],
      "metadata": {
        "colab": {
          "base_uri": "https://localhost:8080/"
        },
        "id": "fgd-klSVkGSa",
        "outputId": "444bc337-b2e8-410e-a3d9-7640564e5d5b"
      },
      "execution_count": 45,
      "outputs": [
        {
          "output_type": "stream",
          "name": "stdout",
          "text": [
            "5\n",
            "hojun\n",
            "9\n"
          ]
        }
      ]
    },
    {
      "cell_type": "code",
      "source": [
        "# 위와 같은 문제가 있기 때문에\n",
        "# 아래와 같이 import 또는 import + as를 권장합니다\n",
        "\n",
        "import hojun as h # 내 폴더에서 먼저 hojun.py를 찾습니다!\n",
        "import nayung as n # 내 폴더에서 먼저 nayung.py를 찾습니다!\n",
        "\n",
        "print(h.age)\n",
        "print(h.name)\n",
        "print(h.add(3, 4))\n",
        "\n",
        "print(n.age)\n",
        "print(n.name)\n",
        "print(n.add(3, 4))\n",
        "\n",
        "'''\n",
        "# hojun.py 파일 내용\n",
        "name = 'hojun'\n",
        "age = 10\n",
        "\n",
        "def add(x, y):\n",
        "    return x + y\n",
        "\n",
        "def mul(x, y):\n",
        "    return x * y\n",
        "'''\n",
        "\n",
        "print(dir(hojun))\n",
        "print(type(hojun)) # <class 'module'>"
      ],
      "metadata": {
        "id": "ERVU5k-Tjgf_"
      },
      "execution_count": null,
      "outputs": []
    },
    {
      "cell_type": "code",
      "source": [
        "## 문제 1: 수학 모듈 만들기\n",
        "\n",
        "**문제 설명:**\n",
        "수학 연산을 수행하는 `math_tools.py` 모듈을 만들고, 이를 불러와 사용하는 프로그램을 작성하세요.\n",
        "\n",
        "**요구사항:**\n",
        "1. `math_tools.py` 파일을 만들고 다음 항목을 구현하세요.\n",
        "   - `pi` 변수: 3.14159 값을 저장\n",
        "   - `e` 변수: 2.71828 값을 저장\n",
        "   - `square(x)` 함수: 숫자의 제곱을 반환\n",
        "   - `cube(x)` 함수: 숫자의 세제곱을 반환\n",
        "   - `factorial(n)` 함수: n의 팩토리얼(n!)을 계산하여 반환\n",
        "\n",
        "2. 각 import 방식에 따라 pi 값을 출력하고, 숫자 5의 제곱을 계산하여 출력하세요.\n",
        "\n",
        "**예상 결과:**\n",
        "```\n",
        "전체 import 방식으로 사용:\n",
        "Pi: 3.14159\n",
        "5의 제곱: 25\n",
        "\n",
        "별칭(as)으로 import하여 사용:\n",
        "Pi: 3.14159\n",
        "5의 제곱: 25\n",
        "\n",
        "특정 항목만 import하여 사용:\n",
        "Pi: 3.14159\n",
        "5의 제곱: 25\n",
        "```\n",
        "\n",
        "## 문제 2: 학생 정보 관리 모듈 만들기\n",
        "\n",
        "**문제 설명:**\n",
        "학생들의 정보를 관리하는 `student_info.py` 모듈을 만들고, 이를 활용하여 학생들의 정보를 출력하는 프로그램을 작성하세요.\n",
        "\n",
        "**요구사항:**\n",
        "1. `student_info.py` 파일을 만들고 다음 항목을 구현하세요:\n",
        "   - `school_name` 변수: 학교 이름 (예: \"파이썬 고등학교\")\n",
        "   - `students` 리스트: 학생들의 이름을 담은 리스트 (최소 3명)\n",
        "   - `get_student_info(name)` 함수: 학생 이름이 주어지면 \"{이름}은/는 {학교이름}의 학생입니다.\"라는 문자열 반환\n",
        "   - `count_students()` 함수: 학생 수를 반환\n",
        "\n",
        "2. 두 가지 import 방식을 모두 사용하여\n",
        "   - 학교 이름 출력\n",
        "   - 첫 번째 학생의 정보 출력 (두 가지 import 방식 모두 사용)\n",
        "   - 전체 학생 수 출력 (별칭을 사용한 import 방식으로만)\n",
        "\n",
        "**예상 결과:**\n",
        "```\n",
        "[별칭 import 방식]\n",
        "학교 이름: 파이썬 고등학교\n",
        "첫 번째 학생 정보: 홍길동은/는 파이썬 고등학교의 학생입니다.\n",
        "전체 학생 수: 3\n",
        "\n",
        "[특정 항목 import 방식]\n",
        "학교 이름: 파이썬 고등학교\n",
        "첫 번째 학생 정보: 홍길동은/는 파이썬 고등학교의 학생입니다.\n",
        "```"
      ],
      "metadata": {
        "id": "4RMU_8U2m0bv"
      },
      "execution_count": null,
      "outputs": []
    },
    {
      "cell_type": "code",
      "source": [
        "# 2. 각 import 방식에 따라 pi 값을 출력하고, 숫자 5의 제곱을 계산하여 출력하세요.\n",
        "\n",
        "import math_tools\n",
        "print(math_tools.pi)\n",
        "print(math_tools.square(5))\n",
        "\n",
        "import math_tools as m\n",
        "print(m.pi)\n",
        "print(m.square(6))\n",
        "\n",
        "from math_tools import pi, square\n",
        "print(pi)\n",
        "print(square(5))\n",
        "\n",
        "# **예상 결과:**\n",
        "# ```\n",
        "# 전체 import 방식으로 사용:\n",
        "# Pi: 3.14159\n",
        "# 5의 제곱: 25\n",
        "\n",
        "# 별칭(as)으로 import하여 사용:\n",
        "# Pi: 3.14159\n",
        "# 5의 제곱: 25\n",
        "\n",
        "# 특정 항목만 import하여 사용:\n",
        "# Pi: 3.14159\n",
        "# 5의 제곱: 25"
      ],
      "metadata": {
        "colab": {
          "base_uri": "https://localhost:8080/"
        },
        "id": "aYGcRR03neKA",
        "outputId": "ec604f6a-9e76-472b-8cc5-c0311345e6b9"
      },
      "execution_count": 44,
      "outputs": [
        {
          "output_type": "stream",
          "name": "stdout",
          "text": [
            "3.14159\n",
            "25\n",
            "3.14159\n",
            "36\n",
            "3.14159\n",
            "25\n"
          ]
        }
      ]
    },
    {
      "cell_type": "code",
      "source": [
        "import math_tools\n",
        "\n",
        "print(math_tools.pi)\n",
        "\n",
        "import math_tools as mt\n",
        "\n",
        "print(mt.pi)\n",
        "\n",
        "from math_tools import pi\n",
        "\n",
        "print(pi)"
      ],
      "metadata": {
        "colab": {
          "base_uri": "https://localhost:8080/"
        },
        "id": "Ll7_965dvr_u",
        "outputId": "a99d8727-af7d-4d91-c633-d82cf7ae7c58"
      },
      "execution_count": 50,
      "outputs": [
        {
          "output_type": "stream",
          "name": "stdout",
          "text": [
            "3.14159\n",
            "3.14159\n",
            "3.14159\n"
          ]
        }
      ]
    },
    {
      "cell_type": "code",
      "source": [
        "# 2. 두 가지 import 방식을 모두 사용하여\n",
        "#    - 학교 이름 출력\n",
        "#    - 첫 번째 학생의 정보 출력 (두 가지 import 방식 모두 사용)\n",
        "#    - 전체 학생 수 출력 (별칭을 사용한 import 방식으로만)\n",
        "\n",
        "import student_info as st\n",
        "print(st.school_name)\n",
        "print(st.get_student_info(st.students[0]))\n",
        "print(st.count_students())\n",
        "\n",
        "from student_info import school_name, students, get_student_info\n",
        "\n",
        "print(school_name)\n",
        "print(f\"두 번째 학생 정보: {get_student_info(students[1])}\")\n",
        "# **예상 결과:**\n",
        "# ```\n",
        "# [별칭 import 방식]\n",
        "# 학교 이름: 파이썬 고등학교\n",
        "# 첫 번째 학생 정보: 홍길동은/는 파이썬 고등학교의 학생입니다.\n",
        "# 전체 학생 수: 3\n",
        "\n",
        "# [특정 항목 import 방식]\n",
        "# 학교 이름: 파이썬 고등학교\n",
        "# 첫 번째 학생 정보: 홍길동은/는 파이썬 고등학교의 학생입니다."
      ],
      "metadata": {
        "colab": {
          "base_uri": "https://localhost:8080/"
        },
        "id": "rQtPhcU3rYBc",
        "outputId": "05e1cde6-0cf1-4fb1-eb48-a2a1da4bef0f"
      },
      "execution_count": 49,
      "outputs": [
        {
          "output_type": "stream",
          "name": "stdout",
          "text": [
            "파이썬 고등학교\n",
            "가나다은/는 파이썬 고등학교의 학생입니다.\n",
            "3\n",
            "파이썬 고등학교\n",
            "두 번째 학생 정보: 라마바은/는 파이썬 고등학교의 학생입니다.\n"
          ]
        }
      ]
    },
    {
      "cell_type": "code",
      "source": [
        "# 학교 이름 출력\n",
        "# 첫 번째 학생의 정보 출력 (두 가지 import 방식 모두 사용)\n",
        "# 전체 학생 수 출력 (별칭을 사용한 import 방식으로만)\n",
        "\n",
        "import student_info\n",
        "\n",
        "print(student_info.school_name)\n",
        "print(student_info.get_student_info(student_info.students[0]))\n",
        "\n",
        "import student_info as si\n",
        "\n",
        "print(si.school_name)\n",
        "print(si.get_student_info(si.students[0]))"
      ],
      "metadata": {
        "colab": {
          "base_uri": "https://localhost:8080/"
        },
        "id": "CplFtMGxwq3z",
        "outputId": "eb68bcbc-1a36-423c-a5b6-0450ea7ed698"
      },
      "execution_count": 51,
      "outputs": [
        {
          "output_type": "stream",
          "name": "stdout",
          "text": [
            "파이썬 고등학교\n",
            "가나다은/는 파이썬 고등학교의 학생입니다.\n",
            "파이썬 고등학교\n",
            "가나다은/는 파이썬 고등학교의 학생입니다.\n"
          ]
        }
      ]
    },
    {
      "cell_type": "code",
      "source": [
        "# 모듈을 읽는 순서\n",
        "# 1. 해당 메모리에 해당 모듈이 있는지 확인\n",
        "# 2. 해당 파일 폴더에 해당 .py 파일이나 폴더가 있는지 확인\n",
        "# 3. 파이썬이 설치된 곳으로 이동해서 모듈 찾음\n",
        "# 4. 이렇게 해서 못찾을 경우 에러를 반환\n",
        "\n",
        "from a.b.c import hojun # a폴더 아래 b폴더 아래 c폴더 아래\n",
        "\n",
        "hojun.age"
      ],
      "metadata": {
        "colab": {
          "base_uri": "https://localhost:8080/"
        },
        "id": "DW-1BlQtwoza",
        "outputId": "56ae6c3d-be7b-4cf5-aa1f-aea7a8684d65"
      },
      "execution_count": 53,
      "outputs": [
        {
          "output_type": "execute_result",
          "data": {
            "text/plain": [
              "10"
            ]
          },
          "metadata": {},
          "execution_count": 53
        }
      ]
    },
    {
      "cell_type": "code",
      "source": [
        "import os\n",
        "\n",
        "# 정말 많이 사용되지만\n",
        "# 문제가 있습니다! Mac, Linux, Window를 혼용 사용하시는 분들은\n",
        "# 주의하실 필요가 있습니다.\n",
        "# 경로 생성에서 구분자가 잘못들어가는 이슈가 있어서 뒤에서 배울 Django에서는\n",
        "# 3.x에서 os 모듈이 빠졌습니다.\n",
        "# 대신 pathlib 모듈이 들어갔습니다.\n",
        "# Django 외에 다른 곳에서는 잘 빼지 않습니다.\n",
        "\n",
        "os.mkdir('licat') # licat이란 폴더 생성, 삭제는 os.rmdir()\n",
        "print(os.path.join('hello', 'world')) # 경로를 합쳐줍니다.\n",
        "print(os.listdir()) # 현재 디렉토리의 파일 목록을 반환합니다."
      ],
      "metadata": {
        "colab": {
          "base_uri": "https://localhost:8080/"
        },
        "id": "A0e3HPuh1mJE",
        "outputId": "176d9750-630a-4ddc-8b6e-c429b87b1153"
      },
      "execution_count": 54,
      "outputs": [
        {
          "output_type": "stream",
          "name": "stdout",
          "text": [
            "hello/world\n",
            "['.config', 'nayung.py', 'student_info.py', '.ipynb_checkpoints', 'math_tools.py', 'a', 'hojun.py', 'licat', '__pycache__', 'sample_data']\n"
          ]
        }
      ]
    },
    {
      "cell_type": "code",
      "source": [
        "from pathlib import Path as p\n",
        "\n",
        "p.cwd() # 현재 경로 확인\n",
        "pwd = p.cwd()\n",
        "pwd / 'hello' / 'world' # /로 경로 결합\n",
        "\n",
        "print(pwd / 'hello100' / 'world100' / 'hello200') # 이런 코드는 우리가 뒤에 Django도 많이 볼 코드에요."
      ],
      "metadata": {
        "colab": {
          "base_uri": "https://localhost:8080/"
        },
        "id": "uxMZcmJe54lk",
        "outputId": "ffa71d43-aa10-4928-eca0-bed895dcee48"
      },
      "execution_count": 55,
      "outputs": [
        {
          "output_type": "stream",
          "name": "stdout",
          "text": [
            "/content/hello100/world100/hello200\n"
          ]
        }
      ]
    },
    {
      "cell_type": "code",
      "source": [
        "# pwd 인스턴스 입장에서 /는 __truediv__가 호출이 되는 것입니다!\n",
        "# 여기서 나누기를 하지 않고 경로를 결합해주는 코드가 작성이 되어있는 것입니다.\n",
        "\n",
        "# 1. '/' (일반 나눗셈): `__truediv__` 매직 메서드가 처리합니다.\n",
        "#    - 결과는 실수(float)를 반환합니다.\n",
        "#    - 예: `5 / 2 = 2.5`\n",
        "\n",
        "# 2. '//' (정수 나눗셈): `__floordiv__` 매직 메서드가 처리합니다.\n",
        "#    - 결과는 몫만 반환하고, 소수점 이하를 버립니다.\n",
        "#    - 예: `5 // 2 = 2`"
      ],
      "metadata": {
        "id": "cvKtQWWd6IqD"
      },
      "execution_count": 56,
      "outputs": []
    },
    {
      "cell_type": "code",
      "source": [
        "from datetime import datetime\n",
        "\n",
        "datetime.today()"
      ],
      "metadata": {
        "colab": {
          "base_uri": "https://localhost:8080/"
        },
        "id": "6eOfyF3g60bB",
        "outputId": "a70d8731-c005-4db2-ab58-43c79859c48b"
      },
      "execution_count": 57,
      "outputs": [
        {
          "output_type": "execute_result",
          "data": {
            "text/plain": [
              "datetime.datetime(2025, 5, 15, 3, 11, 2, 702964)"
            ]
          },
          "metadata": {},
          "execution_count": 57
        }
      ]
    },
    {
      "cell_type": "code",
      "source": [
        "today = datetime.today()\n",
        "\n",
        "today.year\n",
        "today.month\n",
        "today.day\n",
        "today.hour"
      ],
      "metadata": {
        "colab": {
          "base_uri": "https://localhost:8080/"
        },
        "id": "57agA6wA8mJC",
        "outputId": "ea4ae507-243e-41ea-9129-9508d7361c79"
      },
      "execution_count": 58,
      "outputs": [
        {
          "output_type": "execute_result",
          "data": {
            "text/plain": [
              "3"
            ]
          },
          "metadata": {},
          "execution_count": 58
        }
      ]
    },
    {
      "cell_type": "code",
      "source": [
        "import datetime\n",
        "\n",
        "today = datetime.date.today()\n",
        "days = datetime.timedelta(days=100)\n",
        "today + days # 100일 후 시간"
      ],
      "metadata": {
        "colab": {
          "base_uri": "https://localhost:8080/"
        },
        "id": "eVXHwuKW8nk-",
        "outputId": "748c2cfd-1f44-44b7-d048-ac74bb5b4562"
      },
      "execution_count": 59,
      "outputs": [
        {
          "output_type": "execute_result",
          "data": {
            "text/plain": [
              "datetime.date(2025, 8, 23)"
            ]
          },
          "metadata": {},
          "execution_count": 59
        }
      ]
    },
    {
      "cell_type": "code",
      "source": [
        "import datetime\n",
        "\n",
        "date = '2024-12-10'\n",
        "date = datetime.datetime.strptime(date, '%Y-%m-%d')\n",
        "print(date)\n",
        "\n",
        "# https://docs.python.org/ko/3/library/datetime.html#strftime-and-strptime-format-codes"
      ],
      "metadata": {
        "colab": {
          "base_uri": "https://localhost:8080/"
        },
        "id": "8OebUDEB8p1A",
        "outputId": "45a8a707-e814-446b-bb97-25f8fa48b99f"
      },
      "execution_count": 60,
      "outputs": [
        {
          "output_type": "stream",
          "name": "stdout",
          "text": [
            "2024-12-10 00:00:00\n"
          ]
        }
      ]
    },
    {
      "cell_type": "code",
      "source": [
        "import json\n",
        "\n",
        "d = {\n",
        "    'one': 1,\n",
        "    'two': 2,\n",
        "    'three': 3\n",
        "}\n",
        "\n",
        "s = json.dumps(d)\n",
        "print(type(s)) # str\n",
        "d = json.loads(s)\n",
        "print(type(d)) # dict\n",
        "\n",
        "print(str(d))\n",
        "print(json.dumps(d)) # 안전하고, 견고하게 바꿔줘요."
      ],
      "metadata": {
        "colab": {
          "base_uri": "https://localhost:8080/"
        },
        "id": "Ge4RYz3F9Ket",
        "outputId": "be525275-49cf-43ce-84b8-1b6470e4cb94"
      },
      "execution_count": 64,
      "outputs": [
        {
          "output_type": "stream",
          "name": "stdout",
          "text": [
            "<class 'str'>\n",
            "<class 'dict'>\n",
            "{'one': 1, 'two': 2, 'three': 3}\n",
            "{\"one\": 1, \"two\": 2, \"three\": 3}\n"
          ]
        }
      ]
    },
    {
      "cell_type": "code",
      "source": [
        "import json\n",
        "\n",
        "d = {\n",
        "    'one': 1,\n",
        "    'two': 2,\n",
        "    'three': True\n",
        "}\n",
        "\n",
        "\n",
        "print(str(d))\n",
        "print(json.dumps(d))\n"
      ],
      "metadata": {
        "colab": {
          "base_uri": "https://localhost:8080/"
        },
        "id": "jUd5V34a-Xqm",
        "outputId": "01b49f65-85da-4c04-83f0-b8712d0cee73"
      },
      "execution_count": 66,
      "outputs": [
        {
          "output_type": "stream",
          "name": "stdout",
          "text": [
            "{'one': 1, 'two': 2, 'three': True}\n",
            "{\"one\": 1, \"two\": 2, \"three\": true}\n"
          ]
        }
      ]
    },
    {
      "cell_type": "code",
      "source": [
        "# 리스트인데 앞뒤로 데이터를 넣고\n",
        "# 순회도 되게 하고 싶다?\n",
        "# 그런데 기본 자료형에는 없어요. => collections라는 모듈이 있습니다.\n",
        "# 여기에는 자주 사용하는 자료를 담는 구조에 대한 구현이 되어 있습니다.\n",
        "# 이런 것을 '자료 구조'라고 합니다."
      ],
      "metadata": {
        "id": "0k-akPPaAfJG"
      },
      "execution_count": null,
      "outputs": []
    },
    {
      "cell_type": "code",
      "source": [
        "import collections\n",
        "\n",
        "\n",
        "d = collections.deque([1, 2, 3, 4])\n",
        "d.rotate(1) # 1번 오른쪽으로 쉬프트 합니다. 숫자를 2로 바꾸어 비교해보세요.\n",
        "print(d)\n",
        "\n",
        "\n",
        "c = collections.Counter('hello world')\n",
        "print(c) # 요소의 개수를 세어 딕셔너리로 반환합니다.\n",
        "print(c.most_common()) # 가장 많이 나온 문자를 반환합니다."
      ],
      "metadata": {
        "colab": {
          "base_uri": "https://localhost:8080/"
        },
        "id": "HURxv1E_Bd8p",
        "outputId": "133630ff-b2f6-48ff-edbf-bac6ac6d6f7e"
      },
      "execution_count": 69,
      "outputs": [
        {
          "output_type": "stream",
          "name": "stdout",
          "text": [
            "deque([4, 1, 2, 3])\n",
            "Counter({'l': 3, 'o': 2, 'h': 1, 'e': 1, ' ': 1, 'w': 1, 'r': 1, 'd': 1})\n",
            "[('l', 3), ('o', 2), ('h', 1), ('e', 1), (' ', 1), ('w', 1), ('r', 1), ('d', 1)]\n"
          ]
        }
      ]
    },
    {
      "cell_type": "markdown",
      "source": [],
      "metadata": {
        "id": "m6-kmHtKCPkz"
      }
    },
    {
      "cell_type": "code",
      "source": [
        "import collections # 별표 3개\n",
        "\n",
        "d = collections.deque([1, 2, 3, 4])\n",
        "dir(d)\n",
        "\n",
        "d = collections.deque([1, 2, 3, 4], maxlen = 4)\n",
        "d\n",
        "d.append(100)\n",
        "d"
      ],
      "metadata": {
        "colab": {
          "base_uri": "https://localhost:8080/"
        },
        "id": "Lt1uBo83BeZS",
        "outputId": "1dced10c-ba3b-485e-86ab-f34dc04c2b0c"
      },
      "execution_count": 67,
      "outputs": [
        {
          "output_type": "execute_result",
          "data": {
            "text/plain": [
              "deque([2, 3, 4, 100])"
            ]
          },
          "metadata": {},
          "execution_count": 67
        }
      ]
    },
    {
      "cell_type": "code",
      "source": [
        "d = collections.deque([1, 2, 3, 4])\n",
        "d.appendleft(100)\n",
        "d"
      ],
      "metadata": {
        "colab": {
          "base_uri": "https://localhost:8080/"
        },
        "id": "ah5O3X2NBe3B",
        "outputId": "a5fd2454-0c0f-4dda-a6cc-1df85ad9bfce"
      },
      "execution_count": 68,
      "outputs": [
        {
          "output_type": "execute_result",
          "data": {
            "text/plain": [
              "deque([100, 1, 2, 3, 4])"
            ]
          },
          "metadata": {},
          "execution_count": 68
        }
      ]
    },
    {
      "cell_type": "code",
      "source": [
        "import collections\n",
        "\n",
        "# 각 숫자의 갯수를 카운팅 하세요!\n",
        "\n",
        "# '111114443333222333444555111222333'\n",
        "c = collections.Counter('111114443333222333444555111222333')\n",
        "print(c)\n",
        "print(c.most_common)\n",
        "print(c.most_common())"
      ],
      "metadata": {
        "colab": {
          "base_uri": "https://localhost:8080/"
        },
        "id": "5xr4T8zGBzzJ",
        "outputId": "af79c921-988c-401b-8b2a-615bdeeb38ef"
      },
      "execution_count": 70,
      "outputs": [
        {
          "output_type": "stream",
          "name": "stdout",
          "text": [
            "Counter({'3': 10, '1': 8, '4': 6, '2': 6, '5': 3})\n",
            "<bound method Counter.most_common of Counter({'3': 10, '1': 8, '4': 6, '2': 6, '5': 3})>\n",
            "[('3', 10), ('1', 8), ('4', 6), ('2', 6), ('5', 3)]\n"
          ]
        }
      ]
    },
    {
      "cell_type": "code",
      "source": [
        "# 이렇게 웹에서 데이터를 가져 오는 것을 크롤링이라고 합니다.\n",
        "# 이 크롤링에 자주 사용되는 라이브러리는\n",
        "# requests, bs4, selenium 3개가 있습니다.\n",
        "# 경고!! 이 크롤링 코드를 다른 서버에 크롤링 하진 마세요.\n",
        "# 수업 다 듣고 충분히 크롤링에 위험성을 인지한 다음 하세요.\n",
        "\n",
        "import requests\n",
        "\n",
        "# for i in range(1000): # 이렇게 하시면 안됩니다. 공격이에요.\n",
        "paullab_url = 'https://paullab.co.kr/bookservice/'\n",
        "response = requests.get(paullab_url)\n",
        "response.encoding = 'utf-8'\n",
        "response.text"
      ],
      "metadata": {
        "colab": {
          "base_uri": "https://localhost:8080/",
          "height": 108
        },
        "id": "0CwTO53GCTdp",
        "outputId": "a3475726-d748-4256-adcd-4375eb7d9e1c"
      },
      "execution_count": 71,
      "outputs": [
        {
          "output_type": "execute_result",
          "data": {
            "text/plain": [
              "'<!DOCTYPE html>\\n<html lang=\"ko\">\\n\\n<head>\\n    <meta charset=\"utf-8\">\\n    <meta http-equiv=\"X-UA-Compatible\" content=\"IE=edge\">\\n    <meta name=\"viewport\" content=\"width=device-width, initial-scale=1\">\\n    <meta name=\"description\" content=\"\">\\n    <meta name=\"author\" content=\"\">\\n\\n    <title>BookService</title>\\n\\n    <!-- Bootstrap Core CSS -->\\n    <link href=\"css/bootstrap.min.css\" rel=\"stylesheet\">\\n\\n    <!-- Custom CSS -->\\n    <link href=\"css/clean-blog.min.css\" rel=\"stylesheet\">\\n\\n    <!-- Custom Fonts -->\\n    <link href=\"http://maxcdn.bootstrapcdn.com/font-awesome/4.1.0/css/font-awesome.min.css\" rel=\"stylesheet\" type=\"text/css\">\\n    <link href=\\'http://fonts.googleapis.com/css?family=Lora:400,700,400italic,700italic\\' rel=\\'stylesheet\\' type=\\'text/css\\'>\\n    <link href=\\'http://fonts.googleapis.com/css?family=Open+Sans:300italic,400italic,600italic,700italic,800italic,400,300,600,700,800\\' rel=\\'stylesheet\\' type=\\'text/css\\'>\\n\\n    <!-- favicon -->\\n    <link rel=\"shortcut icon\" href=\"../favicon.ico\">\\n\\n    <!-- HTML5 Shim and Respond.js IE8 support of HTML5 elements and media queries -->\\n    <!-- WARNING: Respond.js doesn\\'t work if you view the page via file:// -->\\n    <!--[if lt IE 9]>\\n        <script src=\"https://oss.maxcdn.com/libs/html5shiv/3.7.0/html5shiv.js\"></script>\\n        <script src=\"https://oss.maxcdn.com/libs/respond.js/1.4.2/respond.min.js\"></script>\\n    <![endif]-->\\n\\n\\n\\t\\t<style>\\n\\t\\t.some-class-name.navbar-custom .dropdown-menu  li a {\\n\\t\\t  color:#888686;\\n\\t\\t}\\n\\n\\t\\t.some-class-name.navbar-custom .dropdown-menu  li a:hover,\\n\\t\\t.some-class-name.navbar-custom .dropdown-menu  li a:focus,\\n\\t\\t.some-class-name.navbar-custom .dropdown-menu  li a:active,\\n\\t\\t.some-class-name.navbar-custom .dropdown-menu  li a.active {\\n\\t\\t  color:#fff;\\n\\t\\t}\\n\\n\\t\\t.profile {\\n\\t\\t\\ttext-align: center;\\n\\t\\t\\tfont-family: \\'Lora\\';\\n\\t\\t\\tmargin-bottom: 20px;\\n\\t\\t}\\n\\n\\t\\t.profile img {\\n\\t\\t\\tpadding: 10px;\\n\\t\\t}\\n\\n\\t\\t.profile #borderneeded {\\n\\t\\t\\tborder-top: 2px solid black;\\n\\t\\t}\\n\\n\\t\\t.profile-container {\\n\\t\\t\\tmargin-top: 130px;\\n\\t\\t}\\n\\n    .home:hover {\\n      color: #ffffff;\\n      text-decoration: none;\\n    }\\n    .navbar-brand img {\\n        margin-top: -10px;\\n        width: 40px;\\n    }\\n\\n    .footer_logo {\\n        width: 100px;\\n    }\\n\\n\\t  </style>\\n</head>\\n\\n<body>\\n\\n    <!-- Navigation -->\\n    <nav class=\"navbar navbar-default some-class-name navbar-custom navbar-fixed-top\">\\n        <div class=\"container-fluid\">\\n            <!-- Brand and toggle get grouped for better mobile display -->\\n            <div class=\"navbar-header page-scroll\">\\n                <button type=\"button\" class=\"navbar-toggle\" data-toggle=\"collapse\" data-target=\"#bs-example-navbar-collapse-1\">\\n                    <span class=\"sr-only\">Toggle navigation</span>\\n                    <span class=\"icon-bar\"></span>\\n                    <span class=\"icon-bar\"></span>\\n                    <span class=\"icon-bar\"></span>\\n                </button>\\n                <a class=\"navbar-brand\" href=\"https://www.paullab.co.kr\">\\n                  <img src=\"img/logo_weniv.png\" width=\"50px\" align=\"left\" style=\"cursor: pointer;\"/>\\n                </a>\\n            </div>\\n\\n            <!-- Collect the nav links, forms, and other content for toggling -->\\n            <div class=\"collapse navbar-collapse\" id=\"bs-example-navbar-collapse-1\">\\n                <ul class=\"nav navbar-nav navbar-right\">\\n                    <li>\\n                        <a href=\"index.html\"> Home </a>\\n                    </li>\\n                    <li>\\n                        <!-- <a href=\"about.html\"> About </a> -->\\n                        <a href=\"https://www.paullab.co.kr/about.html\"> About </a>\\n                    </li>\\n                    <li> \\n                        <!-- <a href=\"roadmap.html\"> Roadmap </a> -->\\n                        <a href=\"https://www.paullab.co.kr/curriculum.html\"> Roadmap </a>\\n                    </li>\\n          \\t\\t\\t\\t\\t<li class=\"dropdown\">\\n                          <a href=\"#\" class=\"dropdown-toggle\" data-toggle=\"dropdown\">Book<b class=\"caret\"></b></a>\\n                          <ul class=\"dropdown-menu\">\\n\\t\\t\\t\\t\\t\\t                  <li>\\n                                  <a href=\"https://ridibooks.com/books/2773000047\">&nbsp;메모혁신 Notion(노션) 활용 가이드</a>\\n                              </li>\\n                              <li>\\n                                  <a href=\"https://ridibooks.com/v2/Detail?id=2773000025\">&nbsp;제주코딩베이스캠프 코드페스티벌 Python 100제 1부</a>\\n                              </li>\\n                              <li>\\n                                  <a href=\"https://ridibooks.com/v2/Detail?id=2773000005\">&nbsp;튜토리얼로 배우는 HTML&CSS</a>\\n                              </li>\\n                              <li>\\n                                  <a href=\"https://ridibooks.com/v2/Detail?id=2773000007\">&nbsp;코딩도장 튜토리얼로 배우는 Python 1편</a>\\n                              </li>\\n              \\t\\t\\t\\t\\t\\t\\t  <li>\\n                                  <a href=\"https://ridibooks.com/v2/Detail?id=2773000008\">&nbsp;코딩도장 튜토리얼로 배우는 Python 2편</a>\\n                              </li>\\n              \\t\\t\\t\\t\\t\\t\\t  <li>\\n                                  <a href=\"https://ridibooks.com/v2/Detail?id=2773000011\">&nbsp;코딩도장 튜토리얼로 배우는 Python 문제풀이</a>\\n                              </li>\\n              \\t\\t\\t\\t\\t\\t\\t  <li>\\n                                  <a href=\"https://ridibooks.com/v2/Detail?id=2773000015\">&nbsp;타노스의 건틀릿 알고리즘 With Python</a>\\n                              </li>\\n              \\t\\t\\t\\t\\t\\t\\t  <li>\\n                                  <a href=\"https://ridibooks.com/v2/Detail?id=2773000020\">&nbsp;xlsxwriter 튜토리얼로 배우는 Python 엑셀 프로그래밍</a>\\n                              </li>\\n              \\t\\t\\t\\t\\t\\t\\t  <li>\\n                                  <a href=\"https://ridibooks.com/v2/Detail?id=2773000022\">&nbsp;인공지능을 활용한 업무자동화 With Google Developers Group JEJU</a>\\n                              </li>\\n              \\t\\t\\t\\t\\t\\t\\t  <li>\\n                                  <a href=\"https://ridibooks.com/v2/Detail?id=2773000002\">&nbsp;2017 제주 코딩 해커톤 Django 트랙 상편 1권</a>\\n                              </li>\\n                          </ul>\\n                    </li>\\n                </ul>\\n            </div>\\n            <!-- /.navbar-collapse -->\\n        </div>\\n        <!-- /.container -->\\n    </nav>\\n\\n    <!-- Page Header -->\\n    <!-- Set your background image for this header on the line below. -->\\n    <header class=\"intro-header\" style=\"background-image: url(\\'img/home.jpg\\')\">\\n        <div class=\"container\">\\n            <div class=\"row\">\\n                <div class=\"col-lg-8 col-lg-offset-2 col-md-10 col-md-offset-1\">\\n                    <div class=\"site-heading\">\\n                      <a href=\"index.html\" style=\"color: #ffffff;\" class=\"home\">\\n                        <h3>WENIV Books</h3>\\n                      </a>\\n                    </div>\\n                </div>\\n            </div>\\n        </div>\\n    </header>\\n\\n\\t  <!-- Main Content -->\\n    <div class=\"container\">\\n        <div class=\"row\">\\n            <div class=\"col-lg-8 col-lg-offset-2 col-md-10 col-md-offset-1\">\\n                <h3>Home</h3>\\n                <img src=\"img/sdot.jpg\" style=\"width: 80px; height: 40px;\"/>\\n                <p>해당 페이지는 크롤링 연습용으로도 제공되고 있습니다. 책 목록이 업데이트 되어있는 페이지는 아닙니다. 모든 책 목록은 <a href=\"https://ridibooks.com/search?q=%EC%82%AC%EB%8F%84%EC%B6%9C%ED%8C%90\">책 목록</a>에서 확인해주세요.</p>\\n            </div>\\n        </div>\\n    </div>\\n\\n    <!-- Main Content1 -->\\n    <div class=\"container book_contents\">\\n        <div class=\"row\" style=\"margin-bottom: 50px;\">\\n            <div class=\"col-lg-2 col-lg-offset-2 col-md-2 col-md-offset-1\">\\n\\t\\t\\t\\t<a href=\"https://ridibooks.com/books/2773000047\"><img src=\"img/notion.png\" class=\"img-responsive book_cover\"></a>\\n            </div>\\n            <div class=\"col-lg-6 col-md-8 book_detail\">\\n                <h2 class=\"book_name\" style=\"margin-top: 0;\">메모혁신 Notion(노션) 활용 가이드</h2>\\n                <p class=\"book_info\" style=\"margin-bottom: 0;\">가격: 7,000원</p>\\n                <p class=\"book_info\" style=\"margin-bottom: 0;\">저자: 이호준, 이준호, 김혜원, 김유진, 차경림, 김진, 현지연, 정승한</p>\\n                <p class=\"book_info\" style=\"margin-bottom: 0;\">Notion의 기본 사용 방법부터 Notion을 활용한 홈페이지 제작 방법까지 다양하게 다루고 있으며 특히 개발자가 원하는 Notion의 활용 방법을 다루고 있습니다.</p>\\n            </div>\\n        </div>\\n    </div>\\n\\n    <!-- Main Content1 -->\\n    <div class=\"container book_contents\">\\n        <div class=\"row\" style=\"margin-bottom: 50px;\">\\n            <div class=\"col-lg-2 col-lg-offset-2 col-md-2 col-md-offset-1\">\\n\\t\\t\\t\\t<a href=\"https://ridibooks.com/books/2773000064\"><img src=\"img/resume.png\" class=\"img-responsive book_cover\"></a>\\n            </div>\\n\\t\\t\\t    <div class=\"col-lg-6 col-md-8 book_detail\">\\n                    <h2 class=\"book_name\" style=\"margin-top: 0;\">이력서 작성 가이드</h2>\\n                    <p class=\"book_info\" style=\"margin-bottom: 0;\">가격: 10,000원</p>\\n                    <p class=\"book_info\" style=\"margin-bottom: 0;\">저자: 강혜진, 김유진, 김혜원, 김진, 이범재, 이호준, 원유선, 박누리, 차경림, 최원범, 한재현</p>\\n                    <p class=\"book_info\" style=\"margin-bottom: 0;\">개발자 역량을 갖추는 것뿐만 아니라 회사에 뽑힐 확률을 높이는 전략과 방법도 필요합니다. 개발자 이력서는 그 첫걸음입니다.</p>\\n            </div>\\n        </div>\\n    </div>\\n\\n    <!-- Main Content2 -->\\n    <div class=\"container book_contents\">\\n        <div class=\"row\" style=\"margin-bottom: 50px;\">\\n            <div class=\"col-lg-2 col-lg-offset-2 col-md-2 col-md-offset-1\">\\n\\t\\t\\t\\t<a href=\"https://ridibooks.com/v2/Detail?id=2773000025\"><img src=\"img/cofe.jpg\" class=\"img-responsive book_cover\"></a>\\n            </div>\\n                <div class=\"col-lg-6 col-md-8 book_detail\">\\n                    <h2 class=\"book_name\" style=\"margin-top: 0;\">제주코딩베이스캠프 Code Festival: Python 100제 1부</h2>\\n                    <p class=\"book_info\" style=\"margin-bottom: 0;\">가격: 무료</p>\\n                    <p class=\"book_info\" style=\"margin-bottom: 0;\">저자: 이호준, 강민정, 김유진, 정윤하, 최원범</p>\\n                    <p class=\"book_info\" style=\"margin-bottom: 0;\">파이썬으로 풀 수 있는 100문제를 만들었습니다. 50문제씩 1부(초급, 중급)와 2부(중급, 고급)로 나누어져있습니다.</p>\\n            </div>\\n        </div>\\n    </div>\\n\\n    <!-- Main Content3 -->\\n    <div class=\"container book_contents\">\\n        <div class=\"row\" style=\"margin-bottom: 50px;\">\\n            <div class=\"col-lg-2 col-lg-offset-2 col-md-2 col-md-offset-1\">\\n\\t\\t\\t\\t      <a href=\"https://ridibooks.com/v2/Detail?id=2773000005\"><img src=\"img/HTMLCSS.jpg\" class=\"img-responsive book_cover\"></a>\\n            </div>\\n\\t\\t\\t      <div class=\"col-lg-6 col-md-8 book_detail\">\\n\\t\\t\\t\\t      <h2 class=\"book_name\" style=\"margin-top: 0;\">튜토리얼로 배우는 HTML&CSS</h2>\\n                      <p class=\"book_info\" style=\"margin-bottom: 0;\">가격: 4,900원</p>\\n                      <p class=\"book_info\" style=\"margin-bottom: 0;\">저자: 이호준, 박민균, 양지혜, 정민준, 박소영, 전유빈</p>\\n\\t\\t\\t\\t      <p class=\"book_info\" style=\"margin-bottom: 0;\">튜토리얼을 통해 일단 만들어 봅시다! 무엇이든 일단 만들어 보면 길이 보이기 시작합니다. 그 다음 웹 동작방법, 태그의 동작 방식, 브라우저 렌더링 엔진 등에 대하여 부담이 되지 않을 만큼씩 배워가세요.</p>\\n            </div>\\n        </div>\\n    </div>\\n\\n    <!-- Main Content4 -->\\n    <div class=\"container  book_contents\">\\n        <div class=\"row\" style=\"margin-bottom: 50px;\">\\n            <div class=\"col-lg-2 col-lg-offset-2 col-md-2 col-md-offset-1\">\\n                <a href=\"https://ridibooks.com/v2/Detail?id=2773000007\"><img src=\"img/python1.jpg\" class=\"img-responsive book_cover\"></a>\\n            </div>\\n\\t\\t\\t    <div class=\"col-lg-6 col-md-8 book_detail\">\\n                    <h2 class=\"book_name\" style=\"margin-top: 0;\">코딩도장 튜토리얼로 배우는 Python 1편 object</h2>\\n                    <p class=\"book_info\" style=\"margin-bottom: 0;\">가격: 3,000원</p>\\n                    <p class=\"book_info\" style=\"margin-bottom: 0;\">저자: 이호준, 정민준, 배희성, 김덕주, 한승협</p>\\n\\t\\t\\t\\t    <p class=\"book_info\" style=\"margin-bottom: 0;\">파이썬은 이해하기 쉽고 간결한 문법으로 생산성이 높아 교육을 포함한 다양한 분야 에서 활용되고 있는 언어입니다. 빅데이터 분석, 머신러닝, 웹 개발 등 다양하게 쓰이는 Python을 예제를 통해 배워보세요. 이 책은 여러 미션을 스토리텔링 형식으로 제공하며 튜토리얼 별로 코드를 제공하여 쉽고 재미있게 코딩 개념을 익힐 수 있도록 도와줄 것입니다.\\n                    </p>\\n            </div>\\n        </div>\\n    </div>\\n\\n    <!-- Main Content5 -->\\n    <div class=\"container book_contents\">\\n        <div class=\"row\" style=\"margin-bottom: 50px;\">\\n            <div class=\"col-lg-2 col-lg-offset-2 col-md-2 col-md-offset-1\">\\n\\t\\t\\t\\t      <a href=\"https://ridibooks.com/v2/Detail?id=2773000008\"><img src=\"img/python2.jpg\" class=\"img-responsive book_cover\"></a>\\n            </div>\\n\\t\\t\\t      <div class=\"col-lg-6 col-md-8 book_detail\">\\n\\t\\t\\t\\t      <h2 class=\"book_name\" style=\"margin-top: 0;\">코딩도장 튜토리얼로 배우는 python 2편 제어문</h2>\\n                      <p class=\"book_info\" style=\"margin-bottom: 0;\">가격: 4,900원</p>\\n                      <p class=\"book_info\" style=\"margin-bottom: 0;\">저자: 이호준, 우지훈, 박소영, 허재영</p>\\n\\t\\t\\t\\t      <p class=\"book_info\" style=\"margin-bottom: 0;\">파이썬 튜토리얼 시리즈는 1편 Object 2편 제어문 3편 문제풀이로 구성되어 있습니다.</p>\\n            </div>\\n        </div>\\n    </div>\\n\\n    <!-- Main Content6 -->\\n    <div class=\"container book_contents\">\\n        <div class=\"row\" style=\"margin-bottom: 50px;\">\\n            <div class=\"col-lg-2 col-lg-offset-2 col-md-2 col-md-offset-1\">\\n\\t\\t\\t\\t      <a href=\"https://ridibooks.com/v2/Detail?id=2773000011\"><img src=\"img/python3.jpg\" class=\"img-responsive book_cover\"></a>\\n            </div>\\n\\t\\t\\t      <div class=\"col-lg-6 col-md-8 book_detail\">\\n\\t\\t\\t\\t      <h2 class=\"book_name\" style=\"margin-top: 0;\">코딩도장 튜토리얼로 배우는 Python 문제풀이</h2>\\n                      <p class=\"book_info\" style=\"margin-bottom: 0;\">가격: 무료</p>\\n                      <p class=\"book_info\" style=\"margin-bottom: 0;\">저자: 이호준, 전유빈, 김태범, 한승협, 김혜원, 강민정</p>\\n\\t\\t\\t\\t      <p class=\"book_info\" style=\"margin-bottom: 0;\">\\n                          이 책은 Python 문법을 이제 막 끝낸 분에게 추천해 드립니다. \\n                          코딩도장 사이트에 문제를 풀어보며 Python에 보다 깊게 다가가 보세요.\\n                          다양한 문제들이 여러분의 실력을 향상시켜 줄 것입니다.</p>\\n            </div>\\n        </div>\\n    </div>\\n\\n    <!-- Main Content7 -->\\n    <div class=\"container book_contents\">\\n        <div class=\"row\" style=\"margin-bottom: 50px;\">\\n            <div class=\"col-lg-2 col-lg-offset-2 col-md-2 col-md-offset-1\">\\n\\t\\t\\t\\t<a href=\"https://ridibooks.com/books/2773000015\"><img src=\"img/tanos.jpg\" class=\"img-responsive book_cover\"></a>\\n            </div>\\n\\t\\t\\t      <div class=\"col-lg-6 col-md-8 book_detail\">\\n\\t\\t\\t\\t      <h2 class=\"book_name\" style=\"margin-top: 0;\">타노스의 건틀릿 알고리즘 With Python</h2>\\n                      <p class=\"book_info\" style=\"margin-bottom: 0;\">가격: 무료</p>\\n                      <p class=\"book_info\" style=\"margin-bottom: 0;\">저자: 이호준, 한승협, 강민정, 신민욱</p>\\n\\t\\t\\t\\t      <p class=\"book_info\" style=\"margin-bottom: 0;\">이 책은 Python 문법을 이제 막 끝낸 분에게 추천해 드립니다. \\n                          타노스의 핑거스냅 문제를 다양한 시각으로 풀어보며 Python에 보다 깊게 다가가 보세요. \\n                          다양한 시각이 여러분의 실력을 향상시켜줄 것입니다.</p>\\n            </div>\\n        </div>\\n    </div>\\n\\n    <!-- Main Content8 -->\\n    <div class=\"container book_contents\">\\n        <div class=\"row\" style=\"margin-bottom: 50px;\">\\n            <div class=\"col-lg-2 col-lg-offset-2 col-md-2 col-md-offset-1\">\\n\\t\\t\\t\\t      <a href=\"https://ridibooks.com/books/2773000020\"><img src=\"img/xlsx.jpg\" class=\"img-responsive book_cover\"></a>\\n            </div>\\n\\t\\t\\t      <div class=\"col-lg-6 col-md-8 book_detail\">\\n\\t\\t\\t\\t      <h2 class=\"book_name\" style=\"margin-top: 0;\">xlsxwriter 튜토리얼로 배우는 Python 엑셀 프로그래밍</h2>\\n                      <p class=\"book_info\" style=\"margin-bottom: 0;\">가격: 무료</p>\\n                      <p class=\"book_info\" style=\"margin-bottom: 0;\">저자: 이호준, 강상권, 오재원, 전진환, 문형철, 이현창</p>\\n\\t\\t\\t\\t      <p class=\"book_info\" style=\"margin-bottom: 0;\">이 책은 빅데이터를 가공하여 엑셀로 가시화 시키기 원하는 업무 담당자와 단순 업무를 Python을 이용하여 자동화 시키려 하는 업무 담당자에게 추천해드립니다. \\n                          또한 부서의 업무 고도화, 효율화를 위해 적절한 자동화 프로그램을 찾지 못한 기업과 학문적 호기심을 가진 개인에게도 추천해 드립니다. \\n                          세계에서 유행중인 Python은 타 언어에 비해 다루기 쉬우며 풍성한 라이브러리로 원하는 프로그램을 직접 만들기에 적합합니다.</p>\\n            </div>\\n        </div>\\n    </div>\\n\\n    <!-- Main Content9 -->\\n    <div class=\"container book_contents\">\\n            <div class=\"row\" style=\"margin-bottom: 50px;\">\\n                <div class=\"col-lg-2 col-lg-offset-2 col-md-2 col-md-offset-1\">\\n                          <a href=\"https://ridibooks.com/books/2773000001\"><img src=\"img/ruple.jpg\" class=\"img-responsive book_cover\"></a>\\n                </div>\\n                      <div class=\"col-lg-6 col-md-8 book_detail\">\\n                          <h2 class=\"book_name\" style=\"margin-top: 0;\">러플 튜토리얼로 배우는 Python</h2>\\n                          <p class=\"book_info\" style=\"margin-bottom: 0;\">가격: 4,900</p>\\n                          <p class=\"book_info\" style=\"margin-bottom: 0;\">저자: 이호준, 배희성, 양지혜, 박소영, 김수연, 정민준</p>\\n                          <p class=\"book_info\" style=\"margin-bottom: 0;\">이 책은 소프트웨어 교육을 처음 접했거나 스크래치, \\n                              엔트리 등 블록기반 교육용 소프트웨어 다음으로 무엇을 배워야 할 지 모르는 초등학교 학생,\\n                              중학교 학생과 소프트웨어 교육을 담당하는 선생님께 권해드립니다.\\n                               파이썬 코드로 로봇을 제어하면서 코딩을 쉽게 배울 수 있는 러플은 고급 프로그래밍 언어를 처음 접하는\\n                                학생들이 쉽게 언어기반 프로그래밍을 이해할 수 있도록 도와줍니다.</p>\\n                </div>\\n            </div>\\n        </div>\\n    \\n    <!-- Main Content10 -->\\n    <div class=\"container book_contents\">\\n        <div class=\"row\" style=\"margin-bottom: 50px;\">\\n            <div class=\"col-lg-2 col-lg-offset-2 col-md-2 col-md-offset-1\">\\n\\t\\t\\t\\t      <a href=\"https://ridibooks.com/v2/Detail?id=2773000022\"><img src=\"img/auto.jpg\" class=\"img-responsive book_cover\"></a>\\n            </div>\\n\\t\\t\\t      <div class=\"col-lg-6 col-md-8 book_detail\">\\n\\t\\t\\t\\t      <h2 class=\"book_name\" style=\"margin-top: 0;\">인공지능을 활용한 업무자동화 With Google Developers Group JEJU</h2>\\n                      <p class=\"book_info\" style=\"margin-bottom: 0;\">가격: 무료</p>\\n                      <p class=\"book_info\" style=\"margin-bottom: 0;\">저자: 이호준, 이준호, 현암, 윤현담, 김루비, 이동민, 유승엽, 박서윤, 김채린, 한승협, 안상우, 장성원, 전진환, 강민성, 조민구, 전창삼</p>\\n\\t\\t\\t\\t      <p class=\"book_info\" style=\"margin-bottom: 0;\">이 책은 반복적이고 지루한 단순 업무를 Python을 이용하여 \\n                          자동화 시키려 하는 업무 담당자와 데이터를 가공하여 가시화 시키기 원하는 업무 담당자에게 추천해드립니다.\\n                           또한 부서의 업무 고도화, 효율화를 위해 적절한 자동화 프로그램을 찾지 못한 기업과 학문적 호기심을 가진 개인에게도 추천해 드립니다. \\n                          세계에서 유행중인 Python은 타 언어에 비해 다루기 쉬우며 풍성한 라이브러리로 원하는 프로그램을 직접 만들기에 적합합니다.</p>\\n            </div>\\n        </div>\\n    </div>\\n    \\n\\n\\n    <!-- Footer -->\\n    <footer>\\n        <div class=\"container\">\\n            <div class=\"row\">\\n                <div class=\"col-lg-8 col-lg-offset-2 col-md-10 col-md-offset-1\">\\n                    <ul class=\"list-inline text-center\">\\n                        <li>\\n                            <a href=\"https://www.paullab.co.kr/\">\\n                                <img class=\"footer_logo\" src=\"img/logo_weniv.png\" alt=\"\">\\n                            </a>\\n                        </li>\\n                    </ul>\\n                    <p class=\"copyright text-muted\">copyright &copy;2023 weniv all rights reserved.</p>\\n                </div>\\n            </div>\\n        </div>\\n    </footer>\\n\\n    <!-- jQuery -->\\n    <script src=\"js/jquery.js\"></script>\\n\\n    <!-- Bootstrap Core JavaScript -->\\n    <script src=\"js/bootstrap.min.js\"></script>\\n\\n    <!-- Custom Theme JavaScript -->\\n    <script src=\"js/clean-blog.min.js\"></script>\\n\\n</body>\\n\\n</html>\\n'"
            ],
            "application/vnd.google.colaboratory.intrinsic+json": {
              "type": "string"
            }
          },
          "metadata": {},
          "execution_count": 71
        }
      ]
    },
    {
      "cell_type": "code",
      "source": [
        "# 판례: 크롤링을 할 때 저작권자에 의도에 위반하는가? 이게 가장 핵심입니다.\n",
        "# 대부분에 서비스가 개발할 때 https://www.google.com/robots.txt 와 같이 /robots.txt를 명시해둡니다.\n",
        "# 크롤링이 가능하다는거죠?\n",
        "# 그런데 그렇다 하더라도 이 저작물에 상업적 이용을 허하겠다는 얘기는 아닙니다.\n",
        "# 더군다나 경쟁사라고 한다면 서비스를 만든 목적에 반하기 때문에 법 위반이 됩니다.\n",
        "\n",
        "#############################\n",
        "\n",
        "# 사례: 실제로 제가"
      ],
      "metadata": {
        "id": "sBw5_shxUi3q"
      },
      "execution_count": null,
      "outputs": []
    },
    {
      "cell_type": "code",
      "source": [
        "# 예를 들어 아래와 같이 지연시킬 수 있습니다.\n",
        "\n",
        "import time\n",
        "import requests\n",
        "\n",
        "for i in range(5): # 이렇게 하시면 안됩니다. 공격이에요.\n",
        "    time.sleep(5) # 이럴 때에는 이렇게 지연을 해주셔야 합니다. 그래야 서버가 부하가 없어요.\n",
        "    paullab_url = 'https://paullab.co.kr/bookservice/'\n",
        "    response = requests.get(paullab_url)\n",
        "    response.encoding = 'utf-8'\n",
        "    print(response.text[:10])"
      ],
      "metadata": {
        "id": "uaiZ3qtVY0Jc"
      },
      "execution_count": null,
      "outputs": []
    },
    {
      "cell_type": "code",
      "source": [
        "# 여러분 크롤링 연습용으로 Naver와 똑같이 만들었습니다.(UI를 똑같이 만들었다는 얘기는 아닙니다.)\n",
        "# https://paullab.co.kr/bookservice/\n",
        "# https://paullab.co.kr/stock.html"
      ],
      "metadata": {
        "id": "AIJqHIvBZX_q"
      },
      "execution_count": null,
      "outputs": []
    },
    {
      "cell_type": "code",
      "source": [
        "import requests\n",
        "from bs4 import BeautifulSoup\n",
        "\n",
        "url = 'https://paullab.co.kr/bookservice/'\n",
        "response = requests.get(url)\n",
        "response.encoding = 'utf-8'\n",
        "html = response.text\n",
        "\n",
        "soup = BeautifulSoup(html, 'html.parser')\n",
        "soup"
      ],
      "metadata": {
        "colab": {
          "base_uri": "https://localhost:8080/"
        },
        "id": "h6USNghMbBl6",
        "outputId": "77a1365d-64c0-43aa-99a9-b23cbce2c123"
      },
      "execution_count": 72,
      "outputs": [
        {
          "output_type": "execute_result",
          "data": {
            "text/plain": [
              "<!DOCTYPE html>\n",
              "\n",
              "<html lang=\"ko\">\n",
              "<head>\n",
              "<meta charset=\"utf-8\"/>\n",
              "<meta content=\"IE=edge\" http-equiv=\"X-UA-Compatible\"/>\n",
              "<meta content=\"width=device-width, initial-scale=1\" name=\"viewport\"/>\n",
              "<meta content=\"\" name=\"description\"/>\n",
              "<meta content=\"\" name=\"author\"/>\n",
              "<title>BookService</title>\n",
              "<!-- Bootstrap Core CSS -->\n",
              "<link href=\"css/bootstrap.min.css\" rel=\"stylesheet\"/>\n",
              "<!-- Custom CSS -->\n",
              "<link href=\"css/clean-blog.min.css\" rel=\"stylesheet\"/>\n",
              "<!-- Custom Fonts -->\n",
              "<link href=\"http://maxcdn.bootstrapcdn.com/font-awesome/4.1.0/css/font-awesome.min.css\" rel=\"stylesheet\" type=\"text/css\"/>\n",
              "<link href=\"http://fonts.googleapis.com/css?family=Lora:400,700,400italic,700italic\" rel=\"stylesheet\" type=\"text/css\"/>\n",
              "<link href=\"http://fonts.googleapis.com/css?family=Open+Sans:300italic,400italic,600italic,700italic,800italic,400,300,600,700,800\" rel=\"stylesheet\" type=\"text/css\"/>\n",
              "<!-- favicon -->\n",
              "<link href=\"../favicon.ico\" rel=\"shortcut icon\"/>\n",
              "<!-- HTML5 Shim and Respond.js IE8 support of HTML5 elements and media queries -->\n",
              "<!-- WARNING: Respond.js doesn't work if you view the page via file:// -->\n",
              "<!--[if lt IE 9]>\n",
              "        <script src=\"https://oss.maxcdn.com/libs/html5shiv/3.7.0/html5shiv.js\"></script>\n",
              "        <script src=\"https://oss.maxcdn.com/libs/respond.js/1.4.2/respond.min.js\"></script>\n",
              "    <![endif]-->\n",
              "<style>\n",
              "\t\t.some-class-name.navbar-custom .dropdown-menu  li a {\n",
              "\t\t  color:#888686;\n",
              "\t\t}\n",
              "\n",
              "\t\t.some-class-name.navbar-custom .dropdown-menu  li a:hover,\n",
              "\t\t.some-class-name.navbar-custom .dropdown-menu  li a:focus,\n",
              "\t\t.some-class-name.navbar-custom .dropdown-menu  li a:active,\n",
              "\t\t.some-class-name.navbar-custom .dropdown-menu  li a.active {\n",
              "\t\t  color:#fff;\n",
              "\t\t}\n",
              "\n",
              "\t\t.profile {\n",
              "\t\t\ttext-align: center;\n",
              "\t\t\tfont-family: 'Lora';\n",
              "\t\t\tmargin-bottom: 20px;\n",
              "\t\t}\n",
              "\n",
              "\t\t.profile img {\n",
              "\t\t\tpadding: 10px;\n",
              "\t\t}\n",
              "\n",
              "\t\t.profile #borderneeded {\n",
              "\t\t\tborder-top: 2px solid black;\n",
              "\t\t}\n",
              "\n",
              "\t\t.profile-container {\n",
              "\t\t\tmargin-top: 130px;\n",
              "\t\t}\n",
              "\n",
              "    .home:hover {\n",
              "      color: #ffffff;\n",
              "      text-decoration: none;\n",
              "    }\n",
              "    .navbar-brand img {\n",
              "        margin-top: -10px;\n",
              "        width: 40px;\n",
              "    }\n",
              "\n",
              "    .footer_logo {\n",
              "        width: 100px;\n",
              "    }\n",
              "\n",
              "\t  </style>\n",
              "</head>\n",
              "<body>\n",
              "<!-- Navigation -->\n",
              "<nav class=\"navbar navbar-default some-class-name navbar-custom navbar-fixed-top\">\n",
              "<div class=\"container-fluid\">\n",
              "<!-- Brand and toggle get grouped for better mobile display -->\n",
              "<div class=\"navbar-header page-scroll\">\n",
              "<button class=\"navbar-toggle\" data-target=\"#bs-example-navbar-collapse-1\" data-toggle=\"collapse\" type=\"button\">\n",
              "<span class=\"sr-only\">Toggle navigation</span>\n",
              "<span class=\"icon-bar\"></span>\n",
              "<span class=\"icon-bar\"></span>\n",
              "<span class=\"icon-bar\"></span>\n",
              "</button>\n",
              "<a class=\"navbar-brand\" href=\"https://www.paullab.co.kr\">\n",
              "<img align=\"left\" src=\"img/logo_weniv.png\" style=\"cursor: pointer;\" width=\"50px\"/>\n",
              "</a>\n",
              "</div>\n",
              "<!-- Collect the nav links, forms, and other content for toggling -->\n",
              "<div class=\"collapse navbar-collapse\" id=\"bs-example-navbar-collapse-1\">\n",
              "<ul class=\"nav navbar-nav navbar-right\">\n",
              "<li>\n",
              "<a href=\"index.html\"> Home </a>\n",
              "</li>\n",
              "<li>\n",
              "<!-- <a href=\"about.html\"> About </a> -->\n",
              "<a href=\"https://www.paullab.co.kr/about.html\"> About </a>\n",
              "</li>\n",
              "<li>\n",
              "<!-- <a href=\"roadmap.html\"> Roadmap </a> -->\n",
              "<a href=\"https://www.paullab.co.kr/curriculum.html\"> Roadmap </a>\n",
              "</li>\n",
              "<li class=\"dropdown\">\n",
              "<a class=\"dropdown-toggle\" data-toggle=\"dropdown\" href=\"#\">Book<b class=\"caret\"></b></a>\n",
              "<ul class=\"dropdown-menu\">\n",
              "<li>\n",
              "<a href=\"https://ridibooks.com/books/2773000047\"> 메모혁신 Notion(노션) 활용 가이드</a>\n",
              "</li>\n",
              "<li>\n",
              "<a href=\"https://ridibooks.com/v2/Detail?id=2773000025\"> 제주코딩베이스캠프 코드페스티벌 Python 100제 1부</a>\n",
              "</li>\n",
              "<li>\n",
              "<a href=\"https://ridibooks.com/v2/Detail?id=2773000005\"> 튜토리얼로 배우는 HTML&amp;CSS</a>\n",
              "</li>\n",
              "<li>\n",
              "<a href=\"https://ridibooks.com/v2/Detail?id=2773000007\"> 코딩도장 튜토리얼로 배우는 Python 1편</a>\n",
              "</li>\n",
              "<li>\n",
              "<a href=\"https://ridibooks.com/v2/Detail?id=2773000008\"> 코딩도장 튜토리얼로 배우는 Python 2편</a>\n",
              "</li>\n",
              "<li>\n",
              "<a href=\"https://ridibooks.com/v2/Detail?id=2773000011\"> 코딩도장 튜토리얼로 배우는 Python 문제풀이</a>\n",
              "</li>\n",
              "<li>\n",
              "<a href=\"https://ridibooks.com/v2/Detail?id=2773000015\"> 타노스의 건틀릿 알고리즘 With Python</a>\n",
              "</li>\n",
              "<li>\n",
              "<a href=\"https://ridibooks.com/v2/Detail?id=2773000020\"> xlsxwriter 튜토리얼로 배우는 Python 엑셀 프로그래밍</a>\n",
              "</li>\n",
              "<li>\n",
              "<a href=\"https://ridibooks.com/v2/Detail?id=2773000022\"> 인공지능을 활용한 업무자동화 With Google Developers Group JEJU</a>\n",
              "</li>\n",
              "<li>\n",
              "<a href=\"https://ridibooks.com/v2/Detail?id=2773000002\"> 2017 제주 코딩 해커톤 Django 트랙 상편 1권</a>\n",
              "</li>\n",
              "</ul>\n",
              "</li>\n",
              "</ul>\n",
              "</div>\n",
              "<!-- /.navbar-collapse -->\n",
              "</div>\n",
              "<!-- /.container -->\n",
              "</nav>\n",
              "<!-- Page Header -->\n",
              "<!-- Set your background image for this header on the line below. -->\n",
              "<header class=\"intro-header\" style=\"background-image: url('img/home.jpg')\">\n",
              "<div class=\"container\">\n",
              "<div class=\"row\">\n",
              "<div class=\"col-lg-8 col-lg-offset-2 col-md-10 col-md-offset-1\">\n",
              "<div class=\"site-heading\">\n",
              "<a class=\"home\" href=\"index.html\" style=\"color: #ffffff;\">\n",
              "<h3>WENIV Books</h3>\n",
              "</a>\n",
              "</div>\n",
              "</div>\n",
              "</div>\n",
              "</div>\n",
              "</header>\n",
              "<!-- Main Content -->\n",
              "<div class=\"container\">\n",
              "<div class=\"row\">\n",
              "<div class=\"col-lg-8 col-lg-offset-2 col-md-10 col-md-offset-1\">\n",
              "<h3>Home</h3>\n",
              "<img src=\"img/sdot.jpg\" style=\"width: 80px; height: 40px;\"/>\n",
              "<p>해당 페이지는 크롤링 연습용으로도 제공되고 있습니다. 책 목록이 업데이트 되어있는 페이지는 아닙니다. 모든 책 목록은 <a href=\"https://ridibooks.com/search?q=%EC%82%AC%EB%8F%84%EC%B6%9C%ED%8C%90\">책 목록</a>에서 확인해주세요.</p>\n",
              "</div>\n",
              "</div>\n",
              "</div>\n",
              "<!-- Main Content1 -->\n",
              "<div class=\"container book_contents\">\n",
              "<div class=\"row\" style=\"margin-bottom: 50px;\">\n",
              "<div class=\"col-lg-2 col-lg-offset-2 col-md-2 col-md-offset-1\">\n",
              "<a href=\"https://ridibooks.com/books/2773000047\"><img class=\"img-responsive book_cover\" src=\"img/notion.png\"/></a>\n",
              "</div>\n",
              "<div class=\"col-lg-6 col-md-8 book_detail\">\n",
              "<h2 class=\"book_name\" style=\"margin-top: 0;\">메모혁신 Notion(노션) 활용 가이드</h2>\n",
              "<p class=\"book_info\" style=\"margin-bottom: 0;\">가격: 7,000원</p>\n",
              "<p class=\"book_info\" style=\"margin-bottom: 0;\">저자: 이호준, 이준호, 김혜원, 김유진, 차경림, 김진, 현지연, 정승한</p>\n",
              "<p class=\"book_info\" style=\"margin-bottom: 0;\">Notion의 기본 사용 방법부터 Notion을 활용한 홈페이지 제작 방법까지 다양하게 다루고 있으며 특히 개발자가 원하는 Notion의 활용 방법을 다루고 있습니다.</p>\n",
              "</div>\n",
              "</div>\n",
              "</div>\n",
              "<!-- Main Content1 -->\n",
              "<div class=\"container book_contents\">\n",
              "<div class=\"row\" style=\"margin-bottom: 50px;\">\n",
              "<div class=\"col-lg-2 col-lg-offset-2 col-md-2 col-md-offset-1\">\n",
              "<a href=\"https://ridibooks.com/books/2773000064\"><img class=\"img-responsive book_cover\" src=\"img/resume.png\"/></a>\n",
              "</div>\n",
              "<div class=\"col-lg-6 col-md-8 book_detail\">\n",
              "<h2 class=\"book_name\" style=\"margin-top: 0;\">이력서 작성 가이드</h2>\n",
              "<p class=\"book_info\" style=\"margin-bottom: 0;\">가격: 10,000원</p>\n",
              "<p class=\"book_info\" style=\"margin-bottom: 0;\">저자: 강혜진, 김유진, 김혜원, 김진, 이범재, 이호준, 원유선, 박누리, 차경림, 최원범, 한재현</p>\n",
              "<p class=\"book_info\" style=\"margin-bottom: 0;\">개발자 역량을 갖추는 것뿐만 아니라 회사에 뽑힐 확률을 높이는 전략과 방법도 필요합니다. 개발자 이력서는 그 첫걸음입니다.</p>\n",
              "</div>\n",
              "</div>\n",
              "</div>\n",
              "<!-- Main Content2 -->\n",
              "<div class=\"container book_contents\">\n",
              "<div class=\"row\" style=\"margin-bottom: 50px;\">\n",
              "<div class=\"col-lg-2 col-lg-offset-2 col-md-2 col-md-offset-1\">\n",
              "<a href=\"https://ridibooks.com/v2/Detail?id=2773000025\"><img class=\"img-responsive book_cover\" src=\"img/cofe.jpg\"/></a>\n",
              "</div>\n",
              "<div class=\"col-lg-6 col-md-8 book_detail\">\n",
              "<h2 class=\"book_name\" style=\"margin-top: 0;\">제주코딩베이스캠프 Code Festival: Python 100제 1부</h2>\n",
              "<p class=\"book_info\" style=\"margin-bottom: 0;\">가격: 무료</p>\n",
              "<p class=\"book_info\" style=\"margin-bottom: 0;\">저자: 이호준, 강민정, 김유진, 정윤하, 최원범</p>\n",
              "<p class=\"book_info\" style=\"margin-bottom: 0;\">파이썬으로 풀 수 있는 100문제를 만들었습니다. 50문제씩 1부(초급, 중급)와 2부(중급, 고급)로 나누어져있습니다.</p>\n",
              "</div>\n",
              "</div>\n",
              "</div>\n",
              "<!-- Main Content3 -->\n",
              "<div class=\"container book_contents\">\n",
              "<div class=\"row\" style=\"margin-bottom: 50px;\">\n",
              "<div class=\"col-lg-2 col-lg-offset-2 col-md-2 col-md-offset-1\">\n",
              "<a href=\"https://ridibooks.com/v2/Detail?id=2773000005\"><img class=\"img-responsive book_cover\" src=\"img/HTMLCSS.jpg\"/></a>\n",
              "</div>\n",
              "<div class=\"col-lg-6 col-md-8 book_detail\">\n",
              "<h2 class=\"book_name\" style=\"margin-top: 0;\">튜토리얼로 배우는 HTML&amp;CSS</h2>\n",
              "<p class=\"book_info\" style=\"margin-bottom: 0;\">가격: 4,900원</p>\n",
              "<p class=\"book_info\" style=\"margin-bottom: 0;\">저자: 이호준, 박민균, 양지혜, 정민준, 박소영, 전유빈</p>\n",
              "<p class=\"book_info\" style=\"margin-bottom: 0;\">튜토리얼을 통해 일단 만들어 봅시다! 무엇이든 일단 만들어 보면 길이 보이기 시작합니다. 그 다음 웹 동작방법, 태그의 동작 방식, 브라우저 렌더링 엔진 등에 대하여 부담이 되지 않을 만큼씩 배워가세요.</p>\n",
              "</div>\n",
              "</div>\n",
              "</div>\n",
              "<!-- Main Content4 -->\n",
              "<div class=\"container book_contents\">\n",
              "<div class=\"row\" style=\"margin-bottom: 50px;\">\n",
              "<div class=\"col-lg-2 col-lg-offset-2 col-md-2 col-md-offset-1\">\n",
              "<a href=\"https://ridibooks.com/v2/Detail?id=2773000007\"><img class=\"img-responsive book_cover\" src=\"img/python1.jpg\"/></a>\n",
              "</div>\n",
              "<div class=\"col-lg-6 col-md-8 book_detail\">\n",
              "<h2 class=\"book_name\" style=\"margin-top: 0;\">코딩도장 튜토리얼로 배우는 Python 1편 object</h2>\n",
              "<p class=\"book_info\" style=\"margin-bottom: 0;\">가격: 3,000원</p>\n",
              "<p class=\"book_info\" style=\"margin-bottom: 0;\">저자: 이호준, 정민준, 배희성, 김덕주, 한승협</p>\n",
              "<p class=\"book_info\" style=\"margin-bottom: 0;\">파이썬은 이해하기 쉽고 간결한 문법으로 생산성이 높아 교육을 포함한 다양한 분야 에서 활용되고 있는 언어입니다. 빅데이터 분석, 머신러닝, 웹 개발 등 다양하게 쓰이는 Python을 예제를 통해 배워보세요. 이 책은 여러 미션을 스토리텔링 형식으로 제공하며 튜토리얼 별로 코드를 제공하여 쉽고 재미있게 코딩 개념을 익힐 수 있도록 도와줄 것입니다.\n",
              "                    </p>\n",
              "</div>\n",
              "</div>\n",
              "</div>\n",
              "<!-- Main Content5 -->\n",
              "<div class=\"container book_contents\">\n",
              "<div class=\"row\" style=\"margin-bottom: 50px;\">\n",
              "<div class=\"col-lg-2 col-lg-offset-2 col-md-2 col-md-offset-1\">\n",
              "<a href=\"https://ridibooks.com/v2/Detail?id=2773000008\"><img class=\"img-responsive book_cover\" src=\"img/python2.jpg\"/></a>\n",
              "</div>\n",
              "<div class=\"col-lg-6 col-md-8 book_detail\">\n",
              "<h2 class=\"book_name\" style=\"margin-top: 0;\">코딩도장 튜토리얼로 배우는 python 2편 제어문</h2>\n",
              "<p class=\"book_info\" style=\"margin-bottom: 0;\">가격: 4,900원</p>\n",
              "<p class=\"book_info\" style=\"margin-bottom: 0;\">저자: 이호준, 우지훈, 박소영, 허재영</p>\n",
              "<p class=\"book_info\" style=\"margin-bottom: 0;\">파이썬 튜토리얼 시리즈는 1편 Object 2편 제어문 3편 문제풀이로 구성되어 있습니다.</p>\n",
              "</div>\n",
              "</div>\n",
              "</div>\n",
              "<!-- Main Content6 -->\n",
              "<div class=\"container book_contents\">\n",
              "<div class=\"row\" style=\"margin-bottom: 50px;\">\n",
              "<div class=\"col-lg-2 col-lg-offset-2 col-md-2 col-md-offset-1\">\n",
              "<a href=\"https://ridibooks.com/v2/Detail?id=2773000011\"><img class=\"img-responsive book_cover\" src=\"img/python3.jpg\"/></a>\n",
              "</div>\n",
              "<div class=\"col-lg-6 col-md-8 book_detail\">\n",
              "<h2 class=\"book_name\" style=\"margin-top: 0;\">코딩도장 튜토리얼로 배우는 Python 문제풀이</h2>\n",
              "<p class=\"book_info\" style=\"margin-bottom: 0;\">가격: 무료</p>\n",
              "<p class=\"book_info\" style=\"margin-bottom: 0;\">저자: 이호준, 전유빈, 김태범, 한승협, 김혜원, 강민정</p>\n",
              "<p class=\"book_info\" style=\"margin-bottom: 0;\">\n",
              "                          이 책은 Python 문법을 이제 막 끝낸 분에게 추천해 드립니다. \n",
              "                          코딩도장 사이트에 문제를 풀어보며 Python에 보다 깊게 다가가 보세요.\n",
              "                          다양한 문제들이 여러분의 실력을 향상시켜 줄 것입니다.</p>\n",
              "</div>\n",
              "</div>\n",
              "</div>\n",
              "<!-- Main Content7 -->\n",
              "<div class=\"container book_contents\">\n",
              "<div class=\"row\" style=\"margin-bottom: 50px;\">\n",
              "<div class=\"col-lg-2 col-lg-offset-2 col-md-2 col-md-offset-1\">\n",
              "<a href=\"https://ridibooks.com/books/2773000015\"><img class=\"img-responsive book_cover\" src=\"img/tanos.jpg\"/></a>\n",
              "</div>\n",
              "<div class=\"col-lg-6 col-md-8 book_detail\">\n",
              "<h2 class=\"book_name\" style=\"margin-top: 0;\">타노스의 건틀릿 알고리즘 With Python</h2>\n",
              "<p class=\"book_info\" style=\"margin-bottom: 0;\">가격: 무료</p>\n",
              "<p class=\"book_info\" style=\"margin-bottom: 0;\">저자: 이호준, 한승협, 강민정, 신민욱</p>\n",
              "<p class=\"book_info\" style=\"margin-bottom: 0;\">이 책은 Python 문법을 이제 막 끝낸 분에게 추천해 드립니다. \n",
              "                          타노스의 핑거스냅 문제를 다양한 시각으로 풀어보며 Python에 보다 깊게 다가가 보세요. \n",
              "                          다양한 시각이 여러분의 실력을 향상시켜줄 것입니다.</p>\n",
              "</div>\n",
              "</div>\n",
              "</div>\n",
              "<!-- Main Content8 -->\n",
              "<div class=\"container book_contents\">\n",
              "<div class=\"row\" style=\"margin-bottom: 50px;\">\n",
              "<div class=\"col-lg-2 col-lg-offset-2 col-md-2 col-md-offset-1\">\n",
              "<a href=\"https://ridibooks.com/books/2773000020\"><img class=\"img-responsive book_cover\" src=\"img/xlsx.jpg\"/></a>\n",
              "</div>\n",
              "<div class=\"col-lg-6 col-md-8 book_detail\">\n",
              "<h2 class=\"book_name\" style=\"margin-top: 0;\">xlsxwriter 튜토리얼로 배우는 Python 엑셀 프로그래밍</h2>\n",
              "<p class=\"book_info\" style=\"margin-bottom: 0;\">가격: 무료</p>\n",
              "<p class=\"book_info\" style=\"margin-bottom: 0;\">저자: 이호준, 강상권, 오재원, 전진환, 문형철, 이현창</p>\n",
              "<p class=\"book_info\" style=\"margin-bottom: 0;\">이 책은 빅데이터를 가공하여 엑셀로 가시화 시키기 원하는 업무 담당자와 단순 업무를 Python을 이용하여 자동화 시키려 하는 업무 담당자에게 추천해드립니다. \n",
              "                          또한 부서의 업무 고도화, 효율화를 위해 적절한 자동화 프로그램을 찾지 못한 기업과 학문적 호기심을 가진 개인에게도 추천해 드립니다. \n",
              "                          세계에서 유행중인 Python은 타 언어에 비해 다루기 쉬우며 풍성한 라이브러리로 원하는 프로그램을 직접 만들기에 적합합니다.</p>\n",
              "</div>\n",
              "</div>\n",
              "</div>\n",
              "<!-- Main Content9 -->\n",
              "<div class=\"container book_contents\">\n",
              "<div class=\"row\" style=\"margin-bottom: 50px;\">\n",
              "<div class=\"col-lg-2 col-lg-offset-2 col-md-2 col-md-offset-1\">\n",
              "<a href=\"https://ridibooks.com/books/2773000001\"><img class=\"img-responsive book_cover\" src=\"img/ruple.jpg\"/></a>\n",
              "</div>\n",
              "<div class=\"col-lg-6 col-md-8 book_detail\">\n",
              "<h2 class=\"book_name\" style=\"margin-top: 0;\">러플 튜토리얼로 배우는 Python</h2>\n",
              "<p class=\"book_info\" style=\"margin-bottom: 0;\">가격: 4,900</p>\n",
              "<p class=\"book_info\" style=\"margin-bottom: 0;\">저자: 이호준, 배희성, 양지혜, 박소영, 김수연, 정민준</p>\n",
              "<p class=\"book_info\" style=\"margin-bottom: 0;\">이 책은 소프트웨어 교육을 처음 접했거나 스크래치, \n",
              "                              엔트리 등 블록기반 교육용 소프트웨어 다음으로 무엇을 배워야 할 지 모르는 초등학교 학생,\n",
              "                              중학교 학생과 소프트웨어 교육을 담당하는 선생님께 권해드립니다.\n",
              "                               파이썬 코드로 로봇을 제어하면서 코딩을 쉽게 배울 수 있는 러플은 고급 프로그래밍 언어를 처음 접하는\n",
              "                                학생들이 쉽게 언어기반 프로그래밍을 이해할 수 있도록 도와줍니다.</p>\n",
              "</div>\n",
              "</div>\n",
              "</div>\n",
              "<!-- Main Content10 -->\n",
              "<div class=\"container book_contents\">\n",
              "<div class=\"row\" style=\"margin-bottom: 50px;\">\n",
              "<div class=\"col-lg-2 col-lg-offset-2 col-md-2 col-md-offset-1\">\n",
              "<a href=\"https://ridibooks.com/v2/Detail?id=2773000022\"><img class=\"img-responsive book_cover\" src=\"img/auto.jpg\"/></a>\n",
              "</div>\n",
              "<div class=\"col-lg-6 col-md-8 book_detail\">\n",
              "<h2 class=\"book_name\" style=\"margin-top: 0;\">인공지능을 활용한 업무자동화 With Google Developers Group JEJU</h2>\n",
              "<p class=\"book_info\" style=\"margin-bottom: 0;\">가격: 무료</p>\n",
              "<p class=\"book_info\" style=\"margin-bottom: 0;\">저자: 이호준, 이준호, 현암, 윤현담, 김루비, 이동민, 유승엽, 박서윤, 김채린, 한승협, 안상우, 장성원, 전진환, 강민성, 조민구, 전창삼</p>\n",
              "<p class=\"book_info\" style=\"margin-bottom: 0;\">이 책은 반복적이고 지루한 단순 업무를 Python을 이용하여 \n",
              "                          자동화 시키려 하는 업무 담당자와 데이터를 가공하여 가시화 시키기 원하는 업무 담당자에게 추천해드립니다.\n",
              "                           또한 부서의 업무 고도화, 효율화를 위해 적절한 자동화 프로그램을 찾지 못한 기업과 학문적 호기심을 가진 개인에게도 추천해 드립니다. \n",
              "                          세계에서 유행중인 Python은 타 언어에 비해 다루기 쉬우며 풍성한 라이브러리로 원하는 프로그램을 직접 만들기에 적합합니다.</p>\n",
              "</div>\n",
              "</div>\n",
              "</div>\n",
              "<!-- Footer -->\n",
              "<footer>\n",
              "<div class=\"container\">\n",
              "<div class=\"row\">\n",
              "<div class=\"col-lg-8 col-lg-offset-2 col-md-10 col-md-offset-1\">\n",
              "<ul class=\"list-inline text-center\">\n",
              "<li>\n",
              "<a href=\"https://www.paullab.co.kr/\">\n",
              "<img alt=\"\" class=\"footer_logo\" src=\"img/logo_weniv.png\"/>\n",
              "</a>\n",
              "</li>\n",
              "</ul>\n",
              "<p class=\"copyright text-muted\">copyright ©2023 weniv all rights reserved.</p>\n",
              "</div>\n",
              "</div>\n",
              "</div>\n",
              "</footer>\n",
              "<!-- jQuery -->\n",
              "<script src=\"js/jquery.js\"></script>\n",
              "<!-- Bootstrap Core JavaScript -->\n",
              "<script src=\"js/bootstrap.min.js\"></script>\n",
              "<!-- Custom Theme JavaScript -->\n",
              "<script src=\"js/clean-blog.min.js\"></script>\n",
              "</body>\n",
              "</html>"
            ]
          },
          "metadata": {},
          "execution_count": 72
        }
      ]
    },
    {
      "cell_type": "code",
      "source": [
        "s = soup.select('.book_name')\n",
        "s"
      ],
      "metadata": {
        "colab": {
          "base_uri": "https://localhost:8080/"
        },
        "id": "4Bj-S70CbCdC",
        "outputId": "5490f117-3302-4b97-bd9b-5fa32dd33854"
      },
      "execution_count": 74,
      "outputs": [
        {
          "output_type": "execute_result",
          "data": {
            "text/plain": [
              "[<h2 class=\"book_name\" style=\"margin-top: 0;\">메모혁신 Notion(노션) 활용 가이드</h2>,\n",
              " <h2 class=\"book_name\" style=\"margin-top: 0;\">이력서 작성 가이드</h2>,\n",
              " <h2 class=\"book_name\" style=\"margin-top: 0;\">제주코딩베이스캠프 Code Festival: Python 100제 1부</h2>,\n",
              " <h2 class=\"book_name\" style=\"margin-top: 0;\">튜토리얼로 배우는 HTML&amp;CSS</h2>,\n",
              " <h2 class=\"book_name\" style=\"margin-top: 0;\">코딩도장 튜토리얼로 배우는 Python 1편 object</h2>,\n",
              " <h2 class=\"book_name\" style=\"margin-top: 0;\">코딩도장 튜토리얼로 배우는 python 2편 제어문</h2>,\n",
              " <h2 class=\"book_name\" style=\"margin-top: 0;\">코딩도장 튜토리얼로 배우는 Python 문제풀이</h2>,\n",
              " <h2 class=\"book_name\" style=\"margin-top: 0;\">타노스의 건틀릿 알고리즘 With Python</h2>,\n",
              " <h2 class=\"book_name\" style=\"margin-top: 0;\">xlsxwriter 튜토리얼로 배우는 Python 엑셀 프로그래밍</h2>,\n",
              " <h2 class=\"book_name\" style=\"margin-top: 0;\">러플 튜토리얼로 배우는 Python</h2>,\n",
              " <h2 class=\"book_name\" style=\"margin-top: 0;\">인공지능을 활용한 업무자동화 With Google Developers Group JEJU</h2>]"
            ]
          },
          "metadata": {},
          "execution_count": 74
        }
      ]
    },
    {
      "cell_type": "code",
      "source": [
        "for i in s:\n",
        "    print(i.text)"
      ],
      "metadata": {
        "colab": {
          "base_uri": "https://localhost:8080/"
        },
        "id": "FRozpXdgbZ8T",
        "outputId": "2bd52479-323a-4833-90cd-f5cfbfc31a45"
      },
      "execution_count": 75,
      "outputs": [
        {
          "output_type": "stream",
          "name": "stdout",
          "text": [
            "메모혁신 Notion(노션) 활용 가이드\n",
            "이력서 작성 가이드\n",
            "제주코딩베이스캠프 Code Festival: Python 100제 1부\n",
            "튜토리얼로 배우는 HTML&CSS\n",
            "코딩도장 튜토리얼로 배우는 Python 1편 object\n",
            "코딩도장 튜토리얼로 배우는 python 2편 제어문\n",
            "코딩도장 튜토리얼로 배우는 Python 문제풀이\n",
            "타노스의 건틀릿 알고리즘 With Python\n",
            "xlsxwriter 튜토리얼로 배우는 Python 엑셀 프로그래밍\n",
            "러플 튜토리얼로 배우는 Python\n",
            "인공지능을 활용한 업무자동화 With Google Developers Group JEJU\n"
          ]
        }
      ]
    },
    {
      "cell_type": "code",
      "source": [
        "import requests\n",
        "from bs4 import BeautifulSoup\n",
        "\n",
        "url = 'https://paullab.co.kr/bookservice/'\n",
        "response = requests.get(url)\n",
        "response.encoding = 'utf-8'\n",
        "html = response.text\n",
        "\n",
        "soup = BeautifulSoup(html, 'html.parser')\n",
        "\n",
        "for i in soup.select('.book_name'):\n",
        "    print(i.text)"
      ],
      "metadata": {
        "colab": {
          "base_uri": "https://localhost:8080/"
        },
        "id": "chbHRqEwbdQy",
        "outputId": "7a42bace-ee85-4dc2-8d76-76acc6d06d03"
      },
      "execution_count": 76,
      "outputs": [
        {
          "output_type": "stream",
          "name": "stdout",
          "text": [
            "메모혁신 Notion(노션) 활용 가이드\n",
            "이력서 작성 가이드\n",
            "제주코딩베이스캠프 Code Festival: Python 100제 1부\n",
            "튜토리얼로 배우는 HTML&CSS\n",
            "코딩도장 튜토리얼로 배우는 Python 1편 object\n",
            "코딩도장 튜토리얼로 배우는 python 2편 제어문\n",
            "코딩도장 튜토리얼로 배우는 Python 문제풀이\n",
            "타노스의 건틀릿 알고리즘 With Python\n",
            "xlsxwriter 튜토리얼로 배우는 Python 엑셀 프로그래밍\n",
            "러플 튜토리얼로 배우는 Python\n",
            "인공지능을 활용한 업무자동화 With Google Developers Group JEJU\n"
          ]
        }
      ]
    },
    {
      "cell_type": "code",
      "source": [
        "import pandas as pd\n",
        "\n",
        "\n",
        "data = pd.read_html('https://paullab.co.kr/stock.html')\n",
        "# 위와 같은 책 제목 등은 안되고, table형태로 만들어져 있어야만 가능!\n",
        "data[3]\n",
        "data[3]['종가']"
      ],
      "metadata": {
        "colab": {
          "base_uri": "https://localhost:8080/",
          "height": 711
        },
        "id": "A4tL6Dxkdzee",
        "outputId": "6efe16bc-82e5-48a3-b9b1-bd2fce1141b0"
      },
      "execution_count": 77,
      "outputs": [
        {
          "output_type": "execute_result",
          "data": {
            "text/plain": [
              "0     6650\n",
              "1     6630\n",
              "2     6820\n",
              "3     6430\n",
              "4     5950\n",
              "5     5930\n",
              "6     5640\n",
              "7     5380\n",
              "8     5040\n",
              "9     5100\n",
              "10    5050\n",
              "11    4940\n",
              "12    5010\n",
              "13    4920\n",
              "14    5010\n",
              "15    5000\n",
              "16    5010\n",
              "17    5060\n",
              "18    5060\n",
              "19    5330\n",
              "Name: 종가, dtype: int64"
            ],
            "text/html": [
              "<div>\n",
              "<style scoped>\n",
              "    .dataframe tbody tr th:only-of-type {\n",
              "        vertical-align: middle;\n",
              "    }\n",
              "\n",
              "    .dataframe tbody tr th {\n",
              "        vertical-align: top;\n",
              "    }\n",
              "\n",
              "    .dataframe thead th {\n",
              "        text-align: right;\n",
              "    }\n",
              "</style>\n",
              "<table border=\"1\" class=\"dataframe\">\n",
              "  <thead>\n",
              "    <tr style=\"text-align: right;\">\n",
              "      <th></th>\n",
              "      <th>종가</th>\n",
              "    </tr>\n",
              "  </thead>\n",
              "  <tbody>\n",
              "    <tr>\n",
              "      <th>0</th>\n",
              "      <td>6650</td>\n",
              "    </tr>\n",
              "    <tr>\n",
              "      <th>1</th>\n",
              "      <td>6630</td>\n",
              "    </tr>\n",
              "    <tr>\n",
              "      <th>2</th>\n",
              "      <td>6820</td>\n",
              "    </tr>\n",
              "    <tr>\n",
              "      <th>3</th>\n",
              "      <td>6430</td>\n",
              "    </tr>\n",
              "    <tr>\n",
              "      <th>4</th>\n",
              "      <td>5950</td>\n",
              "    </tr>\n",
              "    <tr>\n",
              "      <th>5</th>\n",
              "      <td>5930</td>\n",
              "    </tr>\n",
              "    <tr>\n",
              "      <th>6</th>\n",
              "      <td>5640</td>\n",
              "    </tr>\n",
              "    <tr>\n",
              "      <th>7</th>\n",
              "      <td>5380</td>\n",
              "    </tr>\n",
              "    <tr>\n",
              "      <th>8</th>\n",
              "      <td>5040</td>\n",
              "    </tr>\n",
              "    <tr>\n",
              "      <th>9</th>\n",
              "      <td>5100</td>\n",
              "    </tr>\n",
              "    <tr>\n",
              "      <th>10</th>\n",
              "      <td>5050</td>\n",
              "    </tr>\n",
              "    <tr>\n",
              "      <th>11</th>\n",
              "      <td>4940</td>\n",
              "    </tr>\n",
              "    <tr>\n",
              "      <th>12</th>\n",
              "      <td>5010</td>\n",
              "    </tr>\n",
              "    <tr>\n",
              "      <th>13</th>\n",
              "      <td>4920</td>\n",
              "    </tr>\n",
              "    <tr>\n",
              "      <th>14</th>\n",
              "      <td>5010</td>\n",
              "    </tr>\n",
              "    <tr>\n",
              "      <th>15</th>\n",
              "      <td>5000</td>\n",
              "    </tr>\n",
              "    <tr>\n",
              "      <th>16</th>\n",
              "      <td>5010</td>\n",
              "    </tr>\n",
              "    <tr>\n",
              "      <th>17</th>\n",
              "      <td>5060</td>\n",
              "    </tr>\n",
              "    <tr>\n",
              "      <th>18</th>\n",
              "      <td>5060</td>\n",
              "    </tr>\n",
              "    <tr>\n",
              "      <th>19</th>\n",
              "      <td>5330</td>\n",
              "    </tr>\n",
              "  </tbody>\n",
              "</table>\n",
              "</div><br><label><b>dtype:</b> int64</label>"
            ]
          },
          "metadata": {},
          "execution_count": 77
        }
      ]
    },
    {
      "cell_type": "code",
      "source": [
        "# 예외처리\n",
        "# 별표 4개\n",
        "\n",
        "try:\n",
        "    pass\n",
        "\n",
        "except:\n",
        "    pass"
      ],
      "metadata": {
        "id": "HYsL4la6efpE"
      },
      "execution_count": 78,
      "outputs": []
    },
    {
      "cell_type": "code",
      "source": [
        "    for i in range(10):\n",
        "        print(i)\n",
        "        1/0"
      ],
      "metadata": {
        "colab": {
          "base_uri": "https://localhost:8080/",
          "height": 201
        },
        "id": "4YiLgsgKe0b6",
        "outputId": "297ea320-861d-4618-c84d-488f9ac74ad2"
      },
      "execution_count": 80,
      "outputs": [
        {
          "output_type": "stream",
          "name": "stdout",
          "text": [
            "0\n"
          ]
        },
        {
          "output_type": "error",
          "ename": "ZeroDivisionError",
          "evalue": "division by zero",
          "traceback": [
            "\u001b[0;31m---------------------------------------------------------------------------\u001b[0m",
            "\u001b[0;31mZeroDivisionError\u001b[0m                         Traceback (most recent call last)",
            "\u001b[0;32m<ipython-input-80-6c6883c9a717>\u001b[0m in \u001b[0;36m<cell line: 0>\u001b[0;34m()\u001b[0m\n\u001b[1;32m      1\u001b[0m \u001b[0;32mfor\u001b[0m \u001b[0mi\u001b[0m \u001b[0;32min\u001b[0m \u001b[0mrange\u001b[0m\u001b[0;34m(\u001b[0m\u001b[0;36m10\u001b[0m\u001b[0;34m)\u001b[0m\u001b[0;34m:\u001b[0m\u001b[0;34m\u001b[0m\u001b[0;34m\u001b[0m\u001b[0m\n\u001b[1;32m      2\u001b[0m     \u001b[0mprint\u001b[0m\u001b[0;34m(\u001b[0m\u001b[0mi\u001b[0m\u001b[0;34m)\u001b[0m\u001b[0;34m\u001b[0m\u001b[0;34m\u001b[0m\u001b[0m\n\u001b[0;32m----> 3\u001b[0;31m     \u001b[0;36m1\u001b[0m\u001b[0;34m/\u001b[0m\u001b[0;36m0\u001b[0m\u001b[0;34m\u001b[0m\u001b[0;34m\u001b[0m\u001b[0m\n\u001b[0m",
            "\u001b[0;31mZeroDivisionError\u001b[0m: division by zero"
          ]
        }
      ]
    },
    {
      "cell_type": "code",
      "source": [
        "# 예외처리\n",
        "# 별표 4개\n",
        "\n",
        "try:\n",
        "    for i in range(10):\n",
        "        print(i)\n",
        "        1/0\n",
        "except:\n",
        "    print('애러발생 / 애러가 발생했으니 다시 시도해주세요!')\n",
        "\n",
        "print('프로그램 끝!')"
      ],
      "metadata": {
        "colab": {
          "base_uri": "https://localhost:8080/"
        },
        "id": "vcJjsJTQfGgz",
        "outputId": "b6a4a559-fcfe-4f92-f3cc-c34e729c5a77"
      },
      "execution_count": 82,
      "outputs": [
        {
          "output_type": "stream",
          "name": "stdout",
          "text": [
            "0\n",
            "애러발생 / 애러가 발생했으니 다시 시도해주세요!\n",
            "프로그램 끝!\n"
          ]
        }
      ]
    },
    {
      "cell_type": "code",
      "source": [
        "try:\n",
        "    for i in range(10):\n",
        "        print(i)\n",
        "\n",
        "except:\n",
        "    print('에러발생')\n",
        "\n",
        "print('프로그램 끝!')"
      ],
      "metadata": {
        "colab": {
          "base_uri": "https://localhost:8080/"
        },
        "id": "_XYzmdqgepza",
        "outputId": "534745a6-af80-45ca-8a75-faec19aeeb99"
      },
      "execution_count": 79,
      "outputs": [
        {
          "output_type": "stream",
          "name": "stdout",
          "text": [
            "0\n",
            "1\n",
            "2\n",
            "3\n",
            "4\n",
            "5\n",
            "6\n",
            "7\n",
            "8\n",
            "9\n",
            "프로그램 끝!\n"
          ]
        }
      ]
    },
    {
      "cell_type": "code",
      "source": [
        "# 1. 여러분은 이걸로 먹고 살 사람들입니다. 그러니 애러를 만나면 애러를 외워주세요.\n",
        "# 2. 모든 코드에 try와 except를 작성하는 것은 반대합니다. 애러가 발생할 여지가 있는 곳에만\n",
        "# 작성해주세요."
      ],
      "metadata": {
        "id": "cH6ZQTQAjETa"
      },
      "execution_count": null,
      "outputs": []
    },
    {
      "cell_type": "code",
      "source": [
        "# 이런 형태를 잘 사용하지 않습니다.\n",
        "\n",
        "try:\n",
        "    s = 1/0\n",
        "    print(s)\n",
        "except ZeroDivisionError:\n",
        "    print('0으로 나누어졌습니다!')"
      ],
      "metadata": {
        "colab": {
          "base_uri": "https://localhost:8080/"
        },
        "id": "PtPu7l8ajGKS",
        "outputId": "700ce5c7-4cfa-42d9-f94b-d4c9f7a6b444"
      },
      "execution_count": 83,
      "outputs": [
        {
          "output_type": "stream",
          "name": "stdout",
          "text": [
            "0으로 나누어졌습니다!\n"
          ]
        }
      ]
    },
    {
      "cell_type": "code",
      "source": [
        "# 이런 형태를 잘 사용하지 않습니다.\n",
        "try:\n",
        "    l = [10, 20, 30]\n",
        "    l[5]\n",
        "except ZeroDivisionError:\n",
        "    print('0으로 나누어졌습니다!')\n",
        "except IndexError:\n",
        "    print('범위가 넘어갔어요!')"
      ],
      "metadata": {
        "colab": {
          "base_uri": "https://localhost:8080/"
        },
        "id": "nxwp3qx-jXxa",
        "outputId": "bc14b627-8eaf-4f9e-f9c2-60b293014227"
      },
      "execution_count": 84,
      "outputs": [
        {
          "output_type": "stream",
          "name": "stdout",
          "text": [
            "범위가 넘어갔어요!\n"
          ]
        }
      ]
    },
    {
      "cell_type": "code",
      "source": [
        "try:\n",
        "    for i in range(10):\n",
        "        print(i)\n",
        "        1/0\n",
        "except:\n",
        "    print('애러발생 / 애러가 발생했으니 다시 시도해주세요!')\n",
        "\n",
        "print('프로그램 끝!')"
      ],
      "metadata": {
        "colab": {
          "base_uri": "https://localhost:8080/"
        },
        "id": "kNRb9_qCkBvD",
        "outputId": "5f989ceb-755b-4b76-837b-7b7b92b3bb0f"
      },
      "execution_count": 87,
      "outputs": [
        {
          "output_type": "stream",
          "name": "stdout",
          "text": [
            "0\n",
            "애러발생 / 애러가 발생했으니 다시 시도해주세요!\n",
            "프로그램 끝!\n"
          ]
        }
      ]
    },
    {
      "cell_type": "code",
      "source": [
        "# test 코드 작성할 때 이 코드를 자주 사용합니다.\n",
        "\n",
        "test = 'hello'\n",
        "\n",
        "assert test == 'hello', '에러 메시지 1' #1\n",
        "assert test == 'world', '에러 메시지 2' #2\n",
        "assert test + 3 == 5, '에러 메시지 3' #3"
      ],
      "metadata": {
        "colab": {
          "base_uri": "https://localhost:8080/",
          "height": 201
        },
        "id": "wOm8DxPbkESj",
        "outputId": "b54b8eb1-e274-4124-f215-db740ba3bbae"
      },
      "execution_count": 88,
      "outputs": [
        {
          "output_type": "error",
          "ename": "AssertionError",
          "evalue": "에러 메시지 2",
          "traceback": [
            "\u001b[0;31m---------------------------------------------------------------------------\u001b[0m",
            "\u001b[0;31mAssertionError\u001b[0m                            Traceback (most recent call last)",
            "\u001b[0;32m<ipython-input-88-7c5d2869f783>\u001b[0m in \u001b[0;36m<cell line: 0>\u001b[0;34m()\u001b[0m\n\u001b[1;32m      4\u001b[0m \u001b[0;34m\u001b[0m\u001b[0m\n\u001b[1;32m      5\u001b[0m \u001b[0;32massert\u001b[0m \u001b[0mtest\u001b[0m \u001b[0;34m==\u001b[0m \u001b[0;34m'hello'\u001b[0m\u001b[0;34m,\u001b[0m \u001b[0;34m'에러 메시지 1'\u001b[0m \u001b[0;31m#1\u001b[0m\u001b[0;34m\u001b[0m\u001b[0;34m\u001b[0m\u001b[0m\n\u001b[0;32m----> 6\u001b[0;31m \u001b[0;32massert\u001b[0m \u001b[0mtest\u001b[0m \u001b[0;34m==\u001b[0m \u001b[0;34m'world'\u001b[0m\u001b[0;34m,\u001b[0m \u001b[0;34m'에러 메시지 2'\u001b[0m \u001b[0;31m#2\u001b[0m\u001b[0;34m\u001b[0m\u001b[0;34m\u001b[0m\u001b[0m\n\u001b[0m\u001b[1;32m      7\u001b[0m \u001b[0;32massert\u001b[0m \u001b[0mtest\u001b[0m \u001b[0;34m+\u001b[0m \u001b[0;36m3\u001b[0m \u001b[0;34m==\u001b[0m \u001b[0;36m5\u001b[0m\u001b[0;34m,\u001b[0m \u001b[0;34m'에러 메시지 3'\u001b[0m \u001b[0;31m#3\u001b[0m\u001b[0;34m\u001b[0m\u001b[0;34m\u001b[0m\u001b[0m\n",
            "\u001b[0;31mAssertionError\u001b[0m: 에러 메시지 2"
          ]
        }
      ]
    },
    {
      "cell_type": "code",
      "source": [
        "# '11111122222312312312312344433322111'\n",
        "# => 1은 !로\n",
        "# => 2는 @로\n",
        "# => 3은 #로\n",
        "# => 4는 $로\n",
        "\n",
        "s = '11111122222312312312312344433322111'\n",
        "s.replace('1','!')"
      ],
      "metadata": {
        "colab": {
          "base_uri": "https://localhost:8080/",
          "height": 35
        },
        "id": "E1nxXTHukLHq",
        "outputId": "3beae8c4-5182-4915-ae1e-c7235a1448a2"
      },
      "execution_count": 89,
      "outputs": [
        {
          "output_type": "execute_result",
          "data": {
            "text/plain": [
              "'!!!!!!222223!23!23!23!2344433322!!!'"
            ],
            "application/vnd.google.colaboratory.intrinsic+json": {
              "type": "string"
            }
          },
          "metadata": {},
          "execution_count": 89
        }
      ]
    },
    {
      "cell_type": "code",
      "source": [
        "# 메서드 체이닝\n",
        "# '11111122222312312312312344433322111'\n",
        "# => 1은 !로\n",
        "# => 2는 @로\n",
        "# => 3은 #로\n",
        "# => 4는 $로\n",
        "\n",
        "s = '11111122222312312312312344433322111'\n",
        "s.replace('1', '!').replace('2', '@').replace('3', '#').replace('4', '$')"
      ],
      "metadata": {
        "colab": {
          "base_uri": "https://localhost:8080/",
          "height": 35
        },
        "id": "0qi-TLx7kfi9",
        "outputId": "1a31d1c4-81f5-4364-9374-74eb872ba915"
      },
      "execution_count": 90,
      "outputs": [
        {
          "output_type": "execute_result",
          "data": {
            "text/plain": [
              "'!!!!!!@@@@@#!@#!@#!@#!@#$$$###@@!!!'"
            ],
            "application/vnd.google.colaboratory.intrinsic+json": {
              "type": "string"
            }
          },
          "metadata": {},
          "execution_count": 90
        }
      ]
    },
    {
      "cell_type": "code",
      "source": [
        "s = '11111122222312312312312344433322111'\n",
        "ss = s.replace('1', '!')\n",
        "ss.replace('2', '@')\n",
        "sss = ss.replace('3', '#')\n",
        "sss\n",
        "# ..."
      ],
      "metadata": {
        "colab": {
          "base_uri": "https://localhost:8080/",
          "height": 35
        },
        "id": "nOQRwejOkoJD",
        "outputId": "c718d65e-919d-4ffd-8641-f4f51d7638d0"
      },
      "execution_count": 91,
      "outputs": [
        {
          "output_type": "execute_result",
          "data": {
            "text/plain": [
              "'!!!!!!22222#!2#!2#!2#!2#444###22!!!'"
            ],
            "application/vnd.google.colaboratory.intrinsic+json": {
              "type": "string"
            }
          },
          "metadata": {},
          "execution_count": 91
        }
      ]
    },
    {
      "cell_type": "code",
      "source": [
        "# 이렇게 반환값이 중간에 list로 바뀌면 사용하지 못합니다.\n",
        "s = '11111 2222 33333'\n",
        "s.replace('1', '!').split(' ') # 이 다음에 replace를 연달아 사용하진 못합니다. 여기까지가 리스트이기 때문입니다."
      ],
      "metadata": {
        "colab": {
          "base_uri": "https://localhost:8080/"
        },
        "id": "2n2tHmAYlEoJ",
        "outputId": "b3a6a4bf-4e0b-4d72-9ce4-24fa219208c4"
      },
      "execution_count": 92,
      "outputs": [
        {
          "output_type": "execute_result",
          "data": {
            "text/plain": [
              "['!!!!!', '2222', '33333']"
            ]
          },
          "metadata": {},
          "execution_count": 92
        }
      ]
    },
    {
      "cell_type": "code",
      "source": [
        "# 일급함수: 함수를 값으로 취급하는 것\n",
        "\n",
        "x = 10 # 10이라는 값이 들어가는 자리에 함수가 모두 들어갈 수 있다는 얘기입니다.\n",
        "y = print\n",
        "a = sum\n",
        "b = lambda x: x ** 2\n",
        "c = hello"
      ],
      "metadata": {
        "colab": {
          "base_uri": "https://localhost:8080/",
          "height": 183
        },
        "id": "JeuFyzexo7MM",
        "outputId": "ad6683c2-0ac9-45e3-c56d-90f20c3d973e"
      },
      "execution_count": 97,
      "outputs": [
        {
          "output_type": "error",
          "ename": "NameError",
          "evalue": "name 'hello' is not defined",
          "traceback": [
            "\u001b[0;31m---------------------------------------------------------------------------\u001b[0m",
            "\u001b[0;31mNameError\u001b[0m                                 Traceback (most recent call last)",
            "\u001b[0;32m<ipython-input-97-b5c9afb259bd>\u001b[0m in \u001b[0;36m<cell line: 0>\u001b[0;34m()\u001b[0m\n\u001b[1;32m      5\u001b[0m \u001b[0ma\u001b[0m \u001b[0;34m=\u001b[0m \u001b[0msum\u001b[0m\u001b[0;34m\u001b[0m\u001b[0;34m\u001b[0m\u001b[0m\n\u001b[1;32m      6\u001b[0m \u001b[0mb\u001b[0m \u001b[0;34m=\u001b[0m \u001b[0;32mlambda\u001b[0m \u001b[0mx\u001b[0m\u001b[0;34m:\u001b[0m \u001b[0mx\u001b[0m \u001b[0;34m**\u001b[0m \u001b[0;36m2\u001b[0m\u001b[0;34m\u001b[0m\u001b[0;34m\u001b[0m\u001b[0m\n\u001b[0;32m----> 7\u001b[0;31m \u001b[0mc\u001b[0m \u001b[0;34m=\u001b[0m \u001b[0mhello\u001b[0m\u001b[0;34m\u001b[0m\u001b[0;34m\u001b[0m\u001b[0m\n\u001b[0m",
            "\u001b[0;31mNameError\u001b[0m: name 'hello' is not defined"
          ]
        }
      ]
    },
    {
      "cell_type": "code",
      "source": [
        "a([10, 20, 30])"
      ],
      "metadata": {
        "colab": {
          "base_uri": "https://localhost:8080/"
        },
        "id": "SMyotNVrpiCU",
        "outputId": "58f35ccd-1f5e-4773-bbf6-7edbea33d5a6"
      },
      "execution_count": 98,
      "outputs": [
        {
          "output_type": "execute_result",
          "data": {
            "text/plain": [
              "60"
            ]
          },
          "metadata": {},
          "execution_count": 98
        }
      ]
    },
    {
      "cell_type": "code",
      "source": [
        "def add(a, b):\n",
        "    return a + b\n",
        "\n",
        "def mul(a, b):\n",
        "    return a * b\n",
        "\n",
        "def div(a, b):\n",
        "    return a // b\n",
        "\n",
        "def sub(a, b):\n",
        "    return a - b\n",
        "\n",
        "\n",
        "functions = [add, mul, div, sub]\n",
        "functions[0](10, 20)"
      ],
      "metadata": {
        "colab": {
          "base_uri": "https://localhost:8080/"
        },
        "id": "tHi68EHdpjoD",
        "outputId": "7f554811-b8b2-4ad5-88c6-a4b338f7d19b"
      },
      "execution_count": 99,
      "outputs": [
        {
          "output_type": "execute_result",
          "data": {
            "text/plain": [
              "30"
            ]
          },
          "metadata": {},
          "execution_count": 99
        }
      ]
    },
    {
      "cell_type": "code",
      "source": [
        "# 함수를 아규먼트로 넣는 것\n",
        "# 함수를 리턴 값으로 넣는 것\n",
        "\n",
        "def a(x):\n",
        "    return x ** 2\n",
        "\n",
        "def b(x):\n",
        "    return x ** 3\n",
        "\n",
        "def cal(f, ff, x):\n",
        "    return f(x) + ff(x)\n",
        "\n",
        "cal(a, b, 2)"
      ],
      "metadata": {
        "colab": {
          "base_uri": "https://localhost:8080/"
        },
        "id": "Afj5CLEOqo5r",
        "outputId": "06d0659b-9ddf-4898-a38c-70ff603c4241"
      },
      "execution_count": 100,
      "outputs": [
        {
          "output_type": "execute_result",
          "data": {
            "text/plain": [
              "12"
            ]
          },
          "metadata": {},
          "execution_count": 100
        }
      ]
    },
    {
      "cell_type": "code",
      "source": [
        "def a(x):\n",
        "    return x ** 2\n",
        "\n",
        "def b(x):\n",
        "    return x ** 3\n",
        "\n",
        "def cal(f):\n",
        "    return b"
      ],
      "metadata": {
        "id": "nnJ5_qKur49T"
      },
      "execution_count": 101,
      "outputs": []
    },
    {
      "cell_type": "code",
      "source": [
        "# 함수를 아규먼트로 넣는 것\n",
        "# 함수를 리턴 값으로 넣는 것\n",
        "\n",
        "def a(x):\n",
        "    return x ** 2\n",
        "\n",
        "def b(x):\n",
        "    return x ** 3\n",
        "\n",
        "def cal(f):\n",
        "    return b\n",
        "\n",
        "cal(a)\n",
        "cal(a)(2)"
      ],
      "metadata": {
        "colab": {
          "base_uri": "https://localhost:8080/"
        },
        "id": "JTZpZTqpseZ7",
        "outputId": "232ea362-502c-4109-a319-627cc405a44f"
      },
      "execution_count": 102,
      "outputs": [
        {
          "output_type": "execute_result",
          "data": {
            "text/plain": [
              "8"
            ]
          },
          "metadata": {},
          "execution_count": 102
        }
      ]
    },
    {
      "cell_type": "code",
      "source": [
        "# 함수를 아규먼트로 넣는 것\n",
        "# 함수를 리턴 값으로 넣는 것\n",
        "# 고차 함수(Higher-order functions)는 하나 이상의 함수를 인자로 받아들이거나 함수를 결과로 반환하는 함수입니다.\n",
        "# 이 예제에서는 cal이 고차함수입니다.\n",
        "\n",
        "def a(x):\n",
        "    return x ** 2\n",
        "\n",
        "def b(x):\n",
        "    return x ** 3\n",
        "\n",
        "def cal(f, ff, x):\n",
        "    return f(x) + ff(x)\n",
        "\n",
        "cal(a, b, 2)"
      ],
      "metadata": {
        "colab": {
          "base_uri": "https://localhost:8080/"
        },
        "id": "Rp2eQ7mps9Lr",
        "outputId": "4b3c80ae-1dc7-4ebc-a797-bb70da79865b"
      },
      "execution_count": 103,
      "outputs": [
        {
          "output_type": "execute_result",
          "data": {
            "text/plain": [
              "12"
            ]
          },
          "metadata": {},
          "execution_count": 103
        }
      ]
    },
    {
      "cell_type": "code",
      "source": [
        "# 함수를 아규먼트로 넣는 것\n",
        "# 함수를 리턴 값으로 넣는 것\n",
        "# 고차 함수(Higher-order functions)는 하나 이상의 함수를 인자로 받아들이거나 함수를 결과로 반환하는 함수입니다.\n",
        "# 이 예제에서는 cal이 고차함수입니다.\n",
        "\n",
        "def a(x):\n",
        "    return x ** 2\n",
        "\n",
        "def b(x):\n",
        "    return x ** 3\n",
        "\n",
        "def cal(f):\n",
        "    return b\n",
        "\n",
        "cal(a)\n",
        "cal(a)(2)"
      ],
      "metadata": {
        "colab": {
          "base_uri": "https://localhost:8080/"
        },
        "id": "XzFN6Xcns_OT",
        "outputId": "6b990d04-0359-47c2-f5de-ee3f588157fe"
      },
      "execution_count": 104,
      "outputs": [
        {
          "output_type": "execute_result",
          "data": {
            "text/plain": [
              "8"
            ]
          },
          "metadata": {},
          "execution_count": 104
        }
      ]
    },
    {
      "cell_type": "markdown",
      "source": [
        "# 재귀함수"
      ],
      "metadata": {
        "id": "iXspQ7pFv7F7"
      }
    },
    {
      "cell_type": "code",
      "source": [
        "# 실행하지 마세요.\n",
        "# def hello():\n",
        "#     print(1)\n",
        "#     return hello()"
      ],
      "metadata": {
        "id": "0c7RokYFtDHi"
      },
      "execution_count": 106,
      "outputs": []
    },
    {
      "cell_type": "code",
      "source": [
        "result = 1\n",
        "for i in range(1,6):\n",
        "    result *= i\n",
        "result # 5! == 5*4*3*2*1"
      ],
      "metadata": {
        "colab": {
          "base_uri": "https://localhost:8080/"
        },
        "id": "0bUQgsDGwaZy",
        "outputId": "74a03840-b454-4b9c-d76c-c34a949e9acc"
      },
      "execution_count": 108,
      "outputs": [
        {
          "output_type": "execute_result",
          "data": {
            "text/plain": [
              "120"
            ]
          },
          "metadata": {},
          "execution_count": 108
        }
      ]
    },
    {
      "cell_type": "code",
      "source": [
        "def factorial(n):\n",
        "    if n == 1:\n",
        "        return 1\n",
        "    else:\n",
        "        return n * factorial(n-1)\n",
        "\n",
        "factorial(5)\n",
        "\n",
        "# 함수 아규먼트         return 값\n",
        "# factorial(5)          5 * factorial(4)  == 5 * 4 * 3 * 2 * 1\n",
        "# factorial(4)          4 * factorial(3)  == 4 * 3 * 2 * 1\n",
        "# factorial(3)          3 * factorial(2)  == 3 * 2 * 1\n",
        "# factorial(2)          2 * factorial(1)  == 2 * 1\n",
        "# factorial(1)          1"
      ],
      "metadata": {
        "colab": {
          "base_uri": "https://localhost:8080/"
        },
        "id": "c1trMQv2widB",
        "outputId": "926ddd08-6402-4103-dffb-0edb8138e764"
      },
      "execution_count": 109,
      "outputs": [
        {
          "output_type": "execute_result",
          "data": {
            "text/plain": [
              "120"
            ]
          },
          "metadata": {},
          "execution_count": 109
        }
      ]
    },
    {
      "cell_type": "markdown",
      "source": [
        "# 클로저\n",
        "\n",
        "* 클로징 되어야 하는 메모리 영역에 접근할 수 있는 기법"
      ],
      "metadata": {
        "id": "vboRTLqHy0F1"
      }
    },
    {
      "cell_type": "code",
      "source": [
        "def outer_function(x):\n",
        "    def inner_function(y):\n",
        "        return x + y\n",
        "    return inner_function\n",
        "\n",
        "inner = outer_function(100)\n",
        "inner(200) # inner\n",
        "\n",
        "# 위 코드는 아래 코드와 같습니다.\n",
        "# def inner(y):\n",
        "#     return 100 + y"
      ],
      "metadata": {
        "colab": {
          "base_uri": "https://localhost:8080/"
        },
        "id": "9k1snXmVy4tj",
        "outputId": "cc1b1c95-4b29-419f-b916-8a274db553d2"
      },
      "execution_count": 110,
      "outputs": [
        {
          "output_type": "execute_result",
          "data": {
            "text/plain": [
              "300"
            ]
          },
          "metadata": {},
          "execution_count": 110
        }
      ]
    },
    {
      "cell_type": "code",
      "source": [
        "def f(x):\n",
        "    def ff(y):\n",
        "        return y ** x\n",
        "    return ff\n",
        "\n",
        "a = f(2)\n",
        "a(2)\n",
        "a(3)\n",
        "a(4)\n",
        "b = f(3)\n",
        "b(2)\n",
        "b(3)\n",
        "b(4)"
      ],
      "metadata": {
        "colab": {
          "base_uri": "https://localhost:8080/"
        },
        "id": "6HAx_7K1y8_7",
        "outputId": "8190136e-2c8f-412c-f06c-2936378bd2c1"
      },
      "execution_count": 111,
      "outputs": [
        {
          "output_type": "execute_result",
          "data": {
            "text/plain": [
              "64"
            ]
          },
          "metadata": {},
          "execution_count": 111
        }
      ]
    },
    {
      "cell_type": "code",
      "source": [
        "def login(function):\n",
        "    pass\n",
        "\n",
        "@login\n",
        "def 게시판읽기():\n",
        "    pass"
      ],
      "metadata": {
        "id": "SZkZDuqd0w1O"
      },
      "execution_count": null,
      "outputs": []
    },
    {
      "cell_type": "code",
      "source": [
        "# 클래스를 잘 모른다? 서비스 개발에 문제가 생깁니다. Django로 들어갈 땐 크리티컬 합니다.\n",
        "# 일급함수, 고차함수를 잘 모른다? 괜찮습니다.\n",
        "# 클로저를 잘 모른다? 괜찮습니다.\n",
        "# 데코레이터 잘 모른다? 괜찮습니다."
      ],
      "metadata": {
        "id": "WdNStBmI091z"
      },
      "execution_count": null,
      "outputs": []
    },
    {
      "cell_type": "code",
      "source": [
        "def simple_decorator(function):\n",
        "    def wrapper():\n",
        "        print(\"전\")\n",
        "        function()\n",
        "        print(\"후\")\n",
        "    return wrapper\n",
        "\n",
        "@simple_decorator\n",
        "def hello():\n",
        "    print(\"Hello, World!\")\n",
        "\n",
        "hello() # 데코레이터가 없는 상태에서는 simple_decorator(hello)() 와 같습니다."
      ],
      "metadata": {
        "id": "kzVdUIJg1au4"
      },
      "execution_count": null,
      "outputs": []
    }
  ]
}